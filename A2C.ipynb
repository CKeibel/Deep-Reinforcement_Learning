{
  "nbformat": 4,
  "nbformat_minor": 0,
  "metadata": {
    "colab": {
      "name": "A2C.ipynb",
      "provenance": [],
      "collapsed_sections": [],
      "toc_visible": true,
      "authorship_tag": "ABX9TyNRgAZ+1mR9VcYohJZr6PoS"
    },
    "kernelspec": {
      "name": "python3",
      "display_name": "Python 3"
    }
  },
  "cells": [
    {
      "cell_type": "markdown",
      "metadata": {
        "id": "EOafjdahyQ4x"
      },
      "source": [
        "# TODO:\n",
        "* checking hyperparameters from paper\n",
        "* checking used parameters"
      ]
    },
    {
      "cell_type": "code",
      "metadata": {
        "id": "6s7lP8w_qT-g"
      },
      "source": [
        "import gym\n",
        "import numpy as np\n",
        "from matplotlib import pyplot as plt"
      ],
      "execution_count": 9,
      "outputs": []
    },
    {
      "cell_type": "markdown",
      "metadata": {
        "id": "isafSyFJqqbC"
      },
      "source": [
        "# **Auswahl des Spiels**\n",
        "\n",
        "[Hier](https://gym.openai.com/envs/#atari) ist eine vollständige Liste der verfügbaren Spiele zu finden. Um ein Environment zu erstellen muss der vollständige Name des Spiels als String übergeben werden.\n",
        "\n",
        "Beispiel:\n",
        "\n",
        "```python\n",
        "game = \"MsPacman-v0\"\n",
        "```"
      ]
    },
    {
      "cell_type": "code",
      "metadata": {
        "id": "9oFwznyfqtY8"
      },
      "source": [
        "# Hier kann das Spiel übergeben werden\n",
        "game = \"Breakout-v0\""
      ],
      "execution_count": 2,
      "outputs": []
    },
    {
      "cell_type": "markdown",
      "metadata": {
        "id": "JZFpCCiUqxec"
      },
      "source": [
        "# **Preprocessing**\n",
        "[Stable Baselines](https://github.com/openai/baselines/blob/master/baselines/common/atari_wrappers.py)\n"
      ]
    },
    {
      "cell_type": "markdown",
      "metadata": {
        "id": "K56-9gA8q2cM"
      },
      "source": [
        "### Fire Wrapper"
      ]
    },
    {
      "cell_type": "code",
      "metadata": {
        "id": "H7xfJ9C1q47O"
      },
      "source": [
        "class FireResetEnv(gym.Wrapper):\n",
        "    def __init__(self, env):\n",
        "        gym.Wrapper.__init__(self, env) \n",
        "        self.env.reset()\n",
        "\n",
        "    def reset(self, **kwargs):\n",
        "        self.env.reset(**kwargs)\n",
        "        observation, _, _, _ = self.env.step(env.unwrapped.get_action_meanings().index('FIRE'))\n",
        "\n",
        "        return observation"
      ],
      "execution_count": 3,
      "outputs": []
    },
    {
      "cell_type": "markdown",
      "metadata": {
        "id": "ukAIUaihrUBd"
      },
      "source": [
        "### Resize & Grayscale Wrapper"
      ]
    },
    {
      "cell_type": "code",
      "metadata": {
        "id": "IFE3KyHWrN-1"
      },
      "source": [
        "from gym import spaces\n",
        "import cv2\n",
        "\n",
        "class WarpFrame(gym.ObservationWrapper):\n",
        "    def __init__(self, env):\n",
        "        \"\"\"\n",
        "        Warp frames to 84x84 as done in the Nature paper and later work.\n",
        "        :param env: (Gym Environment) the environment\n",
        "        \"\"\"\n",
        "        gym.ObservationWrapper.__init__(self, env)\n",
        "        self.width = 84\n",
        "        self.height = 84\n",
        "        self.observation_space = spaces.Box(low=0, high=255, shape=(self.height, self.width, 1),\n",
        "                                            dtype=env.observation_space.dtype)\n",
        "        \n",
        "    def observation(self, frame):\n",
        "        \"\"\"\n",
        "        returns the current observation from a frame\n",
        "        :param frame: ([int] or [float]) environment frame\n",
        "        :return: ([int] or [float]) the observation\n",
        "        \"\"\"\n",
        "        frame = cv2.cvtColor(frame, cv2.COLOR_RGB2GRAY)\n",
        "        frame = cv2.resize(frame, (self.width, self.height), interpolation=cv2.INTER_AREA)\n",
        "        return frame[:, :, None]"
      ],
      "execution_count": 6,
      "outputs": []
    },
    {
      "cell_type": "markdown",
      "metadata": {
        "id": "j_dlaqFvrkYv"
      },
      "source": [
        "<font color=\"red\">[Optional]</font> - Visualisierung"
      ]
    },
    {
      "cell_type": "code",
      "metadata": {
        "id": "kb1LXTXKs6qH",
        "outputId": "a3d8b560-47a6-4caa-e35d-88ba94535877",
        "colab": {
          "base_uri": "https://localhost:8080/",
          "height": 285
        }
      },
      "source": [
        "''' \n",
        "[OPTIONAL]\n",
        "\n",
        "Diese Zelle ist optional ausführbar und dient zur Visualisierung des Wrappers.\n",
        "Die Zelle hat keinen Einfluss auf den Agenten\n",
        "\n",
        "'''\n",
        "\n",
        "def WarpFrameEnv(env_name):\n",
        "  env = gym.make(env_name)\n",
        "  env = WarpFrame(env)\n",
        "  if 'FIRE' in env.unwrapped.get_action_meanings():\n",
        "    env = FireResetEnv(env)\n",
        "  return env\n",
        "\n",
        "normal_env = gym.make(game)\n",
        "wrapped_env = WarpFrameEnv(game)\n",
        "\n",
        "normal_env.reset()\n",
        "wrapped_env.reset()\n",
        "action = normal_env.action_space.sample()\n",
        "\n",
        "normal_state, _, _, _ = normal_env.step(action)\n",
        "wrapped_state, _, _, _ = wrapped_env.step(action)\n",
        "\n",
        "wrapped_state = wrapped_state[: , :, 0]\n",
        "\n",
        "fig, axs = plt.subplots(1, 2)\n",
        "fig.suptitle('Warp Frame', fontsize=20)\n",
        "axs[0].imshow(normal_state)\n",
        "axs[0].set_title(\"Normal\", fontsize=16)\n",
        "axs[1].imshow(wrapped_state, cmap=\"gray\")\n",
        "axs[1].set_title(\"Warp Frame\", fontsize=16)\n",
        "plt.show()\n",
        "\n"
      ],
      "execution_count": 26,
      "outputs": [
        {
          "output_type": "display_data",
          "data": {
            "image/png": "[encoded data removed]",
            "text/plain": [
              "<Figure size 432x288 with 2 Axes>"
            ]
          },
          "metadata": {
            "tags": [],
            "needs_background": "light"
          }
        }
      ]
    },
    {
      "cell_type": "markdown",
      "metadata": {
        "id": "FjZQ6BOPq90B"
      },
      "source": [
        "### Frame Stack Wrapper"
      ]
    },
    {
      "cell_type": "code",
      "metadata": {
        "id": "qYTs63ANrFyb"
      },
      "source": [
        "from collections import deque\n",
        "\n",
        "class FrameStack(gym.Wrapper):\n",
        "    def __init__(self, env):\n",
        "      super().__init__(env)\n",
        "      self.frames = deque(maxlen=4)\n",
        "      low = np.repeat(self.observation_space.low[np.newaxis, ...], repeats=4, axis=0)\n",
        "      high = np.repeat(self.observation_space.high[np.newaxis, ...], repeats=4, axis=0)\n",
        "      self.observation_space = gym.spaces.Box(low=low, high=high, dtype=self.observation_space.dtype)\n",
        "\n",
        "    def step(self, action):\n",
        "      obs, reward, done, info = self.env.step(action)\n",
        "      self.frames.append(obs)\n",
        "      frame_stack = np.asarray(self.frames, dtype=np.float32)\n",
        "      frame_stack = np.moveaxis(frame_stack, 0, -1).reshape(1, 84, 84, -1)\n",
        "      return frame_stack, reward, done, info\n",
        "\n",
        "    def reset(self, **kwargs):\n",
        "        obs = self.env.reset(**kwargs)\n",
        "        for _ in range(4):\n",
        "          self.frames.append(obs)\n",
        "        frame_stack = np.asarray(self.frames, dtype=np.float32)\n",
        "        frame_stack = np.moveaxis(frame_stack, 0, -1).reshape(1, 84, 84, -1)\n",
        "        return frame_stack"
      ],
      "execution_count": 4,
      "outputs": []
    },
    {
      "cell_type": "markdown",
      "metadata": {
        "id": "T0FlSvkkqdY1"
      },
      "source": [
        "<font color=\"red\">[Optional]</font> - Visualisierung\n",
        "\n"
      ]
    },
    {
      "cell_type": "code",
      "metadata": {
        "id": "BFsMn2h-s04j",
        "outputId": "4b6a0c7e-eb55-41e3-eb30-19873069d047",
        "colab": {
          "base_uri": "https://localhost:8080/",
          "height": 311
        }
      },
      "source": [
        "''' \n",
        "[OPTIONAL]\n",
        "\n",
        "Diese Zelle ist optional ausführbar und dient zur Visualisierung des Wrappers.\n",
        "Die Zelle hat keinen Einfluss auf den Agenten\n",
        "\n",
        "'''\n",
        "\n",
        "def FrameStackEnv(env_name):\n",
        "  env = gym.make(env_name)\n",
        "  env = WarpFrame(env)\n",
        "  if 'FIRE' in env.unwrapped.get_action_meanings():\n",
        "    env = FireResetEnv(env)\n",
        "  env = FrameStack(env)\n",
        "  return env\n",
        "\n",
        "env = FrameStackEnv(game)\n",
        "env.reset()\n",
        "\n",
        "for _ in range(1, 5):\n",
        "  # Führe eine zufällige Aktion aus\n",
        "  state, _, _, _ = env.step(env.action_space.sample())\n",
        "\n",
        "# Stack umformen, damit das Plotten der vier Bilder gelingt\n",
        "state = state.reshape(84, 84,4)\n",
        "\n",
        "# Frame Stack plotten\n",
        "fig, axs = plt.subplots(1,4, figsize=(15, 5))\n",
        "fig.suptitle('Frame Stack', fontsize=20)\n",
        "for i in range(state.shape[2]):\n",
        "  axs[i].imshow(state[:, :, i], cmap=\"gray\")\n",
        "  axs[i].set_title(\"Frame \"+str(i+1), fontsize=16)\n",
        "plt.show()"
      ],
      "execution_count": 29,
      "outputs": [
        {
          "output_type": "display_data",
          "data": {
            "image/png": "[encoded data removed]",
            "text/plain": [
              "<Figure size 1080x360 with 4 Axes>"
            ]
          },
          "metadata": {
            "tags": [],
            "needs_background": "light"
          }
        }
      ]
    },
    {
      "cell_type": "markdown",
      "metadata": {
        "id": "D1hORw-SrRKu"
      },
      "source": [
        "### Erstellen des Environments"
      ]
    },
    {
      "cell_type": "code",
      "metadata": {
        "id": "uyVNp_0hrOPK"
      },
      "source": [
        "def make_env(env_name):\n",
        "  env = gym.make(env_name)\n",
        "  env = WarpFrame(env)\n",
        "  if 'FIRE' in env.unwrapped.get_action_meanings():\n",
        "    env = FireResetEnv(env)\n",
        "  env = FrameStack(env)\n",
        "  return env\n",
        "\n",
        "env = make_env(game)"
      ],
      "execution_count": 13,
      "outputs": []
    },
    {
      "cell_type": "markdown",
      "metadata": {
        "id": "0uAIJ4QYrja0"
      },
      "source": [
        "# **Actor Network und Critic Network**"
      ]
    },
    {
      "cell_type": "code",
      "metadata": {
        "id": "aGNNFrCgr0MM"
      },
      "source": [
        "import tensorflow as tf\n",
        "from tensorflow.keras.layers import Activation\n",
        "from tensorflow.keras.layers import Conv2D\n",
        "from tensorflow.keras.layers import Dense\n",
        "from tensorflow.keras.layers import Flatten\n",
        "from tensorflow.keras.layers import Input\n",
        "from tensorflow.keras.models import Model\n",
        "from tensorflow.keras.optimizers import Adam\n",
        "\n",
        "# Network Parameter\n",
        "INPUT_SHAPE = (84, 84, 4) # (Höhe, Breite, Frames)\n",
        "ACTOR_OUTPUT = env.action_space.n # Anzahl der möglichen Aktionen\n",
        "CRITIC_OUTPUT = 1 # Bewertung der gewählten Aktion\n",
        "LEARNING_RATE = 0.00025\n",
        "\n",
        "# neuronales Netz\n",
        "net_input = Input(shape=INPUT_SHAPE)\n",
        "x = Conv2D(filters=32, kernel_size=(8, 8), strides=(4, 4), padding=\"same\")(net_input)\n",
        "x = Activation(\"relu\")(x)\n",
        "x = Conv2D(filters=64, kernel_size=(4, 4), strides=(2, 2), padding=\"same\")(x)\n",
        "x = Activation(\"relu\")(x)\n",
        "x = Conv2D(filters=64, kernel_size=(3, 3), strides=(1, 1), padding=\"same\")(x)\n",
        "x = Activation(\"relu\")(x)\n",
        "x = Flatten()(x)\n",
        "x = Dense(256)(x)\n",
        "x = Activation(\"relu\")(x)\n",
        "\n",
        "\n",
        "'''Aufspalten des Netzes in Actor und Critic'''\n",
        "\n",
        "# Actor - wählt eine Aktion\n",
        "actor_x = Dense(ACTOR_OUTPUT)(x)\n",
        "actor_output = Activation(\"softmax\")(actor_x)\n",
        "\n",
        "ACTOR = Model(inputs=net_input, outputs=actor_output)\n",
        "ACTOR.compile(loss=\"categorical_crossentropy\", optimizer=Adam(lr=LEARNING_RATE))\n",
        "\n",
        "# Critic - bewertet gewählte Aktion\n",
        "critic_x = Dense(CRITIC_OUTPUT)(x)\n",
        "critic_output = Activation(\"linear\")(critic_x)\n",
        "\n",
        "CRITIC = Model(inputs=net_input, outputs=critic_output)\n",
        "CRITIC.compile(loss=\"mse\", optimizer=Adam(lr=LEARNING_RATE))"
      ],
      "execution_count": null,
      "outputs": []
    }
  ]
}