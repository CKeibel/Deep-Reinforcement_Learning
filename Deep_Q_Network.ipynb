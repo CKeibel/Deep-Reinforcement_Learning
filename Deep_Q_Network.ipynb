{
  "nbformat": 4,
  "nbformat_minor": 0,
  "metadata": {
    "colab": {
      "name": "Deep_Q-Network.ipynb",
      "provenance": [],
      "collapsed_sections": [],
      "authorship_tag": "ABX9TyOPZ+/yyJxT4h7cKemq/Ir9"
    },
    "kernelspec": {
      "name": "python3",
      "display_name": "Python 3"
    },
    "accelerator": "GPU"
  },
  "cells": [
    {
      "cell_type": "markdown",
      "metadata": {
        "id": "iIlX3bscb_8H"
      },
      "source": [
        "# TODO:\n",
        "\n",
        "\n",
        "*   Make the wrapper clearer and easier to read\n",
        "*   create env\n",
        "* create NN and Targetnetwork\n",
        "* Replay Buffer\n",
        "* Experience Replay\n",
        "* get_action -> Epsilon Greedy\n",
        "* train loop\n",
        "* save weights\n",
        "* load weight\n",
        "* play game\n"
      ]
    },
    {
      "cell_type": "code",
      "metadata": {
        "id": "q9xfV_VJakaI"
      },
      "source": [
        "import gym\n",
        "import numpy as np"
      ],
      "execution_count": 42,
      "outputs": []
    },
    {
      "cell_type": "markdown",
      "metadata": {
        "id": "Hxwx0hgyS9l_"
      },
      "source": [
        "# **Auswahl des Spiels**\n",
        "\n",
        "[Hier](https://gym.openai.com/envs/#atari) ist eine vollständige Liste der verfügbaren Spiele zu finden. Um ein Environment zu erstellen muss der vollständige Name des Spiels als String übergeben werden.\n",
        "\n",
        "Beispiel:\n",
        "\n",
        "```python\n",
        "game = \"MsPacman-v0\"\n",
        "```"
      ]
    },
    {
      "cell_type": "code",
      "metadata": {
        "id": "zW8iwvvZUBxy"
      },
      "source": [
        "# Hier kann das Spiel übergeben werden\n",
        "game = \"MsPacman-v0\"#\"Assault-v0\""
      ],
      "execution_count": 43,
      "outputs": []
    },
    {
      "cell_type": "markdown",
      "metadata": {
        "id": "HkVT49we0eiY"
      },
      "source": [
        "# **Preprocessing**\n",
        "[Stable Baselines](https://github.com/openai/baselines/blob/master/baselines/common/atari_wrappers.py)\n"
      ]
    },
    {
      "cell_type": "markdown",
      "metadata": {
        "id": "-oHRVfJL9TxH"
      },
      "source": [
        "### Fire Wrapper"
      ]
    },
    {
      "cell_type": "code",
      "metadata": {
        "id": "GxYChLgl0aQu"
      },
      "source": [
        "class FireResetEnv(gym.Wrapper):\n",
        "    def __init__(self, env):\n",
        "        gym.Wrapper.__init__(self, env) \n",
        "        self.env.reset()\n",
        "\n",
        "    def reset(self, **kwargs):\n",
        "        self.env.reset(**kwargs)\n",
        "        observation, _, _, _ = self.env.step(env.unwrapped.get_action_meanings().index('FIRE'))\n",
        "\n",
        "        return observation"
      ],
      "execution_count": 44,
      "outputs": []
    },
    {
      "cell_type": "markdown",
      "metadata": {
        "id": "jiTyOTbc9Zg6"
      },
      "source": [
        "### Frame Stack Wrapper"
      ]
    },
    {
      "cell_type": "code",
      "metadata": {
        "id": "Om-UoM5XBjSE"
      },
      "source": [
        "class LazyFrames(object):\n",
        "    def __init__(self, frames):\n",
        "        \"\"\"\n",
        "        This object ensures that common frames between the observations are only stored once.\n",
        "        It exists purely to optimize memory usage which can be huge for DQN's 1M frames replay\n",
        "        buffers.\n",
        "        This object should only be converted to np.ndarray before being passed to the model.\n",
        "        :param frames: ([int] or [float]) environment frames\n",
        "        \"\"\"\n",
        "        self._frames = frames\n",
        "        self._out = None\n",
        "\n",
        "    def _force(self):\n",
        "        if self._out is None:\n",
        "            self._out = np.concatenate(self._frames, axis=2)\n",
        "            self._frames = None\n",
        "        return self._out\n",
        "\n",
        "    def __array__(self, dtype=None):\n",
        "        out = self._force()\n",
        "        if dtype is not None:\n",
        "            out = out.astype(dtype)\n",
        "        return out\n",
        "\n",
        "    def __len__(self):\n",
        "        return len(self._force())\n",
        "\n",
        "    def __getitem__(self, i):\n",
        "        return self._force()[i]"
      ],
      "execution_count": 45,
      "outputs": []
    },
    {
      "cell_type": "code",
      "metadata": {
        "id": "sumd0-F4KGYe"
      },
      "source": [
        "from collections import deque\n",
        "\n",
        "class FrameStack(gym.Wrapper):\n",
        "    def __init__(self, env, n_frames=4):\n",
        "        \"\"\"Stack n_frames last frames.\n",
        "        Returns lazy array, which is much more memory efficient.\n",
        "        See Also\n",
        "        --------\n",
        "        stable_baselines.common.atari_wrappers.LazyFrames\n",
        "        :param env: (Gym Environment) the environment\n",
        "        :param n_frames: (int) the number of frames to stack\n",
        "        \"\"\"\n",
        "        gym.Wrapper.__init__(self, env)\n",
        "        self.n_frames = n_frames\n",
        "        self.frames = deque([], maxlen=n_frames)\n",
        "        shp = env.observation_space.shape\n",
        "        self.observation_space = spaces.Box(low=0, high=255, shape=(shp[0], shp[1], shp[2] * n_frames),\n",
        "                                            dtype=env.observation_space.dtype)\n",
        "\n",
        "    def reset(self, **kwargs):\n",
        "        obs = self.env.reset(**kwargs)\n",
        "        for _ in range(self.n_frames):\n",
        "            self.frames.append(obs)\n",
        "        return self._get_ob()\n",
        "\n",
        "    def step(self, action):\n",
        "        obs, reward, done, info = self.env.step(action)\n",
        "        self.frames.append(obs)\n",
        "        return self._get_ob(), reward, done, info\n",
        "\n",
        "    def _get_ob(self):\n",
        "        assert len(self.frames) == self.n_frames\n",
        "        return LazyFrames(list(self.frames))"
      ],
      "execution_count": 46,
      "outputs": []
    },
    {
      "cell_type": "markdown",
      "metadata": {
        "id": "ObV-wFKD9cXf"
      },
      "source": [
        "### Resize & Grayscale Wrapper\n",
        "\n",
        "Bild nicht Grauwert -> [stackoverflow](https://stackoverflow.com/questions/51303361/color-rgb2gray-gives-none-grayscale-image-might-be-an-issue-with-jupyter-notebo)\n",
        "```python\n",
        "cmap = \"gray\" # while plotting\n",
        "```"
      ]
    },
    {
      "cell_type": "code",
      "metadata": {
        "id": "-xO7wz559eWT"
      },
      "source": [
        "from gym import spaces\n",
        "import cv2\n",
        "\n",
        "class WarpFrame(gym.ObservationWrapper):\n",
        "    def __init__(self, env):\n",
        "        \"\"\"\n",
        "        Warp frames to 84x84 as done in the Nature paper and later work.\n",
        "        :param env: (Gym Environment) the environment\n",
        "        \"\"\"\n",
        "        gym.ObservationWrapper.__init__(self, env)\n",
        "        self.width = 84\n",
        "        self.height = 84\n",
        "        self.observation_space = spaces.Box(low=0, high=255, shape=(self.height, self.width, 1),\n",
        "                                            dtype=env.observation_space.dtype)\n",
        "        \n",
        "    def observation(self, frame):\n",
        "        \"\"\"\n",
        "        returns the current observation from a frame\n",
        "        :param frame: ([int] or [float]) environment frame\n",
        "        :return: ([int] or [float]) the observation\n",
        "        \"\"\"\n",
        "        frame = cv2.cvtColor(frame, cv2.COLOR_RGB2GRAY)\n",
        "        frame = cv2.resize(frame, (self.width, self.height), interpolation=cv2.INTER_AREA)\n",
        "        return frame[:, :, None]"
      ],
      "execution_count": 47,
      "outputs": []
    },
    {
      "cell_type": "code",
      "metadata": {
        "id": "icOrwqqHgz7d"
      },
      "source": [
        "def make_env(env_name):\n",
        "  env = gym.make(env_name)\n",
        "  env = WarpFrame(env)\n",
        "  if 'FIRE' in env.unwrapped.get_action_meanings():\n",
        "    env = FireResetEnv(env)\n",
        "  env = FrameStack(env)\n",
        "  return env"
      ],
      "execution_count": 48,
      "outputs": []
    },
    {
      "cell_type": "code",
      "metadata": {
        "id": "anh0HApmJHy-",
        "outputId": "7d22e1ea-44fb-4c72-ef41-5e6afbed2458",
        "colab": {
          "base_uri": "https://localhost:8080/"
        }
      },
      "source": [
        "from matplotlib import pyplot as plt\n",
        "env = make_env(game)\n",
        "env.reset()\n",
        "state, _, _, _ = env.step(1)\n",
        "\n",
        "np.shape(state)\n"
      ],
      "execution_count": 49,
      "outputs": [
        {
          "output_type": "execute_result",
          "data": {
            "text/plain": [
              "(84, 84, 4)"
            ]
          },
          "metadata": {
            "tags": []
          },
          "execution_count": 49
        }
      ]
    },
    {
      "cell_type": "code",
      "metadata": {
        "id": "g3Hqv2hC-_Cx",
        "outputId": "b24bc92a-8019-48dd-9229-1c45c180c338",
        "colab": {
          "base_uri": "https://localhost:8080/",
          "height": 293
        }
      },
      "source": [
        "import numpy as np\n",
        "\n",
        "for _ in range(1, 5):\n",
        "  state, _, _, _ = env.step(2)\n",
        "state = np.array(state)\n",
        "\n",
        "fig, axs = plt.subplots(1,4, figsize=(20, 5))\n",
        "axs[0].imshow(state[:, :, 0], cmap=\"gray\")\n",
        "axs[1].imshow(state[:, :, 1], cmap=\"gray\")\n",
        "axs[2].imshow(state[:, :, 2], cmap=\"gray\")\n",
        "axs[3].imshow(state[:, :, 3], cmap=\"gray\")\n",
        "plt.show()\n"
      ],
      "execution_count": 50,
      "outputs": [
        {
          "output_type": "display_data",
          "data": {
            "image/png": "[encoded data removed]",
            "text/plain": [
              "<Figure size 1440x360 with 4 Axes>"
            ]
          },
          "metadata": {
            "tags": [],
            "needs_background": "light"
          }
        }
      ]
    },
    {
      "cell_type": "markdown",
      "metadata": {
        "id": "i8HSZBWkHkbJ"
      },
      "source": [
        "# Deep Q-Network und Target Network"
      ]
    },
    {
      "cell_type": "markdown",
      "metadata": {
        "id": "MeLvxPIvLxE8"
      },
      "source": [
        " *\\\"The input to\n",
        "the neural network consists of an 84x84x4 image produced by the preprocessing\n",
        "map **--w-- (falsche Darstellung)**. The first hidden layer convolves 32 filters of 8x8 with stride 4 with the\n",
        "input image and applies a rectifier nonlinearity. The second hidden layer convolves\n",
        "64 filters of 4x4 with stride 2, again followed by a rectifier nonlinearity.\n",
        "This is followed by a third convolutional layer that convolves 64 filters of 333 with\n",
        "stride 1 followed by a rectifier. The final hidden layer is fully-connected and consists\n",
        "of 512 rectifier units. The output layer is a fully-connected linear layer with a\n",
        "single output for each valid action. The number of valid actions varied between 4\n",
        "and 18 on the games we considered.\"*\n",
        "\n",
        "\n",
        "[Mnih, V., Kavukcuoglu, K., Silver, D. et al. Human-level control through deep reinforcement learning. Nature 518, 529–533 (2015).](https://www.nature.com/articles/nature14236)"
      ]
    },
    {
      "cell_type": "code",
      "metadata": {
        "id": "IinnQRAzHhcb"
      },
      "source": [
        "import tensorflow as tf\n",
        "from tensorflow.keras.layers import Activation\n",
        "from tensorflow.keras.layers import Conv2D\n",
        "from tensorflow.keras.layers import Dense\n",
        "from tensorflow.keras.layers import Flatten\n",
        "from tensorflow.keras.layers import Input\n",
        "from tensorflow.keras.models import Model\n",
        "from tensorflow.keras.losses import Huber\n",
        "from tensorflow.keras.optimizers import RMSprop\n",
        "\n",
        "# DQN und Tagret Net Parameters\n",
        "INPUT_SHAPE = state.shape # (Höhe, Breite, Frames)\n",
        "OUTPUT_SHAPE = env.action_space.n # Anzahl der möglichen Aktionen\n",
        "LOSS_FUNCTION = Huber()\n",
        "OPTIMIZER = RMSprop(learning_rate=0.00025, rho=0.95, epsilon=0.01)\n",
        "\n",
        "# Funktion zum erstellen eines neuronalen Netzes\n",
        "def build_neural_net(INPUT_SHAPE, OUTPUT_SHAPE, LOSS_FUNCTION, OPTIMIZER):\n",
        "  net_input = Input(shape=INPUT_SHAPE)\n",
        "  x = Conv2D(filters=32, kernel_size=(8, 8), strides=(4, 4), padding=\"same\")(net_input)\n",
        "  x = Activation(\"relu\")(x)\n",
        "  x = Conv2D(filters=64, kernel_size=(4, 4), strides=(2, 2), padding=\"same\")(x)\n",
        "  x = Activation(\"relu\")(x)\n",
        "  x = Conv2D(filters=64, kernel_size=(3, 3), strides=(1, 1), padding=\"same\")(x)\n",
        "  x = Activation(\"relu\")(x)\n",
        "  x = Flatten()(x)\n",
        "  x = Dense(256)(x)\n",
        "  x = Activation(\"relu\")(x)\n",
        "  net_output = Dense(OUTPUT_SHAPE)(x)\n",
        "\n",
        "  model = Model(inputs=net_input, outputs=net_output)\n",
        "  model.compile(loss=LOSS_FUNCTION, optimizer=OPTIMIZER)\n",
        "\n",
        "  return model\n",
        "\n",
        "# Deep Q-Network\n",
        "DQN = build_neural_net(INPUT_SHAPE, OUTPUT_SHAPE, LOSS_FUNCTION, OPTIMIZER)\n",
        "# Target Network\n",
        "TARGET = build_neural_net(INPUT_SHAPE, OUTPUT_SHAPE, LOSS_FUNCTION, OPTIMIZER)"
      ],
      "execution_count": 54,
      "outputs": []
    }
  ]
}