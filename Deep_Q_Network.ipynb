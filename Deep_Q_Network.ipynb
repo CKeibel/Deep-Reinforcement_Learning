{
  "nbformat": 4,
  "nbformat_minor": 0,
  "metadata": {
    "colab": {
      "name": "Deep_Q-Network.ipynb",
      "provenance": [],
      "collapsed_sections": [],
      "authorship_tag": "ABX9TyOvePWXEoW8y4Km4h4o/wOt"
    },
    "kernelspec": {
      "name": "python3",
      "display_name": "Python 3"
    },
    "accelerator": "GPU"
  },
  "cells": [
    {
      "cell_type": "markdown",
      "metadata": {
        "id": "iIlX3bscb_8H"
      },
      "source": [
        "# TODO:\n",
        "\n",
        "\n",
        "* action repeat Wrapper (4 Times)\n",
        "* better reward handling for different games\n",
        "* save REWARD_LIST to Disk\n",
        "* load weight\n",
        "* play game\n"
      ]
    },
    {
      "cell_type": "code",
      "metadata": {
        "id": "q9xfV_VJakaI"
      },
      "source": [
        "import gym\n",
        "import numpy as np\n",
        "from matplotlib import pyplot as plt"
      ],
      "execution_count": 1,
      "outputs": []
    },
    {
      "cell_type": "markdown",
      "metadata": {
        "id": "Hxwx0hgyS9l_"
      },
      "source": [
        "# **Auswahl des Spiels**\n",
        "\n",
        "[Hier](https://gym.openai.com/envs/#atari) ist eine vollständige Liste der verfügbaren Spiele zu finden. Um ein Environment zu erstellen muss der vollständige Name des Spiels als String übergeben werden.\n",
        "\n",
        "Beispiel:\n",
        "\n",
        "```python\n",
        "game = \"MsPacman-v0\"\n",
        "```"
      ]
    },
    {
      "cell_type": "code",
      "metadata": {
        "id": "zW8iwvvZUBxy"
      },
      "source": [
        "# Hier kann das Spiel übergeben werden\n",
        "game = \"Breakout-v0\""
      ],
      "execution_count": 2,
      "outputs": []
    },
    {
      "cell_type": "markdown",
      "metadata": {
        "id": "HkVT49we0eiY"
      },
      "source": [
        "# **Preprocessing**\n",
        "[Stable Baselines](https://github.com/openai/baselines/blob/master/baselines/common/atari_wrappers.py)\n"
      ]
    },
    {
      "cell_type": "markdown",
      "metadata": {
        "id": "-oHRVfJL9TxH"
      },
      "source": [
        "### Fire Wrapper"
      ]
    },
    {
      "cell_type": "code",
      "metadata": {
        "id": "GxYChLgl0aQu"
      },
      "source": [
        "class FireResetEnv(gym.Wrapper):\n",
        "    def __init__(self, env):\n",
        "        gym.Wrapper.__init__(self, env) \n",
        "        self.env.reset()\n",
        "\n",
        "    def reset(self, **kwargs):\n",
        "        self.env.reset(**kwargs)\n",
        "        observation, _, _, _ = self.env.step(env.unwrapped.get_action_meanings().index('FIRE'))\n",
        "\n",
        "        return observation"
      ],
      "execution_count": 3,
      "outputs": []
    },
    {
      "cell_type": "markdown",
      "metadata": {
        "id": "ULrSsx2f6-qS"
      },
      "source": [
        "### Resize & Grayscale Wrapper"
      ]
    },
    {
      "cell_type": "code",
      "metadata": {
        "id": "HXr6gB0F7AwT"
      },
      "source": [
        "from gym import spaces\n",
        "import cv2\n",
        "\n",
        "class WarpFrame(gym.ObservationWrapper):\n",
        "    def __init__(self, env):\n",
        "        \"\"\"\n",
        "        Warp frames to 84x84 as done in the Nature paper and later work.\n",
        "        :param env: (Gym Environment) the environment\n",
        "        \"\"\"\n",
        "        gym.ObservationWrapper.__init__(self, env)\n",
        "        self.width = 84\n",
        "        self.height = 84\n",
        "        self.observation_space = spaces.Box(low=0, high=255, shape=(self.height, self.width, 1),\n",
        "                                            dtype=env.observation_space.dtype)\n",
        "        \n",
        "    def observation(self, frame):\n",
        "        \"\"\"\n",
        "        returns the current observation from a frame\n",
        "        :param frame: ([int] or [float]) environment frame\n",
        "        :return: ([int] or [float]) the observation\n",
        "        \"\"\"\n",
        "        frame = cv2.cvtColor(frame, cv2.COLOR_RGB2GRAY)\n",
        "        frame = cv2.resize(frame, (self.width, self.height), interpolation=cv2.INTER_AREA)\n",
        "        return frame[:, :, None]"
      ],
      "execution_count": 4,
      "outputs": []
    },
    {
      "cell_type": "code",
      "metadata": {
        "id": "_KJgqyxF7FRx",
        "outputId": "5b484c74-48c1-4812-8db0-154d3145a1eb",
        "colab": {
          "base_uri": "https://localhost:8080/",
          "height": 285
        }
      },
      "source": [
        "''' \n",
        "[OPTIONAL]\n",
        "\n",
        "Diese Zelle ist optional ausführbar und dient zur Visualisierung des Wrappers.\n",
        "Die Zelle hat keinen Einfluss auf den Agenten\n",
        "\n",
        "'''\n",
        "\n",
        "def WarpFrameEnv(env_name):\n",
        "  env = gym.make(env_name)\n",
        "  env = WarpFrame(env)\n",
        "  return env\n",
        "\n",
        "normal_env = gym.make(game)\n",
        "wrapped_env = WarpFrameEnv(game)\n",
        "\n",
        "normal_env.reset()\n",
        "wrapped_env.reset()\n",
        "action = normal_env.action_space.sample()\n",
        "\n",
        "normal_state, _, _, _ = normal_env.step(action)\n",
        "wrapped_state, _, _, _ = wrapped_env.step(action)\n",
        "\n",
        "wrapped_state = wrapped_state[: , :, 0]\n",
        "\n",
        "fig, axs = plt.subplots(1, 2)\n",
        "fig.suptitle('Warp Frame', fontsize=20)\n",
        "axs[0].imshow(normal_state)\n",
        "axs[0].set_title(\"Normal\", fontsize=16)\n",
        "axs[1].imshow(wrapped_state, cmap=\"gray\")\n",
        "axs[1].set_title(\"Warp Frame\", fontsize=16)\n",
        "plt.show()"
      ],
      "execution_count": 5,
      "outputs": [
        {
          "output_type": "display_data",
          "data": {
            "image/png": "[encoded data removed]",
            "text/plain": [
              "<Figure size 432x288 with 2 Axes>"
            ]
          },
          "metadata": {
            "tags": [],
            "needs_background": "light"
          }
        }
      ]
    },
    {
      "cell_type": "markdown",
      "metadata": {
        "id": "V6m9sMMgAIL_"
      },
      "source": [
        "### Frame Stack Wrapper"
      ]
    },
    {
      "cell_type": "code",
      "metadata": {
        "id": "9odKR1WDAJP9"
      },
      "source": [
        "from collections import deque\n",
        "\n",
        "class FrameStack(gym.Wrapper):\n",
        "    def __init__(self, env):\n",
        "      super().__init__(env)\n",
        "      self.frames = deque(maxlen=4)\n",
        "      low = np.repeat(self.observation_space.low[np.newaxis, ...], repeats=4, axis=0)\n",
        "      high = np.repeat(self.observation_space.high[np.newaxis, ...], repeats=4, axis=0)\n",
        "      self.observation_space = gym.spaces.Box(low=low, high=high, dtype=self.observation_space.dtype)\n",
        "\n",
        "    def step(self, action):\n",
        "      obs, reward, done, info = self.env.step(action)\n",
        "      self.frames.append(obs)\n",
        "      frame_stack = np.asarray(self.frames, dtype=np.float32)\n",
        "      frame_stack = np.moveaxis(frame_stack, 0, -1).reshape(1, 84, 84, -1)\n",
        "      return frame_stack, reward, done, info\n",
        "\n",
        "    def reset(self, **kwargs):\n",
        "        obs = self.env.reset(**kwargs)\n",
        "        for _ in range(4):\n",
        "          self.frames.append(obs)\n",
        "        frame_stack = np.asarray(self.frames, dtype=np.float32)\n",
        "        frame_stack = np.moveaxis(frame_stack, 0, -1).reshape(1, 84, 84, -1)\n",
        "        return frame_stack"
      ],
      "execution_count": 7,
      "outputs": []
    },
    {
      "cell_type": "code",
      "metadata": {
        "id": "QcNdmvOnAVvb",
        "outputId": "899699c3-c656-468c-e914-961b70fb7ea1",
        "colab": {
          "base_uri": "https://localhost:8080/",
          "height": 311
        }
      },
      "source": [
        "''' \n",
        "[OPTIONAL]\n",
        "\n",
        "Diese Zelle ist optional ausführbar und dient zur Visualisierung des Wrappers.\n",
        "Die Zelle hat keinen Einfluss auf den Agenten\n",
        "\n",
        "'''\n",
        "\n",
        "def FrameStackEnv(env_name):\n",
        "  env = gym.make(env_name)\n",
        "  env = WarpFrame(env)\n",
        "  if 'FIRE' in env.unwrapped.get_action_meanings():\n",
        "    env = FireResetEnv(env)\n",
        "  env = FrameStack(env)\n",
        "  return env\n",
        "\n",
        "env = FrameStackEnv(game)\n",
        "env.reset()\n",
        "\n",
        "for _ in range(1, 5):\n",
        "  # Führe eine zufällige Aktion aus\n",
        "  state, _, _, _ = env.step(env.action_space.sample())\n",
        "\n",
        "# Stack umformen, damit das Plotten der vier Bilder gelingt\n",
        "state = state.reshape(84, 84,4)\n",
        "\n",
        "# Frame Stack plotten\n",
        "fig, axs = plt.subplots(1,4, figsize=(15, 5))\n",
        "fig.suptitle('Frame Stack', fontsize=20)\n",
        "for i in range(state.shape[2]):\n",
        "  axs[i].imshow(state[:, :, i], cmap=\"gray\")\n",
        "  axs[i].set_title(\"Frame \"+str(i+1), fontsize=16)\n",
        "plt.show()"
      ],
      "execution_count": 8,
      "outputs": [
        {
          "output_type": "display_data",
          "data": {
            "image/png": "[encoded data removed]",
            "text/plain": [
              "<Figure size 1080x360 with 4 Axes>"
            ]
          },
          "metadata": {
            "tags": [],
            "needs_background": "light"
          }
        }
      ]
    },
    {
      "cell_type": "markdown",
      "metadata": {
        "id": "fg-MI4P9AadK"
      },
      "source": [
        "### Erstellen des Environments"
      ]
    },
    {
      "cell_type": "code",
      "metadata": {
        "id": "8eSU0VDOAcML"
      },
      "source": [
        "def make_env(env_name):\n",
        "  env = gym.make(env_name)\n",
        "  env = WarpFrame(env)\n",
        "  if 'FIRE' in env.unwrapped.get_action_meanings():\n",
        "    env = FireResetEnv(env)\n",
        "  env = FrameStack(env)\n",
        "  return env\n",
        "\n",
        "env = make_env(game)"
      ],
      "execution_count": 9,
      "outputs": []
    },
    {
      "cell_type": "markdown",
      "metadata": {
        "id": "i8HSZBWkHkbJ"
      },
      "source": [
        "# **Deep Q-Network und Target Network**"
      ]
    },
    {
      "cell_type": "markdown",
      "metadata": {
        "id": "MeLvxPIvLxE8"
      },
      "source": [
        " *\\\"The input to\n",
        "the neural network consists of an 84x84x4 image produced by the preprocessing\n",
        "map **--w-- (falsche Darstellung)**. The first hidden layer convolves 32 filters of 8x8 with stride 4 with the\n",
        "input image and applies a rectifier nonlinearity. The second hidden layer convolves\n",
        "64 filters of 4x4 with stride 2, again followed by a rectifier nonlinearity.\n",
        "This is followed by a third convolutional layer that convolves 64 filters of 333 with\n",
        "stride 1 followed by a rectifier. The final hidden layer is fully-connected and consists\n",
        "of 512 rectifier units. The output layer is a fully-connected linear layer with a\n",
        "single output for each valid action. The number of valid actions varied between 4\n",
        "and 18 on the games we considered.\"*\n",
        "\n",
        "\n",
        "[Mnih, V., Kavukcuoglu, K., Silver, D. et al. Human-level control through deep reinforcement learning. Nature 518, 529–533 (2015).](https://www.nature.com/articles/nature14236)"
      ]
    },
    {
      "cell_type": "code",
      "metadata": {
        "id": "IinnQRAzHhcb"
      },
      "source": [
        "import tensorflow as tf\n",
        "from tensorflow.keras.layers import Activation\n",
        "from tensorflow.keras.layers import Conv2D\n",
        "from tensorflow.keras.layers import Dense\n",
        "from tensorflow.keras.layers import Flatten\n",
        "from tensorflow.keras.layers import Input\n",
        "from tensorflow.keras.models import Model\n",
        "from tensorflow.keras.losses import Huber\n",
        "from tensorflow.keras.optimizers import RMSprop\n",
        "\n",
        "# DQN und Tagret Net Parameters\n",
        "INPUT_SHAPE = (84, 84, 4) # (Höhe, Breite, Frames)\n",
        "OUTPUT_SHAPE = env.action_space.n # Anzahl der möglichen Aktionen\n",
        "LOSS_FUNCTION = Huber()\n",
        "OPTIMIZER = RMSprop(learning_rate=0.00025, rho=0.95, epsilon=0.01)\n",
        "\n",
        "# Funktion zum erstellen eines neuronalen Netzes\n",
        "def build_neural_net(INPUT_SHAPE, OUTPUT_SHAPE, LOSS_FUNCTION, OPTIMIZER):\n",
        "  net_input = Input(shape=INPUT_SHAPE)\n",
        "  x = Conv2D(filters=32, kernel_size=(8, 8), strides=(4, 4), padding=\"same\")(net_input)\n",
        "  x = Activation(\"relu\")(x)\n",
        "  x = Conv2D(filters=64, kernel_size=(4, 4), strides=(2, 2), padding=\"same\")(x)\n",
        "  x = Activation(\"relu\")(x)\n",
        "  x = Conv2D(filters=64, kernel_size=(3, 3), strides=(1, 1), padding=\"same\")(x)\n",
        "  x = Activation(\"relu\")(x)\n",
        "  x = Flatten()(x)\n",
        "  x = Dense(256)(x)\n",
        "  x = Activation(\"relu\")(x)\n",
        "  net_output = Dense(OUTPUT_SHAPE)(x)\n",
        "\n",
        "  model = Model(inputs=net_input, outputs=net_output)\n",
        "  model.compile(loss=LOSS_FUNCTION, optimizer=OPTIMIZER)\n",
        "\n",
        "  return model\n",
        "\n",
        "# Deep Q-Network\n",
        "DQN = build_neural_net(INPUT_SHAPE, OUTPUT_SHAPE, LOSS_FUNCTION, OPTIMIZER)\n",
        "# Target Network\n",
        "TARGET = build_neural_net(INPUT_SHAPE, OUTPUT_SHAPE, LOSS_FUNCTION, OPTIMIZER)"
      ],
      "execution_count": 10,
      "outputs": []
    },
    {
      "cell_type": "code",
      "metadata": {
        "id": "1VobCYZ0N45l",
        "outputId": "aab3a534-a891-4efd-e54c-784ab74d44d5",
        "colab": {
          "base_uri": "https://localhost:8080/"
        }
      },
      "source": [
        "DQN.summary(), TARGET.summary()"
      ],
      "execution_count": 11,
      "outputs": [
        {
          "output_type": "stream",
          "text": [
            "Model: \"functional_1\"\n",
            "_________________________________________________________________\n",
            "Layer (type)                 Output Shape              Param #   \n",
            "=================================================================\n",
            "input_1 (InputLayer)         [(None, 84, 84, 4)]       0         \n",
            "_________________________________________________________________\n",
            "conv2d (Conv2D)              (None, 21, 21, 32)        8224      \n",
            "_________________________________________________________________\n",
            "activation (Activation)      (None, 21, 21, 32)        0         \n",
            "_________________________________________________________________\n",
            "conv2d_1 (Conv2D)            (None, 11, 11, 64)        32832     \n",
            "_________________________________________________________________\n",
            "activation_1 (Activation)    (None, 11, 11, 64)        0         \n",
            "_________________________________________________________________\n",
            "conv2d_2 (Conv2D)            (None, 11, 11, 64)        36928     \n",
            "_________________________________________________________________\n",
            "activation_2 (Activation)    (None, 11, 11, 64)        0         \n",
            "_________________________________________________________________\n",
            "flatten (Flatten)            (None, 7744)              0         \n",
            "_________________________________________________________________\n",
            "dense (Dense)                (None, 256)               1982720   \n",
            "_________________________________________________________________\n",
            "activation_3 (Activation)    (None, 256)               0         \n",
            "_________________________________________________________________\n",
            "dense_1 (Dense)              (None, 4)                 1028      \n",
            "=================================================================\n",
            "Total params: 2,061,732\n",
            "Trainable params: 2,061,732\n",
            "Non-trainable params: 0\n",
            "_________________________________________________________________\n",
            "Model: \"functional_3\"\n",
            "_________________________________________________________________\n",
            "Layer (type)                 Output Shape              Param #   \n",
            "=================================================================\n",
            "input_2 (InputLayer)         [(None, 84, 84, 4)]       0         \n",
            "_________________________________________________________________\n",
            "conv2d_3 (Conv2D)            (None, 21, 21, 32)        8224      \n",
            "_________________________________________________________________\n",
            "activation_4 (Activation)    (None, 21, 21, 32)        0         \n",
            "_________________________________________________________________\n",
            "conv2d_4 (Conv2D)            (None, 11, 11, 64)        32832     \n",
            "_________________________________________________________________\n",
            "activation_5 (Activation)    (None, 11, 11, 64)        0         \n",
            "_________________________________________________________________\n",
            "conv2d_5 (Conv2D)            (None, 11, 11, 64)        36928     \n",
            "_________________________________________________________________\n",
            "activation_6 (Activation)    (None, 11, 11, 64)        0         \n",
            "_________________________________________________________________\n",
            "flatten_1 (Flatten)          (None, 7744)              0         \n",
            "_________________________________________________________________\n",
            "dense_2 (Dense)              (None, 256)               1982720   \n",
            "_________________________________________________________________\n",
            "activation_7 (Activation)    (None, 256)               0         \n",
            "_________________________________________________________________\n",
            "dense_3 (Dense)              (None, 4)                 1028      \n",
            "=================================================================\n",
            "Total params: 2,061,732\n",
            "Trainable params: 2,061,732\n",
            "Non-trainable params: 0\n",
            "_________________________________________________________________\n"
          ],
          "name": "stdout"
        },
        {
          "output_type": "execute_result",
          "data": {
            "text/plain": [
              "(None, None)"
            ]
          },
          "metadata": {
            "tags": []
          },
          "execution_count": 11
        }
      ]
    },
    {
      "cell_type": "markdown",
      "metadata": {
        "id": "BGwUt_ERhMuQ"
      },
      "source": [
        "# **Memory Buffer und Experience Replay**"
      ]
    },
    {
      "cell_type": "code",
      "metadata": {
        "id": "z601UsvHjzyz"
      },
      "source": [
        "MEMORY_SIZE = 1000000\n",
        "MEMORY_BUFFER = deque(maxlen=MEMORY_SIZE)\n",
        "TRAIN_START = 50000\n",
        "\n",
        "# Speichert Transition von einem State in einen Folgestate\n",
        "def save_transition(state, action, reward, next_state, done):\n",
        "  MEMORY_BUFFER.append([state, action, reward, next_state, done])"
      ],
      "execution_count": null,
      "outputs": []
    },
    {
      "cell_type": "code",
      "metadata": {
        "id": "9v5SDTFMoZM2"
      },
      "source": [
        "import random\n",
        "MINIBATCH_SIZE = 32\n",
        "GAMMA = 0.99\n",
        "\n",
        "def replay():\n",
        "\n",
        "  # Ziehe 32 (MINIBATCH_SIZE) zufällige Transitionen aus dem Buffer in einen Minibatch\n",
        "  minibatch = random.sample(MEMORY_BUFFER, MINIBATCH_SIZE)\n",
        "  states, actions, rewards, next_states, dones = zip(*minibatch)\n",
        "\n",
        "  states = np.concatenate(states)\n",
        "  next_states = np.concatenate(next_states)\n",
        "\n",
        "  q_values = DQN.predict(states)\n",
        "  q_values_next = TARGET.predict(next_states)\n",
        "\n",
        "  # Q-Values Update\n",
        "  for i in range(MINIBATCH_SIZE):\n",
        "    a = actions[i]\n",
        "    done = dones[i]\n",
        "    if done:\n",
        "      q_values[i][a] = rewards[i]\n",
        "    else:\n",
        "      q_values[i][a] = rewards[i] + GAMMA * np.max(q_values_next[i])\n",
        "\n",
        "  DQN.fit(states, q_values, verbose=0)"
      ],
      "execution_count": null,
      "outputs": []
    },
    {
      "cell_type": "markdown",
      "metadata": {
        "id": "F2JdsqGQf_wn"
      },
      "source": [
        "# **Aktion wählen**\n",
        "Exploration & Exploitation"
      ]
    },
    {
      "cell_type": "code",
      "metadata": {
        "id": "QH18a8XDf5ui"
      },
      "source": [
        "EPSILON = 1.0\n",
        "EPSILON_MIN = 0.01\n",
        "EPSILON_STEPS = 1000000\n",
        "\n",
        "def get_action(state):\n",
        "  if np.random.rand() <= EPSILON:\n",
        "    return np.random.randint(env.action_space.n)\n",
        "  else:\n",
        "    return np.argmax(DQN(state))"
      ],
      "execution_count": null,
      "outputs": []
    },
    {
      "cell_type": "markdown",
      "metadata": {
        "id": "cJQNx-7JhrWw"
      },
      "source": [
        "# **Training des Agenten**"
      ]
    },
    {
      "cell_type": "code",
      "metadata": {
        "id": "BujPrlhAhqhc"
      },
      "source": [
        "EPISODES = 30000\n",
        "REWARD_LIST = []\n",
        "BEST_MEAN_REWARD = 0.0\n",
        "SYNC = 10000\n",
        "\n",
        "for episode in range(EPISODES):\n",
        "  EPISODE_REWARD = 0.0\n",
        "  state = env.reset()\n",
        "  done = False\n",
        "\n",
        "  while not done:\n",
        "    action = get_action(state)\n",
        "    next_state, reward, done, _ = env.step(action)\n",
        "\n",
        "    # Transition im MEMORY BUFFER speichern\n",
        "    save_transition(state, action, reward, next_state, done)\n",
        "    \n",
        "    # Experience Replay, falls genügend Transitionen gespeichert\n",
        "    if len(MEMORY_BUFFER) > TRAIN_START:\n",
        "      replay()\n",
        "\n",
        "    # Reward einer Aktion zum gesamten Reward der Episode addieren\n",
        "    EPISODE_REWARD += reward\n",
        "\n",
        "    # EPSILON verringern\n",
        "    if len(MEMORY_BUFFER) > TRAIN_START:\n",
        "      if EPSILON > EPSILON_MIN:\n",
        "        EPSILON = EPSILON - ((EPSILON - EPSILON_MIN) / EPSILON_STEPS)\n",
        "\n",
        "    # State aktualisieren\n",
        "    state = next_state\n",
        "\n",
        "    # Synchronisation zwischen Target Networks und Deep Q-Network\n",
        "    if episode+1 % SYNC == 0:\n",
        "      TARGET.set_weights(DQN.get_weights())\n",
        "\n",
        "    if done:\n",
        "      REWARD_LIST.append(EPISODE_REWARD)\n",
        "      current_mean_reward = np.mean(REWARD_LIST[-min(len(REWARD_LIST), 10):])\n",
        "      print(\"Episode:\", episode+1, \"\\tReward:\", EPISODE_REWARD, \"\\tMean:\", round(current_mean_reward, 2), \"\\tTRAIN START:\", (len(MEMORY_BUFFER)>TRAIN_START), \"\\tEpsi:\", EPSILON)\n",
        "\n",
        "      # Übernahme des höchsteb Mean Rewards\n",
        "      if current_mean_reward > BEST_MEAN_REWARD:\n",
        "        BEST_MEAN_REWARD = current_mean_reward\n",
        "        \n",
        "        # Trainierte Gewichte speichern\n",
        "        if EPSILON < EPSILON_MIN:\n",
        "          import os\n",
        "          PATH = \"WEIGHTS\"\n",
        "          try:\n",
        "            os.makedirs(PATH)\n",
        "          except FileExistsError:\n",
        "            # Pfad existiert bereits\n",
        "            pass\n",
        "          DQN.save_weights(PATH +\"/\" + game + \"_DQN\"+ \"_Ep_\"+ str(episode+1)+ \".h5\")\n",
        "          TARGET.save_weights(PATH+\"/\" + game + \"_TARGET\" + \"_Ep_\"+ str(episode+1)+ \".h5\")\n",
        "      "
      ],
      "execution_count": null,
      "outputs": []
    }
  ]
}