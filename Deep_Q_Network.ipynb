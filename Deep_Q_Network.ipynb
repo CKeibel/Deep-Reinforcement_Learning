{
  "nbformat": 4,
  "nbformat_minor": 0,
  "metadata": {
    "colab": {
      "name": "Deep_Q-Network.ipynb",
      "provenance": [],
      "collapsed_sections": [],
      "authorship_tag": "ABX9TyNUbmRYEeJ9v/7WSnL/GXTY"
    },
    "kernelspec": {
      "name": "python3",
      "display_name": "Python 3"
    },
    "accelerator": "GPU"
  },
  "cells": [
    {
      "cell_type": "markdown",
      "metadata": {
        "id": "iIlX3bscb_8H"
      },
      "source": [
        "# TODO:\n",
        "\n",
        "\n",
        "* Visualize RGB State to Grayscale resized State\n",
        "* action repeat Wrapper (4 Times)\n",
        "* better reward handling for different games\n",
        "* save REWARD_LIST to Disk\n",
        "* load weight\n",
        "* play game\n"
      ]
    },
    {
      "cell_type": "code",
      "metadata": {
        "id": "q9xfV_VJakaI"
      },
      "source": [
        "import gym\n",
        "import numpy as np"
      ],
      "execution_count": 1,
      "outputs": []
    },
    {
      "cell_type": "markdown",
      "metadata": {
        "id": "Hxwx0hgyS9l_"
      },
      "source": [
        "# **Auswahl des Spiels**\n",
        "\n",
        "[Hier](https://gym.openai.com/envs/#atari) ist eine vollständige Liste der verfügbaren Spiele zu finden. Um ein Environment zu erstellen muss der vollständige Name des Spiels als String übergeben werden.\n",
        "\n",
        "Beispiel:\n",
        "\n",
        "```python\n",
        "game = \"MsPacman-v0\"\n",
        "```"
      ]
    },
    {
      "cell_type": "code",
      "metadata": {
        "id": "zW8iwvvZUBxy"
      },
      "source": [
        "# Hier kann das Spiel übergeben werden\n",
        "game = \"Breakout-v0\""
      ],
      "execution_count": 2,
      "outputs": []
    },
    {
      "cell_type": "markdown",
      "metadata": {
        "id": "HkVT49we0eiY"
      },
      "source": [
        "# **Preprocessing**\n",
        "[Stable Baselines](https://github.com/openai/baselines/blob/master/baselines/common/atari_wrappers.py)\n"
      ]
    },
    {
      "cell_type": "markdown",
      "metadata": {
        "id": "-oHRVfJL9TxH"
      },
      "source": [
        "### Fire Wrapper"
      ]
    },
    {
      "cell_type": "code",
      "metadata": {
        "id": "GxYChLgl0aQu"
      },
      "source": [
        "class FireResetEnv(gym.Wrapper):\n",
        "    def __init__(self, env):\n",
        "        gym.Wrapper.__init__(self, env) \n",
        "        self.env.reset()\n",
        "\n",
        "    def reset(self, **kwargs):\n",
        "        self.env.reset(**kwargs)\n",
        "        observation, _, _, _ = self.env.step(env.unwrapped.get_action_meanings().index('FIRE'))\n",
        "\n",
        "        return observation"
      ],
      "execution_count": 3,
      "outputs": []
    },
    {
      "cell_type": "markdown",
      "metadata": {
        "id": "jiTyOTbc9Zg6"
      },
      "source": [
        "### Frame Stack Wrapper"
      ]
    },
    {
      "cell_type": "code",
      "metadata": {
        "id": "sumd0-F4KGYe"
      },
      "source": [
        "from collections import deque\n",
        "\n",
        "class FrameStack(gym.Wrapper):\n",
        "    def __init__(self, env):\n",
        "      super().__init__(env)\n",
        "      self.frames = deque(maxlen=4)\n",
        "      low = np.repeat(self.observation_space.low[np.newaxis, ...], repeats=4, axis=0)\n",
        "      high = np.repeat(self.observation_space.high[np.newaxis, ...], repeats=4, axis=0)\n",
        "      self.observation_space = gym.spaces.Box(low=low, high=high, dtype=self.observation_space.dtype)\n",
        "\n",
        "    def step(self, action):\n",
        "      obs, reward, done, info = self.env.step(action)\n",
        "      self.frames.append(obs)\n",
        "      frame_stack = np.asarray(self.frames, dtype=np.float32)\n",
        "      frame_stack = np.moveaxis(frame_stack, 0, -1).reshape(1, 84, 84, -1)\n",
        "      return frame_stack, reward, done, info\n",
        "\n",
        "    def reset(self, **kwargs):\n",
        "        obs = self.env.reset(**kwargs)\n",
        "        for _ in range(4):\n",
        "          self.frames.append(obs)\n",
        "        frame_stack = np.asarray(self.frames, dtype=np.float32)\n",
        "        frame_stack = np.moveaxis(frame_stack, 0, -1).reshape(1, 84, 84, -1)\n",
        "        return frame_stack"
      ],
      "execution_count": 4,
      "outputs": []
    },
    {
      "cell_type": "markdown",
      "metadata": {
        "id": "ObV-wFKD9cXf"
      },
      "source": [
        "### Resize & Grayscale Wrapper\n",
        "\n",
        "Bild nicht Grauwert -> [stackoverflow](https://stackoverflow.com/questions/51303361/color-rgb2gray-gives-none-grayscale-image-might-be-an-issue-with-jupyter-notebo)\n",
        "```python\n",
        "cmap = \"gray\" # while plotting\n",
        "```"
      ]
    },
    {
      "cell_type": "code",
      "metadata": {
        "id": "-xO7wz559eWT"
      },
      "source": [
        "from gym import spaces\n",
        "import cv2\n",
        "\n",
        "class WarpFrame(gym.ObservationWrapper):\n",
        "    def __init__(self, env):\n",
        "        \"\"\"\n",
        "        Warp frames to 84x84 as done in the Nature paper and later work.\n",
        "        :param env: (Gym Environment) the environment\n",
        "        \"\"\"\n",
        "        gym.ObservationWrapper.__init__(self, env)\n",
        "        self.width = 84\n",
        "        self.height = 84\n",
        "        self.observation_space = spaces.Box(low=0, high=255, shape=(self.height, self.width, 1),\n",
        "                                            dtype=env.observation_space.dtype)\n",
        "        \n",
        "    def observation(self, frame):\n",
        "        \"\"\"\n",
        "        returns the current observation from a frame\n",
        "        :param frame: ([int] or [float]) environment frame\n",
        "        :return: ([int] or [float]) the observation\n",
        "        \"\"\"\n",
        "        frame = cv2.cvtColor(frame, cv2.COLOR_RGB2GRAY)\n",
        "        frame = cv2.resize(frame, (self.width, self.height), interpolation=cv2.INTER_AREA)\n",
        "        return frame[:, :, None]"
      ],
      "execution_count": 5,
      "outputs": []
    },
    {
      "cell_type": "code",
      "metadata": {
        "id": "icOrwqqHgz7d"
      },
      "source": [
        "def make_env(env_name):\n",
        "  env = gym.make(env_name)\n",
        "  env = WarpFrame(env)\n",
        "  if 'FIRE' in env.unwrapped.get_action_meanings():\n",
        "    env = FireResetEnv(env)\n",
        "  env = FrameStack(env)\n",
        "  return env"
      ],
      "execution_count": 6,
      "outputs": []
    },
    {
      "cell_type": "code",
      "metadata": {
        "id": "g3Hqv2hC-_Cx",
        "outputId": "01ae7758-aacf-4818-b3bd-0086ce689e83",
        "colab": {
          "base_uri": "https://localhost:8080/",
          "height": 319
        }
      },
      "source": [
        "from matplotlib import pyplot as plt\n",
        "import numpy as np\n",
        "\n",
        "# Environment erstellen und auf Startzustand zurücksetzen\n",
        "env = make_env(game)\n",
        "env.reset()\n",
        "\n",
        "for _ in range(1, 5):\n",
        "  # Führe eine zufällige Aktion aus\n",
        "  state, _, _, _ = env.step(env.action_space.sample())\n",
        "\n",
        "# Stack umformen, damit das Plotten der vier Bilder gelingt\n",
        "state = state.reshape(84, 84,4)\n",
        "\n",
        "# Frame Stack plotten\n",
        "fig, axs = plt.subplots(1,4, figsize=(20, 5))\n",
        "fig.suptitle('Frame Stack', fontsize=20)\n",
        "for i in range(state.shape[2]):\n",
        "  axs[i].imshow(state[:, :, i], cmap=\"gray\")\n",
        "  axs[i].set_title(\"Frame \"+str(i+1), fontsize=16)\n",
        "plt.show()\n"
      ],
      "execution_count": 7,
      "outputs": [
        {
          "output_type": "display_data",
          "data": {
            "image/png": "[encoded data removed]",
            "text/plain": [
              "<Figure size 1440x360 with 4 Axes>"
            ]
          },
          "metadata": {
            "tags": [],
            "needs_background": "light"
          }
        }
      ]
    },
    {
      "cell_type": "markdown",
      "metadata": {
        "id": "i8HSZBWkHkbJ"
      },
      "source": [
        "# **Deep Q-Network und Target Network**"
      ]
    },
    {
      "cell_type": "markdown",
      "metadata": {
        "id": "MeLvxPIvLxE8"
      },
      "source": [
        " *\\\"The input to\n",
        "the neural network consists of an 84x84x4 image produced by the preprocessing\n",
        "map **--w-- (falsche Darstellung)**. The first hidden layer convolves 32 filters of 8x8 with stride 4 with the\n",
        "input image and applies a rectifier nonlinearity. The second hidden layer convolves\n",
        "64 filters of 4x4 with stride 2, again followed by a rectifier nonlinearity.\n",
        "This is followed by a third convolutional layer that convolves 64 filters of 333 with\n",
        "stride 1 followed by a rectifier. The final hidden layer is fully-connected and consists\n",
        "of 512 rectifier units. The output layer is a fully-connected linear layer with a\n",
        "single output for each valid action. The number of valid actions varied between 4\n",
        "and 18 on the games we considered.\"*\n",
        "\n",
        "\n",
        "[Mnih, V., Kavukcuoglu, K., Silver, D. et al. Human-level control through deep reinforcement learning. Nature 518, 529–533 (2015).](https://www.nature.com/articles/nature14236)"
      ]
    },
    {
      "cell_type": "code",
      "metadata": {
        "id": "IinnQRAzHhcb"
      },
      "source": [
        "import tensorflow as tf\n",
        "from tensorflow.keras.layers import Activation\n",
        "from tensorflow.keras.layers import Conv2D\n",
        "from tensorflow.keras.layers import Dense\n",
        "from tensorflow.keras.layers import Flatten\n",
        "from tensorflow.keras.layers import Input\n",
        "from tensorflow.keras.models import Model\n",
        "from tensorflow.keras.losses import Huber\n",
        "from tensorflow.keras.optimizers import RMSprop\n",
        "\n",
        "# DQN und Tagret Net Parameters\n",
        "\n",
        "INPUT_SHAPE = (84, 84, 4) # (Höhe, Breite, Frames)\n",
        "OUTPUT_SHAPE = env.action_space.n # Anzahl der möglichen Aktionen\n",
        "LOSS_FUNCTION = Huber()\n",
        "OPTIMIZER = RMSprop(learning_rate=0.00025, rho=0.95, epsilon=0.01)\n",
        "\n",
        "# Funktion zum erstellen eines neuronalen Netzes\n",
        "def build_neural_net(INPUT_SHAPE, OUTPUT_SHAPE, LOSS_FUNCTION, OPTIMIZER):\n",
        "  net_input = Input(shape=INPUT_SHAPE)\n",
        "  x = Conv2D(filters=32, kernel_size=(8, 8), strides=(4, 4), padding=\"same\")(net_input)\n",
        "  x = Activation(\"relu\")(x)\n",
        "  x = Conv2D(filters=64, kernel_size=(4, 4), strides=(2, 2), padding=\"same\")(x)\n",
        "  x = Activation(\"relu\")(x)\n",
        "  x = Conv2D(filters=64, kernel_size=(3, 3), strides=(1, 1), padding=\"same\")(x)\n",
        "  x = Activation(\"relu\")(x)\n",
        "  x = Flatten()(x)\n",
        "  x = Dense(256)(x)\n",
        "  x = Activation(\"relu\")(x)\n",
        "  net_output = Dense(OUTPUT_SHAPE)(x)\n",
        "\n",
        "  model = Model(inputs=net_input, outputs=net_output)\n",
        "  model.compile(loss=LOSS_FUNCTION, optimizer=OPTIMIZER)\n",
        "\n",
        "  return model\n",
        "\n",
        "# Deep Q-Network\n",
        "DQN = build_neural_net(INPUT_SHAPE, OUTPUT_SHAPE, LOSS_FUNCTION, OPTIMIZER)\n",
        "# Target Network\n",
        "TARGET = build_neural_net(INPUT_SHAPE, OUTPUT_SHAPE, LOSS_FUNCTION, OPTIMIZER)"
      ],
      "execution_count": 8,
      "outputs": []
    },
    {
      "cell_type": "code",
      "metadata": {
        "id": "1VobCYZ0N45l",
        "outputId": "e2f27e32-0c64-42d8-c182-f235d6fa9a47",
        "colab": {
          "base_uri": "https://localhost:8080/"
        }
      },
      "source": [
        "DQN.summary(), TARGET.summary()"
      ],
      "execution_count": 9,
      "outputs": [
        {
          "output_type": "stream",
          "text": [
            "Model: \"functional_1\"\n",
            "_________________________________________________________________\n",
            "Layer (type)                 Output Shape              Param #   \n",
            "=================================================================\n",
            "input_1 (InputLayer)         [(None, 84, 84, 4)]       0         \n",
            "_________________________________________________________________\n",
            "conv2d (Conv2D)              (None, 21, 21, 32)        8224      \n",
            "_________________________________________________________________\n",
            "activation (Activation)      (None, 21, 21, 32)        0         \n",
            "_________________________________________________________________\n",
            "conv2d_1 (Conv2D)            (None, 11, 11, 64)        32832     \n",
            "_________________________________________________________________\n",
            "activation_1 (Activation)    (None, 11, 11, 64)        0         \n",
            "_________________________________________________________________\n",
            "conv2d_2 (Conv2D)            (None, 11, 11, 64)        36928     \n",
            "_________________________________________________________________\n",
            "activation_2 (Activation)    (None, 11, 11, 64)        0         \n",
            "_________________________________________________________________\n",
            "flatten (Flatten)            (None, 7744)              0         \n",
            "_________________________________________________________________\n",
            "dense (Dense)                (None, 256)               1982720   \n",
            "_________________________________________________________________\n",
            "activation_3 (Activation)    (None, 256)               0         \n",
            "_________________________________________________________________\n",
            "dense_1 (Dense)              (None, 4)                 1028      \n",
            "=================================================================\n",
            "Total params: 2,061,732\n",
            "Trainable params: 2,061,732\n",
            "Non-trainable params: 0\n",
            "_________________________________________________________________\n",
            "Model: \"functional_3\"\n",
            "_________________________________________________________________\n",
            "Layer (type)                 Output Shape              Param #   \n",
            "=================================================================\n",
            "input_2 (InputLayer)         [(None, 84, 84, 4)]       0         \n",
            "_________________________________________________________________\n",
            "conv2d_3 (Conv2D)            (None, 21, 21, 32)        8224      \n",
            "_________________________________________________________________\n",
            "activation_4 (Activation)    (None, 21, 21, 32)        0         \n",
            "_________________________________________________________________\n",
            "conv2d_4 (Conv2D)            (None, 11, 11, 64)        32832     \n",
            "_________________________________________________________________\n",
            "activation_5 (Activation)    (None, 11, 11, 64)        0         \n",
            "_________________________________________________________________\n",
            "conv2d_5 (Conv2D)            (None, 11, 11, 64)        36928     \n",
            "_________________________________________________________________\n",
            "activation_6 (Activation)    (None, 11, 11, 64)        0         \n",
            "_________________________________________________________________\n",
            "flatten_1 (Flatten)          (None, 7744)              0         \n",
            "_________________________________________________________________\n",
            "dense_2 (Dense)              (None, 256)               1982720   \n",
            "_________________________________________________________________\n",
            "activation_7 (Activation)    (None, 256)               0         \n",
            "_________________________________________________________________\n",
            "dense_3 (Dense)              (None, 4)                 1028      \n",
            "=================================================================\n",
            "Total params: 2,061,732\n",
            "Trainable params: 2,061,732\n",
            "Non-trainable params: 0\n",
            "_________________________________________________________________\n"
          ],
          "name": "stdout"
        },
        {
          "output_type": "execute_result",
          "data": {
            "text/plain": [
              "(None, None)"
            ]
          },
          "metadata": {
            "tags": []
          },
          "execution_count": 9
        }
      ]
    },
    {
      "cell_type": "markdown",
      "metadata": {
        "id": "BGwUt_ERhMuQ"
      },
      "source": [
        "# **Memory Buffer und Experience Replay**"
      ]
    },
    {
      "cell_type": "code",
      "metadata": {
        "id": "z601UsvHjzyz"
      },
      "source": [
        "MEMORY_SIZE = 1000000\n",
        "MEMORY_BUFFER = deque(maxlen=MEMORY_SIZE)\n",
        "TRAIN_START = 50000\n",
        "\n",
        "# Speichert Transition von einem State in einen Folgestate\n",
        "def save_transition(state, action, reward, next_state, done):\n",
        "  MEMORY_BUFFER.append([state, action, reward, next_state, done])"
      ],
      "execution_count": 10,
      "outputs": []
    },
    {
      "cell_type": "code",
      "metadata": {
        "id": "9v5SDTFMoZM2"
      },
      "source": [
        "import random\n",
        "MINIBATCH_SIZE = 32\n",
        "GAMMA = 0.99\n",
        "\n",
        "def replay():\n",
        "\n",
        "  # Ziehe 32 (MINIBATCH_SIZE) zufällige Transitionen aus dem Buffer in einen Minibatch\n",
        "  minibatch = random.sample(MEMORY_BUFFER, MINIBATCH_SIZE)\n",
        "  states, actions, rewards, next_states, dones = zip(*minibatch)\n",
        "\n",
        "  states = np.concatenate(states)\n",
        "  next_states = np.concatenate(next_states)\n",
        "\n",
        "  q_values = DQN.predict(states)\n",
        "  q_values_next = TARGET.predict(next_states)\n",
        "\n",
        "  # Q-Values Update\n",
        "  for i in range(MINIBATCH_SIZE):\n",
        "    a = actions[i]\n",
        "    done = dones[i]\n",
        "    if done:\n",
        "      q_values[i][a] = rewards[i]\n",
        "    else:\n",
        "      q_values[i][a] = rewards[i] + GAMMA * np.max(q_values_next[i])\n",
        "\n",
        "  DQN.fit(states, q_values, verbose=0)"
      ],
      "execution_count": 11,
      "outputs": []
    },
    {
      "cell_type": "markdown",
      "metadata": {
        "id": "F2JdsqGQf_wn"
      },
      "source": [
        "# **Aktion wählen**\n",
        "Exploration & Exploitation"
      ]
    },
    {
      "cell_type": "code",
      "metadata": {
        "id": "QH18a8XDf5ui"
      },
      "source": [
        "EPSILON = 1.0\n",
        "EPSILON_MIN = 0.01\n",
        "EPSILON_STEPS = 1000000\n",
        "\n",
        "def get_action(state):\n",
        "  if np.random.rand() <= EPSILON:\n",
        "    return np.random.randint(env.action_space.n)\n",
        "  else:\n",
        "    return np.argmax(DQN(state))"
      ],
      "execution_count": 12,
      "outputs": []
    },
    {
      "cell_type": "markdown",
      "metadata": {
        "id": "cJQNx-7JhrWw"
      },
      "source": [
        "# **Training des Agenten**"
      ]
    },
    {
      "cell_type": "code",
      "metadata": {
        "id": "BujPrlhAhqhc",
        "outputId": "2e193504-68ee-4e72-8248-a64593f946c8",
        "colab": {
          "base_uri": "https://localhost:8080/",
          "height": 1000
        }
      },
      "source": [
        "EPISODES = 30000\n",
        "REWARD_LIST = []\n",
        "BEST_MEAN_REWARD = 0.0\n",
        "SYNC = 10000\n",
        "\n",
        "for episode in range(EPISODES):\n",
        "  EPISODE_REWARD = 0.0\n",
        "  state = env.reset()\n",
        "  done = False\n",
        "\n",
        "  while not done:\n",
        "    action = get_action(state)\n",
        "    next_state, reward, done, _ = env.step(action)\n",
        "\n",
        "    # Transition im MEMORY BUFFER speichern\n",
        "    save_transition(state, action, reward, next_state, done)\n",
        "    \n",
        "    # Experience Replay, falls genügend Transitionen gespeichert\n",
        "    if len(MEMORY_BUFFER) > TRAIN_START:\n",
        "      replay()\n",
        "\n",
        "    # Reward einer Aktion zum gesamten Reward der Episode addieren\n",
        "    EPISODE_REWARD += reward\n",
        "\n",
        "    # EPSILON verringern\n",
        "    if len(MEMORY_BUFFER) > TRAIN_START:\n",
        "      if EPSILON > EPSILON_MIN:\n",
        "        EPSILON = EPSILON - ((EPSILON - EPSILON_MIN) / EPSILON_STEPS)\n",
        "\n",
        "    # State aktualisieren\n",
        "    state = next_state\n",
        "\n",
        "    # Synchronisation zwischen Target Networks und Deep Q-Network\n",
        "    if episode+1 % SYNC == 0:\n",
        "      TARGET.set_weights(DQN.get_weights())\n",
        "\n",
        "    if done:\n",
        "      REWARD_LIST.append(EPISODE_REWARD)\n",
        "      current_mean_reward = np.mean(REWARD_LIST[-min(len(REWARD_LIST), 10):])\n",
        "      print(\"Episode:\", episode+1, \"\\tReward:\", EPISODE_REWARD, \"\\tMean:\", round(current_mean_reward, 2), \"\\tTRAIN START:\", (len(MEMORY_BUFFER)>TRAIN_START), \"\\tEpsi:\", EPSILON)\n",
        "\n",
        "      # Übernahme des höchsteb Mean Rewards\n",
        "      if current_mean_reward > BEST_MEAN_REWARD:\n",
        "        BEST_MEAN_REWARD = current_mean_reward\n",
        "        \n",
        "        # Trainierte Gewichte speichern\n",
        "        if EPSILON < EPSILON_MIN:\n",
        "          import os\n",
        "          PATH = \"WEIGHTS\"\n",
        "          try:\n",
        "            os.makedirs(PATH)\n",
        "          except FileExistsError:\n",
        "            # Pfad existiert bereits\n",
        "            pass\n",
        "          DQN.save_weights(PATH +\"/\" + game + \"_DQN\"+ \"_Ep_\"+ str(episode+1)+ \".h5\")\n",
        "          TARGET.save_weights(PATH+\"/\" + game + \"_TARGET\" + \"_Ep_\"+ str(episode+1)+ \".h5\")\n",
        "      "
      ],
      "execution_count": 13,
      "outputs": [
        {
          "output_type": "stream",
          "text": [
            "Episode: 1 \tReward: 3.0 \tMean: 3.0 \tTRAIN START: False \tEpsi: 1.0\n",
            "Episode: 2 \tReward: 6.0 \tMean: 4.5 \tTRAIN START: False \tEpsi: 1.0\n",
            "Episode: 3 \tReward: 2.0 \tMean: 3.67 \tTRAIN START: False \tEpsi: 1.0\n",
            "Episode: 4 \tReward: 3.0 \tMean: 3.5 \tTRAIN START: False \tEpsi: 1.0\n",
            "Episode: 5 \tReward: 4.0 \tMean: 3.6 \tTRAIN START: False \tEpsi: 1.0\n",
            "Episode: 6 \tReward: 4.0 \tMean: 3.67 \tTRAIN START: False \tEpsi: 1.0\n",
            "Episode: 7 \tReward: 1.0 \tMean: 3.29 \tTRAIN START: False \tEpsi: 1.0\n",
            "Episode: 8 \tReward: 0.0 \tMean: 2.88 \tTRAIN START: False \tEpsi: 1.0\n",
            "Episode: 9 \tReward: 2.0 \tMean: 2.78 \tTRAIN START: False \tEpsi: 1.0\n",
            "Episode: 10 \tReward: 4.0 \tMean: 2.9 \tTRAIN START: False \tEpsi: 1.0\n",
            "Episode: 11 \tReward: 1.0 \tMean: 2.7 \tTRAIN START: False \tEpsi: 1.0\n",
            "Episode: 12 \tReward: 2.0 \tMean: 2.3 \tTRAIN START: False \tEpsi: 1.0\n",
            "Episode: 13 \tReward: 0.0 \tMean: 2.1 \tTRAIN START: False \tEpsi: 1.0\n",
            "Episode: 14 \tReward: 0.0 \tMean: 1.8 \tTRAIN START: False \tEpsi: 1.0\n",
            "Episode: 15 \tReward: 0.0 \tMean: 1.4 \tTRAIN START: False \tEpsi: 1.0\n",
            "Episode: 16 \tReward: 0.0 \tMean: 1.0 \tTRAIN START: False \tEpsi: 1.0\n",
            "Episode: 17 \tReward: 0.0 \tMean: 0.9 \tTRAIN START: False \tEpsi: 1.0\n",
            "Episode: 18 \tReward: 0.0 \tMean: 0.9 \tTRAIN START: False \tEpsi: 1.0\n",
            "Episode: 19 \tReward: 0.0 \tMean: 0.7 \tTRAIN START: False \tEpsi: 1.0\n",
            "Episode: 20 \tReward: 2.0 \tMean: 0.5 \tTRAIN START: False \tEpsi: 1.0\n",
            "Episode: 21 \tReward: 3.0 \tMean: 0.7 \tTRAIN START: False \tEpsi: 1.0\n",
            "Episode: 22 \tReward: 1.0 \tMean: 0.6 \tTRAIN START: False \tEpsi: 1.0\n",
            "Episode: 23 \tReward: 1.0 \tMean: 0.7 \tTRAIN START: False \tEpsi: 1.0\n",
            "Episode: 24 \tReward: 0.0 \tMean: 0.7 \tTRAIN START: False \tEpsi: 1.0\n",
            "Episode: 25 \tReward: 0.0 \tMean: 0.7 \tTRAIN START: False \tEpsi: 1.0\n",
            "Episode: 26 \tReward: 0.0 \tMean: 0.7 \tTRAIN START: False \tEpsi: 1.0\n",
            "Episode: 27 \tReward: 1.0 \tMean: 0.8 \tTRAIN START: False \tEpsi: 1.0\n",
            "Episode: 28 \tReward: 0.0 \tMean: 0.8 \tTRAIN START: False \tEpsi: 1.0\n",
            "Episode: 29 \tReward: 0.0 \tMean: 0.8 \tTRAIN START: False \tEpsi: 1.0\n",
            "Episode: 30 \tReward: 1.0 \tMean: 0.7 \tTRAIN START: False \tEpsi: 1.0\n",
            "Episode: 31 \tReward: 1.0 \tMean: 0.5 \tTRAIN START: False \tEpsi: 1.0\n",
            "Episode: 32 \tReward: 0.0 \tMean: 0.4 \tTRAIN START: False \tEpsi: 1.0\n",
            "Episode: 33 \tReward: 0.0 \tMean: 0.3 \tTRAIN START: False \tEpsi: 1.0\n",
            "Episode: 34 \tReward: 3.0 \tMean: 0.6 \tTRAIN START: False \tEpsi: 1.0\n",
            "Episode: 35 \tReward: 0.0 \tMean: 0.6 \tTRAIN START: False \tEpsi: 1.0\n",
            "Episode: 36 \tReward: 1.0 \tMean: 0.7 \tTRAIN START: False \tEpsi: 1.0\n",
            "Episode: 37 \tReward: 2.0 \tMean: 0.8 \tTRAIN START: False \tEpsi: 1.0\n",
            "Episode: 38 \tReward: 1.0 \tMean: 0.9 \tTRAIN START: False \tEpsi: 1.0\n",
            "Episode: 39 \tReward: 0.0 \tMean: 0.9 \tTRAIN START: False \tEpsi: 1.0\n",
            "Episode: 40 \tReward: 2.0 \tMean: 1.0 \tTRAIN START: False \tEpsi: 1.0\n",
            "Episode: 41 \tReward: 0.0 \tMean: 0.9 \tTRAIN START: False \tEpsi: 1.0\n",
            "Episode: 42 \tReward: 2.0 \tMean: 1.1 \tTRAIN START: False \tEpsi: 1.0\n",
            "Episode: 43 \tReward: 0.0 \tMean: 1.1 \tTRAIN START: False \tEpsi: 1.0\n",
            "Episode: 44 \tReward: 0.0 \tMean: 0.8 \tTRAIN START: False \tEpsi: 1.0\n",
            "Episode: 45 \tReward: 0.0 \tMean: 0.8 \tTRAIN START: False \tEpsi: 1.0\n",
            "Episode: 46 \tReward: 1.0 \tMean: 0.8 \tTRAIN START: False \tEpsi: 1.0\n",
            "Episode: 47 \tReward: 0.0 \tMean: 0.6 \tTRAIN START: False \tEpsi: 1.0\n",
            "Episode: 48 \tReward: 3.0 \tMean: 0.8 \tTRAIN START: False \tEpsi: 1.0\n",
            "Episode: 49 \tReward: 2.0 \tMean: 1.0 \tTRAIN START: False \tEpsi: 1.0\n",
            "Episode: 50 \tReward: 0.0 \tMean: 0.8 \tTRAIN START: False \tEpsi: 1.0\n",
            "Episode: 51 \tReward: 1.0 \tMean: 0.9 \tTRAIN START: False \tEpsi: 1.0\n",
            "Episode: 52 \tReward: 1.0 \tMean: 0.8 \tTRAIN START: False \tEpsi: 1.0\n",
            "Episode: 53 \tReward: 2.0 \tMean: 1.0 \tTRAIN START: False \tEpsi: 1.0\n",
            "Episode: 54 \tReward: 0.0 \tMean: 1.0 \tTRAIN START: False \tEpsi: 1.0\n",
            "Episode: 55 \tReward: 3.0 \tMean: 1.3 \tTRAIN START: False \tEpsi: 1.0\n",
            "Episode: 56 \tReward: 0.0 \tMean: 1.2 \tTRAIN START: False \tEpsi: 1.0\n",
            "Episode: 57 \tReward: 4.0 \tMean: 1.6 \tTRAIN START: False \tEpsi: 1.0\n",
            "Episode: 58 \tReward: 1.0 \tMean: 1.4 \tTRAIN START: False \tEpsi: 1.0\n",
            "Episode: 59 \tReward: 0.0 \tMean: 1.2 \tTRAIN START: False \tEpsi: 1.0\n",
            "Episode: 60 \tReward: 2.0 \tMean: 1.4 \tTRAIN START: False \tEpsi: 1.0\n",
            "Episode: 61 \tReward: 2.0 \tMean: 1.5 \tTRAIN START: False \tEpsi: 1.0\n",
            "Episode: 62 \tReward: 1.0 \tMean: 1.5 \tTRAIN START: False \tEpsi: 1.0\n",
            "Episode: 63 \tReward: 4.0 \tMean: 1.7 \tTRAIN START: False \tEpsi: 1.0\n",
            "Episode: 64 \tReward: 0.0 \tMean: 1.7 \tTRAIN START: False \tEpsi: 1.0\n",
            "Episode: 65 \tReward: 1.0 \tMean: 1.5 \tTRAIN START: False \tEpsi: 1.0\n",
            "Episode: 66 \tReward: 0.0 \tMean: 1.5 \tTRAIN START: False \tEpsi: 1.0\n",
            "Episode: 67 \tReward: 2.0 \tMean: 1.3 \tTRAIN START: False \tEpsi: 1.0\n",
            "Episode: 68 \tReward: 1.0 \tMean: 1.3 \tTRAIN START: False \tEpsi: 1.0\n",
            "Episode: 69 \tReward: 2.0 \tMean: 1.5 \tTRAIN START: False \tEpsi: 1.0\n",
            "Episode: 70 \tReward: 2.0 \tMean: 1.5 \tTRAIN START: False \tEpsi: 1.0\n",
            "Episode: 71 \tReward: 2.0 \tMean: 1.5 \tTRAIN START: False \tEpsi: 1.0\n",
            "Episode: 72 \tReward: 0.0 \tMean: 1.4 \tTRAIN START: False \tEpsi: 1.0\n",
            "Episode: 73 \tReward: 4.0 \tMean: 1.4 \tTRAIN START: False \tEpsi: 1.0\n",
            "Episode: 74 \tReward: 0.0 \tMean: 1.4 \tTRAIN START: False \tEpsi: 1.0\n",
            "Episode: 75 \tReward: 2.0 \tMean: 1.5 \tTRAIN START: False \tEpsi: 1.0\n",
            "Episode: 76 \tReward: 2.0 \tMean: 1.7 \tTRAIN START: False \tEpsi: 1.0\n",
            "Episode: 77 \tReward: 1.0 \tMean: 1.6 \tTRAIN START: False \tEpsi: 1.0\n",
            "Episode: 78 \tReward: 1.0 \tMean: 1.6 \tTRAIN START: False \tEpsi: 1.0\n",
            "Episode: 79 \tReward: 2.0 \tMean: 1.6 \tTRAIN START: False \tEpsi: 1.0\n",
            "Episode: 80 \tReward: 1.0 \tMean: 1.5 \tTRAIN START: False \tEpsi: 1.0\n",
            "Episode: 81 \tReward: 2.0 \tMean: 1.5 \tTRAIN START: False \tEpsi: 1.0\n",
            "Episode: 82 \tReward: 2.0 \tMean: 1.7 \tTRAIN START: False \tEpsi: 1.0\n",
            "Episode: 83 \tReward: 0.0 \tMean: 1.3 \tTRAIN START: False \tEpsi: 1.0\n",
            "Episode: 84 \tReward: 2.0 \tMean: 1.5 \tTRAIN START: False \tEpsi: 1.0\n",
            "Episode: 85 \tReward: 0.0 \tMean: 1.3 \tTRAIN START: False \tEpsi: 1.0\n",
            "Episode: 86 \tReward: 2.0 \tMean: 1.3 \tTRAIN START: False \tEpsi: 1.0\n",
            "Episode: 87 \tReward: 2.0 \tMean: 1.4 \tTRAIN START: False \tEpsi: 1.0\n",
            "Episode: 88 \tReward: 2.0 \tMean: 1.5 \tTRAIN START: False \tEpsi: 1.0\n",
            "Episode: 89 \tReward: 2.0 \tMean: 1.5 \tTRAIN START: False \tEpsi: 1.0\n",
            "Episode: 90 \tReward: 2.0 \tMean: 1.6 \tTRAIN START: False \tEpsi: 1.0\n",
            "Episode: 91 \tReward: 0.0 \tMean: 1.4 \tTRAIN START: False \tEpsi: 1.0\n",
            "Episode: 92 \tReward: 0.0 \tMean: 1.2 \tTRAIN START: False \tEpsi: 1.0\n",
            "Episode: 93 \tReward: 0.0 \tMean: 1.2 \tTRAIN START: False \tEpsi: 1.0\n",
            "Episode: 94 \tReward: 1.0 \tMean: 1.1 \tTRAIN START: False \tEpsi: 1.0\n",
            "Episode: 95 \tReward: 3.0 \tMean: 1.4 \tTRAIN START: False \tEpsi: 1.0\n",
            "Episode: 96 \tReward: 0.0 \tMean: 1.2 \tTRAIN START: False \tEpsi: 1.0\n",
            "Episode: 97 \tReward: 0.0 \tMean: 1.0 \tTRAIN START: False \tEpsi: 1.0\n",
            "Episode: 98 \tReward: 1.0 \tMean: 0.9 \tTRAIN START: False \tEpsi: 1.0\n",
            "Episode: 99 \tReward: 5.0 \tMean: 1.2 \tTRAIN START: False \tEpsi: 1.0\n",
            "Episode: 100 \tReward: 2.0 \tMean: 1.2 \tTRAIN START: False \tEpsi: 1.0\n",
            "Episode: 101 \tReward: 2.0 \tMean: 1.4 \tTRAIN START: False \tEpsi: 1.0\n",
            "Episode: 102 \tReward: 1.0 \tMean: 1.5 \tTRAIN START: False \tEpsi: 1.0\n",
            "Episode: 103 \tReward: 8.0 \tMean: 2.3 \tTRAIN START: False \tEpsi: 1.0\n",
            "Episode: 104 \tReward: 2.0 \tMean: 2.4 \tTRAIN START: False \tEpsi: 1.0\n",
            "Episode: 105 \tReward: 2.0 \tMean: 2.3 \tTRAIN START: False \tEpsi: 1.0\n",
            "Episode: 106 \tReward: 3.0 \tMean: 2.6 \tTRAIN START: False \tEpsi: 1.0\n",
            "Episode: 107 \tReward: 4.0 \tMean: 3.0 \tTRAIN START: False \tEpsi: 1.0\n",
            "Episode: 108 \tReward: 1.0 \tMean: 3.0 \tTRAIN START: False \tEpsi: 1.0\n",
            "Episode: 109 \tReward: 2.0 \tMean: 2.7 \tTRAIN START: False \tEpsi: 1.0\n",
            "Episode: 110 \tReward: 0.0 \tMean: 2.5 \tTRAIN START: False \tEpsi: 1.0\n",
            "Episode: 111 \tReward: 3.0 \tMean: 2.6 \tTRAIN START: False \tEpsi: 1.0\n",
            "Episode: 112 \tReward: 1.0 \tMean: 2.6 \tTRAIN START: False \tEpsi: 1.0\n",
            "Episode: 113 \tReward: 2.0 \tMean: 2.0 \tTRAIN START: False \tEpsi: 1.0\n",
            "Episode: 114 \tReward: 0.0 \tMean: 1.8 \tTRAIN START: False \tEpsi: 1.0\n",
            "Episode: 115 \tReward: 1.0 \tMean: 1.7 \tTRAIN START: False \tEpsi: 1.0\n",
            "Episode: 116 \tReward: 2.0 \tMean: 1.6 \tTRAIN START: False \tEpsi: 1.0\n",
            "Episode: 117 \tReward: 2.0 \tMean: 1.4 \tTRAIN START: False \tEpsi: 1.0\n",
            "Episode: 118 \tReward: 0.0 \tMean: 1.3 \tTRAIN START: False \tEpsi: 1.0\n",
            "Episode: 119 \tReward: 0.0 \tMean: 1.1 \tTRAIN START: False \tEpsi: 1.0\n",
            "Episode: 120 \tReward: 2.0 \tMean: 1.3 \tTRAIN START: False \tEpsi: 1.0\n",
            "Episode: 121 \tReward: 2.0 \tMean: 1.2 \tTRAIN START: False \tEpsi: 1.0\n",
            "Episode: 122 \tReward: 2.0 \tMean: 1.3 \tTRAIN START: False \tEpsi: 1.0\n",
            "Episode: 123 \tReward: 0.0 \tMean: 1.1 \tTRAIN START: False \tEpsi: 1.0\n",
            "Episode: 124 \tReward: 0.0 \tMean: 1.1 \tTRAIN START: False \tEpsi: 1.0\n",
            "Episode: 125 \tReward: 0.0 \tMean: 1.0 \tTRAIN START: False \tEpsi: 1.0\n",
            "Episode: 126 \tReward: 0.0 \tMean: 0.8 \tTRAIN START: False \tEpsi: 1.0\n",
            "Episode: 127 \tReward: 1.0 \tMean: 0.7 \tTRAIN START: False \tEpsi: 1.0\n",
            "Episode: 128 \tReward: 0.0 \tMean: 0.7 \tTRAIN START: False \tEpsi: 1.0\n",
            "Episode: 129 \tReward: 1.0 \tMean: 0.8 \tTRAIN START: False \tEpsi: 1.0\n",
            "Episode: 130 \tReward: 3.0 \tMean: 0.9 \tTRAIN START: False \tEpsi: 1.0\n",
            "Episode: 131 \tReward: 2.0 \tMean: 0.9 \tTRAIN START: False \tEpsi: 1.0\n",
            "Episode: 132 \tReward: 3.0 \tMean: 1.0 \tTRAIN START: False \tEpsi: 1.0\n",
            "Episode: 133 \tReward: 1.0 \tMean: 1.1 \tTRAIN START: False \tEpsi: 1.0\n",
            "Episode: 134 \tReward: 0.0 \tMean: 1.1 \tTRAIN START: False \tEpsi: 1.0\n",
            "Episode: 135 \tReward: 1.0 \tMean: 1.2 \tTRAIN START: False \tEpsi: 1.0\n",
            "Episode: 136 \tReward: 1.0 \tMean: 1.3 \tTRAIN START: False \tEpsi: 1.0\n",
            "Episode: 137 \tReward: 5.0 \tMean: 1.7 \tTRAIN START: False \tEpsi: 1.0\n",
            "Episode: 138 \tReward: 1.0 \tMean: 1.8 \tTRAIN START: False \tEpsi: 1.0\n",
            "Episode: 139 \tReward: 2.0 \tMean: 1.9 \tTRAIN START: False \tEpsi: 1.0\n",
            "Episode: 140 \tReward: 4.0 \tMean: 2.0 \tTRAIN START: False \tEpsi: 1.0\n",
            "Episode: 141 \tReward: 3.0 \tMean: 2.1 \tTRAIN START: False \tEpsi: 1.0\n",
            "Episode: 142 \tReward: 2.0 \tMean: 2.0 \tTRAIN START: False \tEpsi: 1.0\n",
            "Episode: 143 \tReward: 1.0 \tMean: 2.0 \tTRAIN START: False \tEpsi: 1.0\n",
            "Episode: 144 \tReward: 1.0 \tMean: 2.1 \tTRAIN START: False \tEpsi: 1.0\n",
            "Episode: 145 \tReward: 4.0 \tMean: 2.4 \tTRAIN START: False \tEpsi: 1.0\n",
            "Episode: 146 \tReward: 1.0 \tMean: 2.4 \tTRAIN START: False \tEpsi: 1.0\n",
            "Episode: 147 \tReward: 2.0 \tMean: 2.1 \tTRAIN START: False \tEpsi: 1.0\n",
            "Episode: 148 \tReward: 2.0 \tMean: 2.2 \tTRAIN START: False \tEpsi: 1.0\n",
            "Episode: 149 \tReward: 2.0 \tMean: 2.2 \tTRAIN START: False \tEpsi: 1.0\n",
            "Episode: 150 \tReward: 0.0 \tMean: 1.8 \tTRAIN START: False \tEpsi: 1.0\n",
            "Episode: 151 \tReward: 0.0 \tMean: 1.5 \tTRAIN START: False \tEpsi: 1.0\n",
            "Episode: 152 \tReward: 0.0 \tMean: 1.3 \tTRAIN START: False \tEpsi: 1.0\n",
            "Episode: 153 \tReward: 2.0 \tMean: 1.4 \tTRAIN START: False \tEpsi: 1.0\n",
            "Episode: 154 \tReward: 1.0 \tMean: 1.4 \tTRAIN START: False \tEpsi: 1.0\n",
            "Episode: 155 \tReward: 1.0 \tMean: 1.1 \tTRAIN START: False \tEpsi: 1.0\n",
            "Episode: 156 \tReward: 0.0 \tMean: 1.0 \tTRAIN START: False \tEpsi: 1.0\n",
            "Episode: 157 \tReward: 1.0 \tMean: 0.9 \tTRAIN START: False \tEpsi: 1.0\n",
            "Episode: 158 \tReward: 3.0 \tMean: 1.0 \tTRAIN START: False \tEpsi: 1.0\n",
            "Episode: 159 \tReward: 5.0 \tMean: 1.3 \tTRAIN START: False \tEpsi: 1.0\n",
            "Episode: 160 \tReward: 1.0 \tMean: 1.4 \tTRAIN START: False \tEpsi: 1.0\n",
            "Episode: 161 \tReward: 3.0 \tMean: 1.7 \tTRAIN START: False \tEpsi: 1.0\n",
            "Episode: 162 \tReward: 0.0 \tMean: 1.7 \tTRAIN START: False \tEpsi: 1.0\n",
            "Episode: 163 \tReward: 0.0 \tMean: 1.5 \tTRAIN START: False \tEpsi: 1.0\n",
            "Episode: 164 \tReward: 0.0 \tMean: 1.4 \tTRAIN START: False \tEpsi: 1.0\n",
            "Episode: 165 \tReward: 4.0 \tMean: 1.7 \tTRAIN START: False \tEpsi: 1.0\n",
            "Episode: 166 \tReward: 0.0 \tMean: 1.7 \tTRAIN START: False \tEpsi: 1.0\n",
            "Episode: 167 \tReward: 1.0 \tMean: 1.7 \tTRAIN START: False \tEpsi: 1.0\n",
            "Episode: 168 \tReward: 0.0 \tMean: 1.4 \tTRAIN START: False \tEpsi: 1.0\n",
            "Episode: 169 \tReward: 3.0 \tMean: 1.2 \tTRAIN START: False \tEpsi: 1.0\n",
            "Episode: 170 \tReward: 4.0 \tMean: 1.5 \tTRAIN START: False \tEpsi: 1.0\n",
            "Episode: 171 \tReward: 1.0 \tMean: 1.3 \tTRAIN START: False \tEpsi: 1.0\n",
            "Episode: 172 \tReward: 0.0 \tMean: 1.3 \tTRAIN START: False \tEpsi: 1.0\n",
            "Episode: 173 \tReward: 1.0 \tMean: 1.4 \tTRAIN START: False \tEpsi: 1.0\n",
            "Episode: 174 \tReward: 1.0 \tMean: 1.5 \tTRAIN START: False \tEpsi: 1.0\n",
            "Episode: 175 \tReward: 2.0 \tMean: 1.3 \tTRAIN START: False \tEpsi: 1.0\n",
            "Episode: 176 \tReward: 0.0 \tMean: 1.3 \tTRAIN START: False \tEpsi: 1.0\n",
            "Episode: 177 \tReward: 3.0 \tMean: 1.5 \tTRAIN START: False \tEpsi: 1.0\n",
            "Episode: 178 \tReward: 0.0 \tMean: 1.5 \tTRAIN START: False \tEpsi: 1.0\n",
            "Episode: 179 \tReward: 2.0 \tMean: 1.4 \tTRAIN START: False \tEpsi: 1.0\n",
            "Episode: 180 \tReward: 1.0 \tMean: 1.1 \tTRAIN START: False \tEpsi: 1.0\n",
            "Episode: 181 \tReward: 3.0 \tMean: 1.3 \tTRAIN START: False \tEpsi: 1.0\n",
            "Episode: 182 \tReward: 5.0 \tMean: 1.8 \tTRAIN START: False \tEpsi: 1.0\n",
            "Episode: 183 \tReward: 2.0 \tMean: 1.9 \tTRAIN START: False \tEpsi: 1.0\n",
            "Episode: 184 \tReward: 2.0 \tMean: 2.0 \tTRAIN START: False \tEpsi: 1.0\n",
            "Episode: 185 \tReward: 0.0 \tMean: 1.8 \tTRAIN START: False \tEpsi: 1.0\n",
            "Episode: 186 \tReward: 2.0 \tMean: 2.0 \tTRAIN START: False \tEpsi: 1.0\n",
            "Episode: 187 \tReward: 1.0 \tMean: 1.8 \tTRAIN START: False \tEpsi: 1.0\n",
            "Episode: 188 \tReward: 2.0 \tMean: 2.0 \tTRAIN START: False \tEpsi: 1.0\n",
            "Episode: 189 \tReward: 0.0 \tMean: 1.8 \tTRAIN START: False \tEpsi: 1.0\n",
            "Episode: 190 \tReward: 2.0 \tMean: 1.9 \tTRAIN START: False \tEpsi: 1.0\n",
            "Episode: 191 \tReward: 2.0 \tMean: 1.8 \tTRAIN START: False \tEpsi: 1.0\n",
            "Episode: 192 \tReward: 2.0 \tMean: 1.5 \tTRAIN START: False \tEpsi: 1.0\n",
            "Episode: 193 \tReward: 2.0 \tMean: 1.5 \tTRAIN START: False \tEpsi: 1.0\n",
            "Episode: 194 \tReward: 1.0 \tMean: 1.4 \tTRAIN START: False \tEpsi: 1.0\n",
            "Episode: 195 \tReward: 3.0 \tMean: 1.7 \tTRAIN START: False \tEpsi: 1.0\n",
            "Episode: 196 \tReward: 0.0 \tMean: 1.5 \tTRAIN START: False \tEpsi: 1.0\n",
            "Episode: 197 \tReward: 2.0 \tMean: 1.6 \tTRAIN START: False \tEpsi: 1.0\n",
            "Episode: 198 \tReward: 2.0 \tMean: 1.6 \tTRAIN START: False \tEpsi: 1.0\n",
            "Episode: 199 \tReward: 2.0 \tMean: 1.8 \tTRAIN START: False \tEpsi: 1.0\n",
            "Episode: 200 \tReward: 1.0 \tMean: 1.7 \tTRAIN START: True \tEpsi: 0.999935652059157\n",
            "Episode: 201 \tReward: 1.0 \tMean: 1.6 \tTRAIN START: True \tEpsi: 0.9997357051527853\n",
            "Episode: 202 \tReward: 0.0 \tMean: 1.4 \tTRAIN START: True \tEpsi: 0.9995625164722411\n",
            "Episode: 203 \tReward: 0.0 \tMean: 1.2 \tTRAIN START: True \tEpsi: 0.9993824323923496\n",
            "Episode: 204 \tReward: 2.0 \tMean: 1.3 \tTRAIN START: True \tEpsi: 0.9990757712199134\n",
            "Episode: 205 \tReward: 1.0 \tMean: 1.1 \tTRAIN START: True \tEpsi: 0.9988443544505573\n",
            "Episode: 206 \tReward: 1.0 \tMean: 1.2 \tTRAIN START: True \tEpsi: 0.9986347415623588\n",
            "Episode: 207 \tReward: 0.0 \tMean: 1.0 \tTRAIN START: True \tEpsi: 0.9984686647935771\n",
            "Episode: 208 \tReward: 1.0 \tMean: 0.9 \tTRAIN START: True \tEpsi: 0.9982196019487545\n",
            "Episode: 209 \tReward: 2.0 \tMean: 0.9 \tTRAIN START: True \tEpsi: 0.9979251562347402\n",
            "Episode: 210 \tReward: 2.0 \tMean: 1.0 \tTRAIN START: True \tEpsi: 0.9976288229919122\n",
            "Episode: 211 \tReward: 3.0 \tMean: 1.2 \tTRAIN START: True \tEpsi: 0.9972674168033602\n",
            "Episode: 212 \tReward: 1.0 \tMean: 1.3 \tTRAIN START: True \tEpsi: 0.9970324749998738\n"
          ],
          "name": "stdout"
        },
        {
          "output_type": "error",
          "ename": "KeyboardInterrupt",
          "evalue": "ignored",
          "traceback": [
            "\u001b[0;31m---------------------------------------------------------------------------\u001b[0m",
            "\u001b[0;31mKeyboardInterrupt\u001b[0m                         Traceback (most recent call last)",
            "\u001b[0;32m<ipython-input-13-2cb6bdef8876>\u001b[0m in \u001b[0;36m<module>\u001b[0;34m()\u001b[0m\n\u001b[1;32m     18\u001b[0m     \u001b[0;31m# Experience Replay, falls genügend Transitionen gespeichert\u001b[0m\u001b[0;34m\u001b[0m\u001b[0;34m\u001b[0m\u001b[0;34m\u001b[0m\u001b[0m\n\u001b[1;32m     19\u001b[0m     \u001b[0;32mif\u001b[0m \u001b[0mlen\u001b[0m\u001b[0;34m(\u001b[0m\u001b[0mMEMORY_BUFFER\u001b[0m\u001b[0;34m)\u001b[0m \u001b[0;34m>\u001b[0m \u001b[0mTRAIN_START\u001b[0m\u001b[0;34m:\u001b[0m\u001b[0;34m\u001b[0m\u001b[0;34m\u001b[0m\u001b[0m\n\u001b[0;32m---> 20\u001b[0;31m       \u001b[0mreplay\u001b[0m\u001b[0;34m(\u001b[0m\u001b[0;34m)\u001b[0m\u001b[0;34m\u001b[0m\u001b[0;34m\u001b[0m\u001b[0m\n\u001b[0m\u001b[1;32m     21\u001b[0m \u001b[0;34m\u001b[0m\u001b[0m\n\u001b[1;32m     22\u001b[0m     \u001b[0;31m# Reward einer Aktion zum gesamten Reward der Episode addieren\u001b[0m\u001b[0;34m\u001b[0m\u001b[0;34m\u001b[0m\u001b[0;34m\u001b[0m\u001b[0m\n",
            "\u001b[0;32m<ipython-input-11-6f8b5b1562df>\u001b[0m in \u001b[0;36mreplay\u001b[0;34m()\u001b[0m\n\u001b[1;32m     12\u001b[0m   \u001b[0mnext_states\u001b[0m \u001b[0;34m=\u001b[0m \u001b[0mnp\u001b[0m\u001b[0;34m.\u001b[0m\u001b[0mconcatenate\u001b[0m\u001b[0;34m(\u001b[0m\u001b[0mnext_states\u001b[0m\u001b[0;34m)\u001b[0m\u001b[0;34m\u001b[0m\u001b[0;34m\u001b[0m\u001b[0m\n\u001b[1;32m     13\u001b[0m \u001b[0;34m\u001b[0m\u001b[0m\n\u001b[0;32m---> 14\u001b[0;31m   \u001b[0mq_values\u001b[0m \u001b[0;34m=\u001b[0m \u001b[0mDQN\u001b[0m\u001b[0;34m.\u001b[0m\u001b[0mpredict\u001b[0m\u001b[0;34m(\u001b[0m\u001b[0mstates\u001b[0m\u001b[0;34m)\u001b[0m\u001b[0;34m\u001b[0m\u001b[0;34m\u001b[0m\u001b[0m\n\u001b[0m\u001b[1;32m     15\u001b[0m   \u001b[0mq_values_next\u001b[0m \u001b[0;34m=\u001b[0m \u001b[0mTARGET\u001b[0m\u001b[0;34m.\u001b[0m\u001b[0mpredict\u001b[0m\u001b[0;34m(\u001b[0m\u001b[0mnext_states\u001b[0m\u001b[0;34m)\u001b[0m\u001b[0;34m\u001b[0m\u001b[0;34m\u001b[0m\u001b[0m\n\u001b[1;32m     16\u001b[0m \u001b[0;34m\u001b[0m\u001b[0m\n",
            "\u001b[0;32m/usr/local/lib/python3.6/dist-packages/tensorflow/python/keras/engine/training.py\u001b[0m in \u001b[0;36m_method_wrapper\u001b[0;34m(self, *args, **kwargs)\u001b[0m\n\u001b[1;32m    128\u001b[0m       raise ValueError('{} is not supported in multi-worker mode.'.format(\n\u001b[1;32m    129\u001b[0m           method.__name__))\n\u001b[0;32m--> 130\u001b[0;31m     \u001b[0;32mreturn\u001b[0m \u001b[0mmethod\u001b[0m\u001b[0;34m(\u001b[0m\u001b[0mself\u001b[0m\u001b[0;34m,\u001b[0m \u001b[0;34m*\u001b[0m\u001b[0margs\u001b[0m\u001b[0;34m,\u001b[0m \u001b[0;34m**\u001b[0m\u001b[0mkwargs\u001b[0m\u001b[0;34m)\u001b[0m\u001b[0;34m\u001b[0m\u001b[0;34m\u001b[0m\u001b[0m\n\u001b[0m\u001b[1;32m    131\u001b[0m \u001b[0;34m\u001b[0m\u001b[0m\n\u001b[1;32m    132\u001b[0m   return tf_decorator.make_decorator(\n",
            "\u001b[0;32m/usr/local/lib/python3.6/dist-packages/tensorflow/python/keras/engine/training.py\u001b[0m in \u001b[0;36mpredict\u001b[0;34m(self, x, batch_size, verbose, steps, callbacks, max_queue_size, workers, use_multiprocessing)\u001b[0m\n\u001b[1;32m   1577\u001b[0m           \u001b[0muse_multiprocessing\u001b[0m\u001b[0;34m=\u001b[0m\u001b[0muse_multiprocessing\u001b[0m\u001b[0;34m,\u001b[0m\u001b[0;34m\u001b[0m\u001b[0;34m\u001b[0m\u001b[0m\n\u001b[1;32m   1578\u001b[0m           \u001b[0mmodel\u001b[0m\u001b[0;34m=\u001b[0m\u001b[0mself\u001b[0m\u001b[0;34m,\u001b[0m\u001b[0;34m\u001b[0m\u001b[0;34m\u001b[0m\u001b[0m\n\u001b[0;32m-> 1579\u001b[0;31m           steps_per_execution=self._steps_per_execution)\n\u001b[0m\u001b[1;32m   1580\u001b[0m \u001b[0;34m\u001b[0m\u001b[0m\n\u001b[1;32m   1581\u001b[0m       \u001b[0;31m# Container that configures and calls `tf.keras.Callback`s.\u001b[0m\u001b[0;34m\u001b[0m\u001b[0;34m\u001b[0m\u001b[0;34m\u001b[0m\u001b[0m\n",
            "\u001b[0;32m/usr/local/lib/python3.6/dist-packages/tensorflow/python/keras/engine/data_adapter.py\u001b[0m in \u001b[0;36m__init__\u001b[0;34m(self, x, y, sample_weight, batch_size, steps_per_epoch, initial_epoch, epochs, shuffle, class_weight, max_queue_size, workers, use_multiprocessing, model, steps_per_execution)\u001b[0m\n\u001b[1;32m   1115\u001b[0m         \u001b[0muse_multiprocessing\u001b[0m\u001b[0;34m=\u001b[0m\u001b[0muse_multiprocessing\u001b[0m\u001b[0;34m,\u001b[0m\u001b[0;34m\u001b[0m\u001b[0;34m\u001b[0m\u001b[0m\n\u001b[1;32m   1116\u001b[0m         \u001b[0mdistribution_strategy\u001b[0m\u001b[0;34m=\u001b[0m\u001b[0mds_context\u001b[0m\u001b[0;34m.\u001b[0m\u001b[0mget_strategy\u001b[0m\u001b[0;34m(\u001b[0m\u001b[0;34m)\u001b[0m\u001b[0;34m,\u001b[0m\u001b[0;34m\u001b[0m\u001b[0;34m\u001b[0m\u001b[0m\n\u001b[0;32m-> 1117\u001b[0;31m         model=model)\n\u001b[0m\u001b[1;32m   1118\u001b[0m \u001b[0;34m\u001b[0m\u001b[0m\n\u001b[1;32m   1119\u001b[0m     \u001b[0mstrategy\u001b[0m \u001b[0;34m=\u001b[0m \u001b[0mds_context\u001b[0m\u001b[0;34m.\u001b[0m\u001b[0mget_strategy\u001b[0m\u001b[0;34m(\u001b[0m\u001b[0;34m)\u001b[0m\u001b[0;34m\u001b[0m\u001b[0;34m\u001b[0m\u001b[0m\n",
            "\u001b[0;32m/usr/local/lib/python3.6/dist-packages/tensorflow/python/keras/engine/data_adapter.py\u001b[0m in \u001b[0;36m__init__\u001b[0;34m(self, x, y, sample_weights, sample_weight_modes, batch_size, epochs, steps, shuffle, **kwargs)\u001b[0m\n\u001b[1;32m    360\u001b[0m       \u001b[0;32mreturn\u001b[0m \u001b[0mflat_dataset\u001b[0m\u001b[0;34m\u001b[0m\u001b[0;34m\u001b[0m\u001b[0m\n\u001b[1;32m    361\u001b[0m \u001b[0;34m\u001b[0m\u001b[0m\n\u001b[0;32m--> 362\u001b[0;31m     \u001b[0mindices_dataset\u001b[0m \u001b[0;34m=\u001b[0m \u001b[0mindices_dataset\u001b[0m\u001b[0;34m.\u001b[0m\u001b[0mflat_map\u001b[0m\u001b[0;34m(\u001b[0m\u001b[0mslice_batch_indices\u001b[0m\u001b[0;34m)\u001b[0m\u001b[0;34m\u001b[0m\u001b[0;34m\u001b[0m\u001b[0m\n\u001b[0m\u001b[1;32m    363\u001b[0m \u001b[0;34m\u001b[0m\u001b[0m\n\u001b[1;32m    364\u001b[0m     \u001b[0mdataset\u001b[0m \u001b[0;34m=\u001b[0m \u001b[0mself\u001b[0m\u001b[0;34m.\u001b[0m\u001b[0mslice_inputs\u001b[0m\u001b[0;34m(\u001b[0m\u001b[0mindices_dataset\u001b[0m\u001b[0;34m,\u001b[0m \u001b[0minputs\u001b[0m\u001b[0;34m)\u001b[0m\u001b[0;34m\u001b[0m\u001b[0;34m\u001b[0m\u001b[0m\n",
            "\u001b[0;32m/usr/local/lib/python3.6/dist-packages/tensorflow/python/data/ops/dataset_ops.py\u001b[0m in \u001b[0;36mflat_map\u001b[0;34m(self, map_func)\u001b[0m\n\u001b[1;32m   1725\u001b[0m       \u001b[0mDataset\u001b[0m\u001b[0;34m:\u001b[0m \u001b[0mA\u001b[0m\u001b[0;31m \u001b[0m\u001b[0;31m`\u001b[0m\u001b[0mDataset\u001b[0m\u001b[0;31m`\u001b[0m\u001b[0;34m.\u001b[0m\u001b[0;34m\u001b[0m\u001b[0;34m\u001b[0m\u001b[0m\n\u001b[1;32m   1726\u001b[0m     \"\"\"\n\u001b[0;32m-> 1727\u001b[0;31m     \u001b[0;32mreturn\u001b[0m \u001b[0mFlatMapDataset\u001b[0m\u001b[0;34m(\u001b[0m\u001b[0mself\u001b[0m\u001b[0;34m,\u001b[0m \u001b[0mmap_func\u001b[0m\u001b[0;34m)\u001b[0m\u001b[0;34m\u001b[0m\u001b[0;34m\u001b[0m\u001b[0m\n\u001b[0m\u001b[1;32m   1728\u001b[0m \u001b[0;34m\u001b[0m\u001b[0m\n\u001b[1;32m   1729\u001b[0m   def interleave(self,\n",
            "\u001b[0;32m/usr/local/lib/python3.6/dist-packages/tensorflow/python/data/ops/dataset_ops.py\u001b[0m in \u001b[0;36m__init__\u001b[0;34m(self, input_dataset, map_func)\u001b[0m\n\u001b[1;32m   4121\u001b[0m     \u001b[0mself\u001b[0m\u001b[0;34m.\u001b[0m\u001b[0m_input_dataset\u001b[0m \u001b[0;34m=\u001b[0m \u001b[0minput_dataset\u001b[0m\u001b[0;34m\u001b[0m\u001b[0;34m\u001b[0m\u001b[0m\n\u001b[1;32m   4122\u001b[0m     self._map_func = StructuredFunctionWrapper(\n\u001b[0;32m-> 4123\u001b[0;31m         map_func, self._transformation_name(), dataset=input_dataset)\n\u001b[0m\u001b[1;32m   4124\u001b[0m     \u001b[0;32mif\u001b[0m \u001b[0;32mnot\u001b[0m \u001b[0misinstance\u001b[0m\u001b[0;34m(\u001b[0m\u001b[0mself\u001b[0m\u001b[0;34m.\u001b[0m\u001b[0m_map_func\u001b[0m\u001b[0;34m.\u001b[0m\u001b[0moutput_structure\u001b[0m\u001b[0;34m,\u001b[0m \u001b[0mDatasetSpec\u001b[0m\u001b[0;34m)\u001b[0m\u001b[0;34m:\u001b[0m\u001b[0;34m\u001b[0m\u001b[0;34m\u001b[0m\u001b[0m\n\u001b[1;32m   4125\u001b[0m       raise TypeError(\n",
            "\u001b[0;32m/usr/local/lib/python3.6/dist-packages/tensorflow/python/data/ops/dataset_ops.py\u001b[0m in \u001b[0;36m__init__\u001b[0;34m(self, func, transformation_name, dataset, input_classes, input_shapes, input_types, input_structure, add_to_graph, use_legacy_function, defun_kwargs)\u001b[0m\n\u001b[1;32m   3369\u001b[0m       \u001b[0;32mwith\u001b[0m \u001b[0mtracking\u001b[0m\u001b[0;34m.\u001b[0m\u001b[0mresource_tracker_scope\u001b[0m\u001b[0;34m(\u001b[0m\u001b[0mresource_tracker\u001b[0m\u001b[0;34m)\u001b[0m\u001b[0;34m:\u001b[0m\u001b[0;34m\u001b[0m\u001b[0;34m\u001b[0m\u001b[0m\n\u001b[1;32m   3370\u001b[0m         \u001b[0;31m# TODO(b/141462134): Switch to using garbage collection.\u001b[0m\u001b[0;34m\u001b[0m\u001b[0;34m\u001b[0m\u001b[0;34m\u001b[0m\u001b[0m\n\u001b[0;32m-> 3371\u001b[0;31m         \u001b[0mself\u001b[0m\u001b[0;34m.\u001b[0m\u001b[0m_function\u001b[0m \u001b[0;34m=\u001b[0m \u001b[0mwrapper_fn\u001b[0m\u001b[0;34m.\u001b[0m\u001b[0mget_concrete_function\u001b[0m\u001b[0;34m(\u001b[0m\u001b[0;34m)\u001b[0m\u001b[0;34m\u001b[0m\u001b[0;34m\u001b[0m\u001b[0m\n\u001b[0m\u001b[1;32m   3372\u001b[0m         \u001b[0;32mif\u001b[0m \u001b[0madd_to_graph\u001b[0m\u001b[0;34m:\u001b[0m\u001b[0;34m\u001b[0m\u001b[0;34m\u001b[0m\u001b[0m\n\u001b[1;32m   3373\u001b[0m           \u001b[0mself\u001b[0m\u001b[0;34m.\u001b[0m\u001b[0m_function\u001b[0m\u001b[0;34m.\u001b[0m\u001b[0madd_to_graph\u001b[0m\u001b[0;34m(\u001b[0m\u001b[0mops\u001b[0m\u001b[0;34m.\u001b[0m\u001b[0mget_default_graph\u001b[0m\u001b[0;34m(\u001b[0m\u001b[0;34m)\u001b[0m\u001b[0;34m)\u001b[0m\u001b[0;34m\u001b[0m\u001b[0;34m\u001b[0m\u001b[0m\n",
            "\u001b[0;32m/usr/local/lib/python3.6/dist-packages/tensorflow/python/eager/function.py\u001b[0m in \u001b[0;36mget_concrete_function\u001b[0;34m(self, *args, **kwargs)\u001b[0m\n\u001b[1;32m   2937\u001b[0m     \"\"\"\n\u001b[1;32m   2938\u001b[0m     graph_function = self._get_concrete_function_garbage_collected(\n\u001b[0;32m-> 2939\u001b[0;31m         *args, **kwargs)\n\u001b[0m\u001b[1;32m   2940\u001b[0m     \u001b[0mgraph_function\u001b[0m\u001b[0;34m.\u001b[0m\u001b[0m_garbage_collector\u001b[0m\u001b[0;34m.\u001b[0m\u001b[0mrelease\u001b[0m\u001b[0;34m(\u001b[0m\u001b[0;34m)\u001b[0m  \u001b[0;31m# pylint: disable=protected-access\u001b[0m\u001b[0;34m\u001b[0m\u001b[0;34m\u001b[0m\u001b[0m\n\u001b[1;32m   2941\u001b[0m     \u001b[0;32mreturn\u001b[0m \u001b[0mgraph_function\u001b[0m\u001b[0;34m\u001b[0m\u001b[0;34m\u001b[0m\u001b[0m\n",
            "\u001b[0;32m/usr/local/lib/python3.6/dist-packages/tensorflow/python/eager/function.py\u001b[0m in \u001b[0;36m_get_concrete_function_garbage_collected\u001b[0;34m(self, *args, **kwargs)\u001b[0m\n\u001b[1;32m   2904\u001b[0m       \u001b[0margs\u001b[0m\u001b[0;34m,\u001b[0m \u001b[0mkwargs\u001b[0m \u001b[0;34m=\u001b[0m \u001b[0;32mNone\u001b[0m\u001b[0;34m,\u001b[0m \u001b[0;32mNone\u001b[0m\u001b[0;34m\u001b[0m\u001b[0;34m\u001b[0m\u001b[0m\n\u001b[1;32m   2905\u001b[0m     \u001b[0;32mwith\u001b[0m \u001b[0mself\u001b[0m\u001b[0;34m.\u001b[0m\u001b[0m_lock\u001b[0m\u001b[0;34m:\u001b[0m\u001b[0;34m\u001b[0m\u001b[0;34m\u001b[0m\u001b[0m\n\u001b[0;32m-> 2906\u001b[0;31m       \u001b[0mgraph_function\u001b[0m\u001b[0;34m,\u001b[0m \u001b[0margs\u001b[0m\u001b[0;34m,\u001b[0m \u001b[0mkwargs\u001b[0m \u001b[0;34m=\u001b[0m \u001b[0mself\u001b[0m\u001b[0;34m.\u001b[0m\u001b[0m_maybe_define_function\u001b[0m\u001b[0;34m(\u001b[0m\u001b[0margs\u001b[0m\u001b[0;34m,\u001b[0m \u001b[0mkwargs\u001b[0m\u001b[0;34m)\u001b[0m\u001b[0;34m\u001b[0m\u001b[0;34m\u001b[0m\u001b[0m\n\u001b[0m\u001b[1;32m   2907\u001b[0m       \u001b[0mseen_names\u001b[0m \u001b[0;34m=\u001b[0m \u001b[0mset\u001b[0m\u001b[0;34m(\u001b[0m\u001b[0;34m)\u001b[0m\u001b[0;34m\u001b[0m\u001b[0;34m\u001b[0m\u001b[0m\n\u001b[1;32m   2908\u001b[0m       captured = object_identity.ObjectIdentitySet(\n",
            "\u001b[0;32m/usr/local/lib/python3.6/dist-packages/tensorflow/python/eager/function.py\u001b[0m in \u001b[0;36m_maybe_define_function\u001b[0;34m(self, args, kwargs)\u001b[0m\n\u001b[1;32m   3211\u001b[0m \u001b[0;34m\u001b[0m\u001b[0m\n\u001b[1;32m   3212\u001b[0m       \u001b[0mself\u001b[0m\u001b[0;34m.\u001b[0m\u001b[0m_function_cache\u001b[0m\u001b[0;34m.\u001b[0m\u001b[0mmissed\u001b[0m\u001b[0;34m.\u001b[0m\u001b[0madd\u001b[0m\u001b[0;34m(\u001b[0m\u001b[0mcall_context_key\u001b[0m\u001b[0;34m)\u001b[0m\u001b[0;34m\u001b[0m\u001b[0;34m\u001b[0m\u001b[0m\n\u001b[0;32m-> 3213\u001b[0;31m       \u001b[0mgraph_function\u001b[0m \u001b[0;34m=\u001b[0m \u001b[0mself\u001b[0m\u001b[0;34m.\u001b[0m\u001b[0m_create_graph_function\u001b[0m\u001b[0;34m(\u001b[0m\u001b[0margs\u001b[0m\u001b[0;34m,\u001b[0m \u001b[0mkwargs\u001b[0m\u001b[0;34m)\u001b[0m\u001b[0;34m\u001b[0m\u001b[0;34m\u001b[0m\u001b[0m\n\u001b[0m\u001b[1;32m   3214\u001b[0m       \u001b[0mself\u001b[0m\u001b[0;34m.\u001b[0m\u001b[0m_function_cache\u001b[0m\u001b[0;34m.\u001b[0m\u001b[0mprimary\u001b[0m\u001b[0;34m[\u001b[0m\u001b[0mcache_key\u001b[0m\u001b[0;34m]\u001b[0m \u001b[0;34m=\u001b[0m \u001b[0mgraph_function\u001b[0m\u001b[0;34m\u001b[0m\u001b[0;34m\u001b[0m\u001b[0m\n\u001b[1;32m   3215\u001b[0m       \u001b[0;32mreturn\u001b[0m \u001b[0mgraph_function\u001b[0m\u001b[0;34m,\u001b[0m \u001b[0margs\u001b[0m\u001b[0;34m,\u001b[0m \u001b[0mkwargs\u001b[0m\u001b[0;34m\u001b[0m\u001b[0;34m\u001b[0m\u001b[0m\n",
            "\u001b[0;32m/usr/local/lib/python3.6/dist-packages/tensorflow/python/eager/function.py\u001b[0m in \u001b[0;36m_create_graph_function\u001b[0;34m(self, args, kwargs, override_flat_arg_shapes)\u001b[0m\n\u001b[1;32m   3073\u001b[0m             \u001b[0marg_names\u001b[0m\u001b[0;34m=\u001b[0m\u001b[0marg_names\u001b[0m\u001b[0;34m,\u001b[0m\u001b[0;34m\u001b[0m\u001b[0;34m\u001b[0m\u001b[0m\n\u001b[1;32m   3074\u001b[0m             \u001b[0moverride_flat_arg_shapes\u001b[0m\u001b[0;34m=\u001b[0m\u001b[0moverride_flat_arg_shapes\u001b[0m\u001b[0;34m,\u001b[0m\u001b[0;34m\u001b[0m\u001b[0;34m\u001b[0m\u001b[0m\n\u001b[0;32m-> 3075\u001b[0;31m             capture_by_value=self._capture_by_value),\n\u001b[0m\u001b[1;32m   3076\u001b[0m         \u001b[0mself\u001b[0m\u001b[0;34m.\u001b[0m\u001b[0m_function_attributes\u001b[0m\u001b[0;34m,\u001b[0m\u001b[0;34m\u001b[0m\u001b[0;34m\u001b[0m\u001b[0m\n\u001b[1;32m   3077\u001b[0m         \u001b[0mfunction_spec\u001b[0m\u001b[0;34m=\u001b[0m\u001b[0mself\u001b[0m\u001b[0;34m.\u001b[0m\u001b[0mfunction_spec\u001b[0m\u001b[0;34m,\u001b[0m\u001b[0;34m\u001b[0m\u001b[0;34m\u001b[0m\u001b[0m\n",
            "\u001b[0;32m/usr/local/lib/python3.6/dist-packages/tensorflow/python/framework/func_graph.py\u001b[0m in \u001b[0;36mfunc_graph_from_py_func\u001b[0;34m(name, python_func, args, kwargs, signature, func_graph, autograph, autograph_options, add_control_dependencies, arg_names, op_return_value, collections, capture_by_value, override_flat_arg_shapes)\u001b[0m\n\u001b[1;32m    984\u001b[0m         \u001b[0m_\u001b[0m\u001b[0;34m,\u001b[0m \u001b[0moriginal_func\u001b[0m \u001b[0;34m=\u001b[0m \u001b[0mtf_decorator\u001b[0m\u001b[0;34m.\u001b[0m\u001b[0munwrap\u001b[0m\u001b[0;34m(\u001b[0m\u001b[0mpython_func\u001b[0m\u001b[0;34m)\u001b[0m\u001b[0;34m\u001b[0m\u001b[0;34m\u001b[0m\u001b[0m\n\u001b[1;32m    985\u001b[0m \u001b[0;34m\u001b[0m\u001b[0m\n\u001b[0;32m--> 986\u001b[0;31m       \u001b[0mfunc_outputs\u001b[0m \u001b[0;34m=\u001b[0m \u001b[0mpython_func\u001b[0m\u001b[0;34m(\u001b[0m\u001b[0;34m*\u001b[0m\u001b[0mfunc_args\u001b[0m\u001b[0;34m,\u001b[0m \u001b[0;34m**\u001b[0m\u001b[0mfunc_kwargs\u001b[0m\u001b[0;34m)\u001b[0m\u001b[0;34m\u001b[0m\u001b[0;34m\u001b[0m\u001b[0m\n\u001b[0m\u001b[1;32m    987\u001b[0m \u001b[0;34m\u001b[0m\u001b[0m\n\u001b[1;32m    988\u001b[0m       \u001b[0;31m# invariant: `func_outputs` contains only Tensors, CompositeTensors,\u001b[0m\u001b[0;34m\u001b[0m\u001b[0;34m\u001b[0m\u001b[0;34m\u001b[0m\u001b[0m\n",
            "\u001b[0;32m/usr/local/lib/python3.6/dist-packages/tensorflow/python/data/ops/dataset_ops.py\u001b[0m in \u001b[0;36mwrapper_fn\u001b[0;34m(*args)\u001b[0m\n\u001b[1;32m   3362\u001b[0m           attributes=defun_kwargs)\n\u001b[1;32m   3363\u001b[0m       \u001b[0;32mdef\u001b[0m \u001b[0mwrapper_fn\u001b[0m\u001b[0;34m(\u001b[0m\u001b[0;34m*\u001b[0m\u001b[0margs\u001b[0m\u001b[0;34m)\u001b[0m\u001b[0;34m:\u001b[0m  \u001b[0;31m# pylint: disable=missing-docstring\u001b[0m\u001b[0;34m\u001b[0m\u001b[0;34m\u001b[0m\u001b[0m\n\u001b[0;32m-> 3364\u001b[0;31m         \u001b[0mret\u001b[0m \u001b[0;34m=\u001b[0m \u001b[0m_wrapper_helper\u001b[0m\u001b[0;34m(\u001b[0m\u001b[0;34m*\u001b[0m\u001b[0margs\u001b[0m\u001b[0;34m)\u001b[0m\u001b[0;34m\u001b[0m\u001b[0;34m\u001b[0m\u001b[0m\n\u001b[0m\u001b[1;32m   3365\u001b[0m         \u001b[0mret\u001b[0m \u001b[0;34m=\u001b[0m \u001b[0mstructure\u001b[0m\u001b[0;34m.\u001b[0m\u001b[0mto_tensor_list\u001b[0m\u001b[0;34m(\u001b[0m\u001b[0mself\u001b[0m\u001b[0;34m.\u001b[0m\u001b[0m_output_structure\u001b[0m\u001b[0;34m,\u001b[0m \u001b[0mret\u001b[0m\u001b[0;34m)\u001b[0m\u001b[0;34m\u001b[0m\u001b[0;34m\u001b[0m\u001b[0m\n\u001b[1;32m   3366\u001b[0m         \u001b[0;32mreturn\u001b[0m \u001b[0;34m[\u001b[0m\u001b[0mops\u001b[0m\u001b[0;34m.\u001b[0m\u001b[0mconvert_to_tensor\u001b[0m\u001b[0;34m(\u001b[0m\u001b[0mt\u001b[0m\u001b[0;34m)\u001b[0m \u001b[0;32mfor\u001b[0m \u001b[0mt\u001b[0m \u001b[0;32min\u001b[0m \u001b[0mret\u001b[0m\u001b[0;34m]\u001b[0m\u001b[0;34m\u001b[0m\u001b[0;34m\u001b[0m\u001b[0m\n",
            "\u001b[0;32m/usr/local/lib/python3.6/dist-packages/tensorflow/python/data/ops/dataset_ops.py\u001b[0m in \u001b[0;36m_wrapper_helper\u001b[0;34m(*args)\u001b[0m\n\u001b[1;32m   3297\u001b[0m         \u001b[0mnested_args\u001b[0m \u001b[0;34m=\u001b[0m \u001b[0;34m(\u001b[0m\u001b[0mnested_args\u001b[0m\u001b[0;34m,\u001b[0m\u001b[0;34m)\u001b[0m\u001b[0;34m\u001b[0m\u001b[0;34m\u001b[0m\u001b[0m\n\u001b[1;32m   3298\u001b[0m \u001b[0;34m\u001b[0m\u001b[0m\n\u001b[0;32m-> 3299\u001b[0;31m       \u001b[0mret\u001b[0m \u001b[0;34m=\u001b[0m \u001b[0mautograph\u001b[0m\u001b[0;34m.\u001b[0m\u001b[0mtf_convert\u001b[0m\u001b[0;34m(\u001b[0m\u001b[0mfunc\u001b[0m\u001b[0;34m,\u001b[0m \u001b[0mag_ctx\u001b[0m\u001b[0;34m)\u001b[0m\u001b[0;34m(\u001b[0m\u001b[0;34m*\u001b[0m\u001b[0mnested_args\u001b[0m\u001b[0;34m)\u001b[0m\u001b[0;34m\u001b[0m\u001b[0;34m\u001b[0m\u001b[0m\n\u001b[0m\u001b[1;32m   3300\u001b[0m       \u001b[0;31m# If `func` returns a list of tensors, `nest.flatten()` and\u001b[0m\u001b[0;34m\u001b[0m\u001b[0;34m\u001b[0m\u001b[0;34m\u001b[0m\u001b[0m\n\u001b[1;32m   3301\u001b[0m       \u001b[0;31m# `ops.convert_to_tensor()` would conspire to attempt to stack\u001b[0m\u001b[0;34m\u001b[0m\u001b[0;34m\u001b[0m\u001b[0;34m\u001b[0m\u001b[0m\n",
            "\u001b[0;32m/usr/local/lib/python3.6/dist-packages/tensorflow/python/autograph/impl/api.py\u001b[0m in \u001b[0;36mwrapper\u001b[0;34m(*args, **kwargs)\u001b[0m\n\u001b[1;32m    253\u001b[0m       \u001b[0;32mtry\u001b[0m\u001b[0;34m:\u001b[0m\u001b[0;34m\u001b[0m\u001b[0;34m\u001b[0m\u001b[0m\n\u001b[1;32m    254\u001b[0m         \u001b[0;32mwith\u001b[0m \u001b[0mconversion_ctx\u001b[0m\u001b[0;34m:\u001b[0m\u001b[0;34m\u001b[0m\u001b[0;34m\u001b[0m\u001b[0m\n\u001b[0;32m--> 255\u001b[0;31m           \u001b[0;32mreturn\u001b[0m \u001b[0mconverted_call\u001b[0m\u001b[0;34m(\u001b[0m\u001b[0mf\u001b[0m\u001b[0;34m,\u001b[0m \u001b[0margs\u001b[0m\u001b[0;34m,\u001b[0m \u001b[0mkwargs\u001b[0m\u001b[0;34m,\u001b[0m \u001b[0moptions\u001b[0m\u001b[0;34m=\u001b[0m\u001b[0moptions\u001b[0m\u001b[0;34m)\u001b[0m\u001b[0;34m\u001b[0m\u001b[0;34m\u001b[0m\u001b[0m\n\u001b[0m\u001b[1;32m    256\u001b[0m       \u001b[0;32mexcept\u001b[0m \u001b[0mException\u001b[0m \u001b[0;32mas\u001b[0m \u001b[0me\u001b[0m\u001b[0;34m:\u001b[0m  \u001b[0;31m# pylint:disable=broad-except\u001b[0m\u001b[0;34m\u001b[0m\u001b[0;34m\u001b[0m\u001b[0m\n\u001b[1;32m    257\u001b[0m         \u001b[0;32mif\u001b[0m \u001b[0mhasattr\u001b[0m\u001b[0;34m(\u001b[0m\u001b[0me\u001b[0m\u001b[0;34m,\u001b[0m \u001b[0;34m'ag_error_metadata'\u001b[0m\u001b[0;34m)\u001b[0m\u001b[0;34m:\u001b[0m\u001b[0;34m\u001b[0m\u001b[0;34m\u001b[0m\u001b[0m\n",
            "\u001b[0;32m/usr/local/lib/python3.6/dist-packages/tensorflow/python/autograph/impl/api.py\u001b[0m in \u001b[0;36mconverted_call\u001b[0;34m(f, args, kwargs, caller_fn_scope, options)\u001b[0m\n\u001b[1;32m    530\u001b[0m \u001b[0;34m\u001b[0m\u001b[0m\n\u001b[1;32m    531\u001b[0m   \u001b[0;32mif\u001b[0m \u001b[0;32mnot\u001b[0m \u001b[0moptions\u001b[0m\u001b[0;34m.\u001b[0m\u001b[0muser_requested\u001b[0m \u001b[0;32mand\u001b[0m \u001b[0mconversion\u001b[0m\u001b[0;34m.\u001b[0m\u001b[0mis_whitelisted\u001b[0m\u001b[0;34m(\u001b[0m\u001b[0mf\u001b[0m\u001b[0;34m)\u001b[0m\u001b[0;34m:\u001b[0m\u001b[0;34m\u001b[0m\u001b[0;34m\u001b[0m\u001b[0m\n\u001b[0;32m--> 532\u001b[0;31m     \u001b[0;32mreturn\u001b[0m \u001b[0m_call_unconverted\u001b[0m\u001b[0;34m(\u001b[0m\u001b[0mf\u001b[0m\u001b[0;34m,\u001b[0m \u001b[0margs\u001b[0m\u001b[0;34m,\u001b[0m \u001b[0mkwargs\u001b[0m\u001b[0;34m,\u001b[0m \u001b[0moptions\u001b[0m\u001b[0;34m)\u001b[0m\u001b[0;34m\u001b[0m\u001b[0;34m\u001b[0m\u001b[0m\n\u001b[0m\u001b[1;32m    533\u001b[0m \u001b[0;34m\u001b[0m\u001b[0m\n\u001b[1;32m    534\u001b[0m   \u001b[0;31m# internal_convert_user_code is for example turned off when issuing a dynamic\u001b[0m\u001b[0;34m\u001b[0m\u001b[0;34m\u001b[0m\u001b[0;34m\u001b[0m\u001b[0m\n",
            "\u001b[0;32m/usr/local/lib/python3.6/dist-packages/tensorflow/python/autograph/impl/api.py\u001b[0m in \u001b[0;36m_call_unconverted\u001b[0;34m(f, args, kwargs, options, update_cache)\u001b[0m\n\u001b[1;32m    337\u001b[0m \u001b[0;34m\u001b[0m\u001b[0m\n\u001b[1;32m    338\u001b[0m   \u001b[0;32mif\u001b[0m \u001b[0mkwargs\u001b[0m \u001b[0;32mis\u001b[0m \u001b[0;32mnot\u001b[0m \u001b[0;32mNone\u001b[0m\u001b[0;34m:\u001b[0m\u001b[0;34m\u001b[0m\u001b[0;34m\u001b[0m\u001b[0m\n\u001b[0;32m--> 339\u001b[0;31m     \u001b[0;32mreturn\u001b[0m \u001b[0mf\u001b[0m\u001b[0;34m(\u001b[0m\u001b[0;34m*\u001b[0m\u001b[0margs\u001b[0m\u001b[0;34m,\u001b[0m \u001b[0;34m**\u001b[0m\u001b[0mkwargs\u001b[0m\u001b[0;34m)\u001b[0m\u001b[0;34m\u001b[0m\u001b[0;34m\u001b[0m\u001b[0m\n\u001b[0m\u001b[1;32m    340\u001b[0m   \u001b[0;32mreturn\u001b[0m \u001b[0mf\u001b[0m\u001b[0;34m(\u001b[0m\u001b[0;34m*\u001b[0m\u001b[0margs\u001b[0m\u001b[0;34m)\u001b[0m\u001b[0;34m\u001b[0m\u001b[0;34m\u001b[0m\u001b[0m\n\u001b[1;32m    341\u001b[0m \u001b[0;34m\u001b[0m\u001b[0m\n",
            "\u001b[0;32m/usr/local/lib/python3.6/dist-packages/tensorflow/python/keras/engine/data_adapter.py\u001b[0m in \u001b[0;36mslice_batch_indices\u001b[0;34m(indices)\u001b[0m\n\u001b[1;32m    347\u001b[0m       \u001b[0mfirst_k_indices\u001b[0m \u001b[0;34m=\u001b[0m \u001b[0marray_ops\u001b[0m\u001b[0;34m.\u001b[0m\u001b[0mslice\u001b[0m\u001b[0;34m(\u001b[0m\u001b[0mindices\u001b[0m\u001b[0;34m,\u001b[0m \u001b[0;34m[\u001b[0m\u001b[0;36m0\u001b[0m\u001b[0;34m]\u001b[0m\u001b[0;34m,\u001b[0m \u001b[0;34m[\u001b[0m\u001b[0mnum_in_full_batch\u001b[0m\u001b[0;34m]\u001b[0m\u001b[0;34m)\u001b[0m\u001b[0;34m\u001b[0m\u001b[0;34m\u001b[0m\u001b[0m\n\u001b[1;32m    348\u001b[0m       first_k_indices = array_ops.reshape(\n\u001b[0;32m--> 349\u001b[0;31m           first_k_indices, [num_full_batches, batch_size])\n\u001b[0m\u001b[1;32m    350\u001b[0m \u001b[0;34m\u001b[0m\u001b[0m\n\u001b[1;32m    351\u001b[0m       \u001b[0mflat_dataset\u001b[0m \u001b[0;34m=\u001b[0m \u001b[0mdataset_ops\u001b[0m\u001b[0;34m.\u001b[0m\u001b[0mDatasetV2\u001b[0m\u001b[0;34m.\u001b[0m\u001b[0mfrom_tensor_slices\u001b[0m\u001b[0;34m(\u001b[0m\u001b[0mfirst_k_indices\u001b[0m\u001b[0;34m)\u001b[0m\u001b[0;34m\u001b[0m\u001b[0;34m\u001b[0m\u001b[0m\n",
            "\u001b[0;32m/usr/local/lib/python3.6/dist-packages/tensorflow/python/util/dispatch.py\u001b[0m in \u001b[0;36mwrapper\u001b[0;34m(*args, **kwargs)\u001b[0m\n\u001b[1;32m    199\u001b[0m     \u001b[0;34m\"\"\"Call target, and fall back on dispatchers if there is a TypeError.\"\"\"\u001b[0m\u001b[0;34m\u001b[0m\u001b[0;34m\u001b[0m\u001b[0m\n\u001b[1;32m    200\u001b[0m     \u001b[0;32mtry\u001b[0m\u001b[0;34m:\u001b[0m\u001b[0;34m\u001b[0m\u001b[0;34m\u001b[0m\u001b[0m\n\u001b[0;32m--> 201\u001b[0;31m       \u001b[0;32mreturn\u001b[0m \u001b[0mtarget\u001b[0m\u001b[0;34m(\u001b[0m\u001b[0;34m*\u001b[0m\u001b[0margs\u001b[0m\u001b[0;34m,\u001b[0m \u001b[0;34m**\u001b[0m\u001b[0mkwargs\u001b[0m\u001b[0;34m)\u001b[0m\u001b[0;34m\u001b[0m\u001b[0;34m\u001b[0m\u001b[0m\n\u001b[0m\u001b[1;32m    202\u001b[0m     \u001b[0;32mexcept\u001b[0m \u001b[0;34m(\u001b[0m\u001b[0mTypeError\u001b[0m\u001b[0;34m,\u001b[0m \u001b[0mValueError\u001b[0m\u001b[0;34m)\u001b[0m\u001b[0;34m:\u001b[0m\u001b[0;34m\u001b[0m\u001b[0;34m\u001b[0m\u001b[0m\n\u001b[1;32m    203\u001b[0m       \u001b[0;31m# Note: convert_to_eager_tensor currently raises a ValueError, not a\u001b[0m\u001b[0;34m\u001b[0m\u001b[0;34m\u001b[0m\u001b[0;34m\u001b[0m\u001b[0m\n",
            "\u001b[0;32m/usr/local/lib/python3.6/dist-packages/tensorflow/python/ops/array_ops.py\u001b[0m in \u001b[0;36mreshape\u001b[0;34m(tensor, shape, name)\u001b[0m\n\u001b[1;32m    193\u001b[0m     \u001b[0mA\u001b[0m\u001b[0;31m \u001b[0m\u001b[0;31m`\u001b[0m\u001b[0mTensor\u001b[0m\u001b[0;31m`\u001b[0m\u001b[0;34m.\u001b[0m \u001b[0mHas\u001b[0m \u001b[0mthe\u001b[0m \u001b[0msame\u001b[0m \u001b[0mtype\u001b[0m \u001b[0;32mas\u001b[0m\u001b[0;31m \u001b[0m\u001b[0;31m`\u001b[0m\u001b[0mtensor\u001b[0m\u001b[0;31m`\u001b[0m\u001b[0;34m.\u001b[0m\u001b[0;34m\u001b[0m\u001b[0;34m\u001b[0m\u001b[0m\n\u001b[1;32m    194\u001b[0m   \"\"\"\n\u001b[0;32m--> 195\u001b[0;31m   \u001b[0mresult\u001b[0m \u001b[0;34m=\u001b[0m \u001b[0mgen_array_ops\u001b[0m\u001b[0;34m.\u001b[0m\u001b[0mreshape\u001b[0m\u001b[0;34m(\u001b[0m\u001b[0mtensor\u001b[0m\u001b[0;34m,\u001b[0m \u001b[0mshape\u001b[0m\u001b[0;34m,\u001b[0m \u001b[0mname\u001b[0m\u001b[0;34m)\u001b[0m\u001b[0;34m\u001b[0m\u001b[0;34m\u001b[0m\u001b[0m\n\u001b[0m\u001b[1;32m    196\u001b[0m   \u001b[0mtensor_util\u001b[0m\u001b[0;34m.\u001b[0m\u001b[0mmaybe_set_static_shape\u001b[0m\u001b[0;34m(\u001b[0m\u001b[0mresult\u001b[0m\u001b[0;34m,\u001b[0m \u001b[0mshape\u001b[0m\u001b[0;34m)\u001b[0m\u001b[0;34m\u001b[0m\u001b[0;34m\u001b[0m\u001b[0m\n\u001b[1;32m    197\u001b[0m   \u001b[0;32mreturn\u001b[0m \u001b[0mresult\u001b[0m\u001b[0;34m\u001b[0m\u001b[0;34m\u001b[0m\u001b[0m\n",
            "\u001b[0;32m/usr/local/lib/python3.6/dist-packages/tensorflow/python/ops/gen_array_ops.py\u001b[0m in \u001b[0;36mreshape\u001b[0;34m(tensor, shape, name)\u001b[0m\n\u001b[1;32m   8232\u001b[0m   \u001b[0;31m# Add nodes to the TensorFlow graph.\u001b[0m\u001b[0;34m\u001b[0m\u001b[0;34m\u001b[0m\u001b[0;34m\u001b[0m\u001b[0m\n\u001b[1;32m   8233\u001b[0m   _, _, _op, _outputs = _op_def_library._apply_op_helper(\n\u001b[0;32m-> 8234\u001b[0;31m         \"Reshape\", tensor=tensor, shape=shape, name=name)\n\u001b[0m\u001b[1;32m   8235\u001b[0m   \u001b[0m_result\u001b[0m \u001b[0;34m=\u001b[0m \u001b[0m_outputs\u001b[0m\u001b[0;34m[\u001b[0m\u001b[0;34m:\u001b[0m\u001b[0;34m]\u001b[0m\u001b[0;34m\u001b[0m\u001b[0;34m\u001b[0m\u001b[0m\n\u001b[1;32m   8236\u001b[0m   \u001b[0;32mif\u001b[0m \u001b[0m_execute\u001b[0m\u001b[0;34m.\u001b[0m\u001b[0mmust_record_gradient\u001b[0m\u001b[0;34m(\u001b[0m\u001b[0;34m)\u001b[0m\u001b[0;34m:\u001b[0m\u001b[0;34m\u001b[0m\u001b[0;34m\u001b[0m\u001b[0m\n",
            "\u001b[0;32m/usr/local/lib/python3.6/dist-packages/tensorflow/python/framework/op_def_library.py\u001b[0m in \u001b[0;36m_apply_op_helper\u001b[0;34m(op_type_name, name, **keywords)\u001b[0m\n\u001b[1;32m    742\u001b[0m       op = g._create_op_internal(op_type_name, inputs, dtypes=None,\n\u001b[1;32m    743\u001b[0m                                  \u001b[0mname\u001b[0m\u001b[0;34m=\u001b[0m\u001b[0mscope\u001b[0m\u001b[0;34m,\u001b[0m \u001b[0minput_types\u001b[0m\u001b[0;34m=\u001b[0m\u001b[0minput_types\u001b[0m\u001b[0;34m,\u001b[0m\u001b[0;34m\u001b[0m\u001b[0;34m\u001b[0m\u001b[0m\n\u001b[0;32m--> 744\u001b[0;31m                                  attrs=attr_protos, op_def=op_def)\n\u001b[0m\u001b[1;32m    745\u001b[0m \u001b[0;34m\u001b[0m\u001b[0m\n\u001b[1;32m    746\u001b[0m     \u001b[0;31m# `outputs` is returned as a separate return value so that the output\u001b[0m\u001b[0;34m\u001b[0m\u001b[0;34m\u001b[0m\u001b[0;34m\u001b[0m\u001b[0m\n",
            "\u001b[0;32m/usr/local/lib/python3.6/dist-packages/tensorflow/python/framework/func_graph.py\u001b[0m in \u001b[0;36m_create_op_internal\u001b[0;34m(self, op_type, inputs, dtypes, input_types, name, attrs, op_def, compute_device)\u001b[0m\n\u001b[1;32m    591\u001b[0m     return super(FuncGraph, self)._create_op_internal(  # pylint: disable=protected-access\n\u001b[1;32m    592\u001b[0m         \u001b[0mop_type\u001b[0m\u001b[0;34m,\u001b[0m \u001b[0minputs\u001b[0m\u001b[0;34m,\u001b[0m \u001b[0mdtypes\u001b[0m\u001b[0;34m,\u001b[0m \u001b[0minput_types\u001b[0m\u001b[0;34m,\u001b[0m \u001b[0mname\u001b[0m\u001b[0;34m,\u001b[0m \u001b[0mattrs\u001b[0m\u001b[0;34m,\u001b[0m \u001b[0mop_def\u001b[0m\u001b[0;34m,\u001b[0m\u001b[0;34m\u001b[0m\u001b[0;34m\u001b[0m\u001b[0m\n\u001b[0;32m--> 593\u001b[0;31m         compute_device)\n\u001b[0m\u001b[1;32m    594\u001b[0m \u001b[0;34m\u001b[0m\u001b[0m\n\u001b[1;32m    595\u001b[0m   \u001b[0;32mdef\u001b[0m \u001b[0mcapture\u001b[0m\u001b[0;34m(\u001b[0m\u001b[0mself\u001b[0m\u001b[0;34m,\u001b[0m \u001b[0mtensor\u001b[0m\u001b[0;34m,\u001b[0m \u001b[0mname\u001b[0m\u001b[0;34m=\u001b[0m\u001b[0;32mNone\u001b[0m\u001b[0;34m,\u001b[0m \u001b[0mshape\u001b[0m\u001b[0;34m=\u001b[0m\u001b[0;32mNone\u001b[0m\u001b[0;34m)\u001b[0m\u001b[0;34m:\u001b[0m\u001b[0;34m\u001b[0m\u001b[0;34m\u001b[0m\u001b[0m\n",
            "\u001b[0;32m/usr/local/lib/python3.6/dist-packages/tensorflow/python/framework/ops.py\u001b[0m in \u001b[0;36m_create_op_internal\u001b[0;34m(self, op_type, inputs, dtypes, input_types, name, attrs, op_def, compute_device)\u001b[0m\n\u001b[1;32m   3483\u001b[0m           \u001b[0minput_types\u001b[0m\u001b[0;34m=\u001b[0m\u001b[0minput_types\u001b[0m\u001b[0;34m,\u001b[0m\u001b[0;34m\u001b[0m\u001b[0;34m\u001b[0m\u001b[0m\n\u001b[1;32m   3484\u001b[0m           \u001b[0moriginal_op\u001b[0m\u001b[0;34m=\u001b[0m\u001b[0mself\u001b[0m\u001b[0;34m.\u001b[0m\u001b[0m_default_original_op\u001b[0m\u001b[0;34m,\u001b[0m\u001b[0;34m\u001b[0m\u001b[0;34m\u001b[0m\u001b[0m\n\u001b[0;32m-> 3485\u001b[0;31m           op_def=op_def)\n\u001b[0m\u001b[1;32m   3486\u001b[0m       \u001b[0mself\u001b[0m\u001b[0;34m.\u001b[0m\u001b[0m_create_op_helper\u001b[0m\u001b[0;34m(\u001b[0m\u001b[0mret\u001b[0m\u001b[0;34m,\u001b[0m \u001b[0mcompute_device\u001b[0m\u001b[0;34m=\u001b[0m\u001b[0mcompute_device\u001b[0m\u001b[0;34m)\u001b[0m\u001b[0;34m\u001b[0m\u001b[0;34m\u001b[0m\u001b[0m\n\u001b[1;32m   3487\u001b[0m     \u001b[0;32mreturn\u001b[0m \u001b[0mret\u001b[0m\u001b[0;34m\u001b[0m\u001b[0;34m\u001b[0m\u001b[0m\n",
            "\u001b[0;32m/usr/local/lib/python3.6/dist-packages/tensorflow/python/framework/ops.py\u001b[0m in \u001b[0;36m__init__\u001b[0;34m(self, node_def, g, inputs, output_types, control_inputs, input_types, original_op, op_def)\u001b[0m\n\u001b[1;32m   1973\u001b[0m         \u001b[0mop_def\u001b[0m \u001b[0;34m=\u001b[0m \u001b[0mself\u001b[0m\u001b[0;34m.\u001b[0m\u001b[0m_graph\u001b[0m\u001b[0;34m.\u001b[0m\u001b[0m_get_op_def\u001b[0m\u001b[0;34m(\u001b[0m\u001b[0mnode_def\u001b[0m\u001b[0;34m.\u001b[0m\u001b[0mop\u001b[0m\u001b[0;34m)\u001b[0m\u001b[0;34m\u001b[0m\u001b[0;34m\u001b[0m\u001b[0m\n\u001b[1;32m   1974\u001b[0m       self._c_op = _create_c_op(self._graph, node_def, inputs,\n\u001b[0;32m-> 1975\u001b[0;31m                                 control_input_ops, op_def)\n\u001b[0m\u001b[1;32m   1976\u001b[0m       \u001b[0mname\u001b[0m \u001b[0;34m=\u001b[0m \u001b[0mcompat\u001b[0m\u001b[0;34m.\u001b[0m\u001b[0mas_str\u001b[0m\u001b[0;34m(\u001b[0m\u001b[0mnode_def\u001b[0m\u001b[0;34m.\u001b[0m\u001b[0mname\u001b[0m\u001b[0;34m)\u001b[0m\u001b[0;34m\u001b[0m\u001b[0;34m\u001b[0m\u001b[0m\n\u001b[1;32m   1977\u001b[0m     \u001b[0;31m# pylint: enable=protected-access\u001b[0m\u001b[0;34m\u001b[0m\u001b[0;34m\u001b[0m\u001b[0;34m\u001b[0m\u001b[0m\n",
            "\u001b[0;32m/usr/local/lib/python3.6/dist-packages/tensorflow/python/framework/ops.py\u001b[0m in \u001b[0;36m_create_c_op\u001b[0;34m(graph, node_def, inputs, control_inputs, op_def)\u001b[0m\n\u001b[1;32m   1783\u001b[0m   \u001b[0minputs\u001b[0m \u001b[0;34m=\u001b[0m \u001b[0m_reconstruct_sequence_inputs\u001b[0m\u001b[0;34m(\u001b[0m\u001b[0mop_def\u001b[0m\u001b[0;34m,\u001b[0m \u001b[0minputs\u001b[0m\u001b[0;34m,\u001b[0m \u001b[0mnode_def\u001b[0m\u001b[0;34m.\u001b[0m\u001b[0mattr\u001b[0m\u001b[0;34m)\u001b[0m\u001b[0;34m\u001b[0m\u001b[0;34m\u001b[0m\u001b[0m\n\u001b[1;32m   1784\u001b[0m   \u001b[0;31m# pylint: disable=protected-access\u001b[0m\u001b[0;34m\u001b[0m\u001b[0;34m\u001b[0m\u001b[0;34m\u001b[0m\u001b[0m\n\u001b[0;32m-> 1785\u001b[0;31m   op_desc = pywrap_tf_session.TF_NewOperation(graph._c_graph,\n\u001b[0m\u001b[1;32m   1786\u001b[0m                                               \u001b[0mcompat\u001b[0m\u001b[0;34m.\u001b[0m\u001b[0mas_str\u001b[0m\u001b[0;34m(\u001b[0m\u001b[0mnode_def\u001b[0m\u001b[0;34m.\u001b[0m\u001b[0mop\u001b[0m\u001b[0;34m)\u001b[0m\u001b[0;34m,\u001b[0m\u001b[0;34m\u001b[0m\u001b[0;34m\u001b[0m\u001b[0m\n\u001b[1;32m   1787\u001b[0m                                               compat.as_str(node_def.name))\n",
            "\u001b[0;31mKeyboardInterrupt\u001b[0m: "
          ]
        }
      ]
    }
  ]
}