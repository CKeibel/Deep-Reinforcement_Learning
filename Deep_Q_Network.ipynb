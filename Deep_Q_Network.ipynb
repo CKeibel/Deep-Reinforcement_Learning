{
  "nbformat": 4,
  "nbformat_minor": 0,
  "metadata": {
    "colab": {
      "name": "Deep_Q-Network.ipynb",
      "provenance": [],
      "collapsed_sections": [],
      "authorship_tag": "ABX9TyPYippCJ8vvcLjgZFc7uJ6w"
    },
    "kernelspec": {
      "name": "python3",
      "display_name": "Python 3"
    },
    "accelerator": "GPU"
  },
  "cells": [
    {
      "cell_type": "markdown",
      "metadata": {
        "id": "iIlX3bscb_8H"
      },
      "source": [
        "# TODO:\n",
        "\n",
        "\n",
        "* action repeat Wrapper (4 Times)\n",
        "* better reward handling for different games\n",
        "* Explanations"
      ]
    },
    {
      "cell_type": "code",
      "metadata": {
        "id": "q9xfV_VJakaI"
      },
      "source": [
        "import gym\n",
        "import numpy as np\n",
        "from matplotlib import pyplot as plt"
      ],
      "execution_count": 1,
      "outputs": []
    },
    {
      "cell_type": "markdown",
      "metadata": {
        "id": "Hxwx0hgyS9l_"
      },
      "source": [
        "# **Auswahl des Spiels**\n",
        "\n",
        "[Hier](https://gym.openai.com/envs/#atari) ist eine vollständige Liste der verfügbaren Spiele zu finden. Um ein Environment zu erstellen muss der vollständige Name des Spiels als String übergeben werden.\n",
        "\n",
        "Beispiel:\n",
        "\n",
        "```python\n",
        "game = \"MsPacman-v0\"\n",
        "```"
      ]
    },
    {
      "cell_type": "code",
      "metadata": {
        "id": "zW8iwvvZUBxy"
      },
      "source": [
        "# Hier kann das Spiel übergeben werden\n",
        "game = \"Breakout-v0\""
      ],
      "execution_count": 2,
      "outputs": []
    },
    {
      "cell_type": "markdown",
      "metadata": {
        "id": "HkVT49we0eiY"
      },
      "source": [
        "# **Preprocessing**\n",
        "[Stable Baselines](https://github.com/openai/baselines/blob/master/baselines/common/atari_wrappers.py)\n"
      ]
    },
    {
      "cell_type": "markdown",
      "metadata": {
        "id": "-oHRVfJL9TxH"
      },
      "source": [
        "### Fire Wrapper"
      ]
    },
    {
      "cell_type": "code",
      "metadata": {
        "id": "GxYChLgl0aQu"
      },
      "source": [
        "class FireResetEnv(gym.Wrapper):\n",
        "    def __init__(self, env):\n",
        "        gym.Wrapper.__init__(self, env) \n",
        "        self.env.reset()\n",
        "\n",
        "    def reset(self, **kwargs):\n",
        "        self.env.reset(**kwargs)\n",
        "        observation, _, _, _ = self.env.step(env.unwrapped.get_action_meanings().index('FIRE'))\n",
        "\n",
        "        return observation"
      ],
      "execution_count": 3,
      "outputs": []
    },
    {
      "cell_type": "markdown",
      "metadata": {
        "id": "ULrSsx2f6-qS"
      },
      "source": [
        "### Resize & Grayscale Wrapper"
      ]
    },
    {
      "cell_type": "code",
      "metadata": {
        "id": "HXr6gB0F7AwT"
      },
      "source": [
        "from gym import spaces\n",
        "import cv2\n",
        "\n",
        "class WarpFrame(gym.ObservationWrapper):\n",
        "    def __init__(self, env):\n",
        "        \"\"\"\n",
        "        Warp frames to 84x84 as done in the Nature paper and later work.\n",
        "        :param env: (Gym Environment) the environment\n",
        "        \"\"\"\n",
        "        gym.ObservationWrapper.__init__(self, env)\n",
        "        self.width = 84\n",
        "        self.height = 84\n",
        "        self.observation_space = spaces.Box(low=0, high=255, shape=(self.height, self.width, 1),\n",
        "                                            dtype=env.observation_space.dtype)\n",
        "        \n",
        "    def observation(self, frame):\n",
        "        \"\"\"\n",
        "        returns the current observation from a frame\n",
        "        :param frame: ([int] or [float]) environment frame\n",
        "        :return: ([int] or [float]) the observation\n",
        "        \"\"\"\n",
        "        frame = cv2.cvtColor(frame, cv2.COLOR_RGB2GRAY)\n",
        "        frame = cv2.resize(frame, (self.width, self.height), interpolation=cv2.INTER_AREA)\n",
        "        return frame[:, :, None]"
      ],
      "execution_count": 4,
      "outputs": []
    },
    {
      "cell_type": "code",
      "metadata": {
        "id": "_KJgqyxF7FRx",
        "outputId": "4dfefb13-8e43-46e7-b225-7b28d69ebe21",
        "colab": {
          "base_uri": "https://localhost:8080/",
          "height": 285
        }
      },
      "source": [
        "\"\"\"\n",
        "[OPTIONAL]\n",
        "\n",
        "Diese Zelle ist optional ausführbar und dient zur Visualisierung des Wrappers.\n",
        "Die Zelle hat keinen Einfluss auf den Agenten\n",
        "\"\"\"\n",
        "\n",
        "def WarpFrameEnv(env_name):\n",
        "  env = gym.make(env_name)\n",
        "  env = WarpFrame(env)\n",
        "  return env\n",
        "\n",
        "normal_env = gym.make(game)\n",
        "wrapped_env = WarpFrameEnv(game)\n",
        "\n",
        "normal_env.reset()\n",
        "wrapped_env.reset()\n",
        "action = normal_env.action_space.sample()\n",
        "\n",
        "normal_state, _, _, _ = normal_env.step(action)\n",
        "wrapped_state, _, _, _ = wrapped_env.step(action)\n",
        "\n",
        "wrapped_state = wrapped_state[: , :, 0]\n",
        "\n",
        "fig, axs = plt.subplots(1, 2)\n",
        "fig.suptitle('Warp Frame', fontsize=20)\n",
        "axs[0].imshow(normal_state)\n",
        "axs[0].set_title(\"Normal\", fontsize=16)\n",
        "axs[1].imshow(wrapped_state, cmap=\"gray\")\n",
        "axs[1].set_title(\"Warp Frame\", fontsize=16)\n",
        "plt.show()"
      ],
      "execution_count": 5,
      "outputs": [
        {
          "output_type": "display_data",
          "data": {
            "image/png": "[encoded data removed]",
            "text/plain": [
              "<Figure size 432x288 with 2 Axes>"
            ]
          },
          "metadata": {
            "tags": [],
            "needs_background": "light"
          }
        }
      ]
    },
    {
      "cell_type": "markdown",
      "metadata": {
        "id": "V6m9sMMgAIL_"
      },
      "source": [
        "### Frame Stack Wrapper"
      ]
    },
    {
      "cell_type": "code",
      "metadata": {
        "id": "9odKR1WDAJP9"
      },
      "source": [
        "from collections import deque\n",
        "\n",
        "class FrameStack(gym.Wrapper):\n",
        "    def __init__(self, env):\n",
        "      super().__init__(env)\n",
        "      self.frames = deque(maxlen=4)\n",
        "      low = np.repeat(self.observation_space.low[np.newaxis, ...], repeats=4, axis=0)\n",
        "      high = np.repeat(self.observation_space.high[np.newaxis, ...], repeats=4, axis=0)\n",
        "      self.observation_space = gym.spaces.Box(low=low, high=high, dtype=self.observation_space.dtype)\n",
        "\n",
        "    def step(self, action):\n",
        "      obs, reward, done, info = self.env.step(action)\n",
        "      self.frames.append(obs)\n",
        "      frame_stack = np.asarray(self.frames, dtype=np.float32)\n",
        "      frame_stack = np.moveaxis(frame_stack, 0, -1).reshape(1, 84, 84, -1)\n",
        "      return frame_stack, reward, done, info\n",
        "\n",
        "    def reset(self, **kwargs):\n",
        "        obs = self.env.reset(**kwargs)\n",
        "        for _ in range(4):\n",
        "          self.frames.append(obs)\n",
        "        frame_stack = np.asarray(self.frames, dtype=np.float32)\n",
        "        frame_stack = np.moveaxis(frame_stack, 0, -1).reshape(1, 84, 84, -1)\n",
        "        return frame_stack"
      ],
      "execution_count": 6,
      "outputs": []
    },
    {
      "cell_type": "code",
      "metadata": {
        "id": "QcNdmvOnAVvb",
        "outputId": "e19bf73d-f349-46a1-e991-e24b2d96a007",
        "colab": {
          "base_uri": "https://localhost:8080/",
          "height": 311
        }
      },
      "source": [
        "\"\"\"\n",
        "[OPTIONAL]\n",
        "\n",
        "Diese Zelle ist optional ausführbar und dient zur Visualisierung des Wrappers.\n",
        "Die Zelle hat keinen Einfluss auf den Agenten\n",
        "\"\"\"\n",
        "\n",
        "def FrameStackEnv(env_name):\n",
        "  env = gym.make(env_name)\n",
        "  env = WarpFrame(env)\n",
        "  if 'FIRE' in env.unwrapped.get_action_meanings():\n",
        "    env = FireResetEnv(env)\n",
        "  env = FrameStack(env)\n",
        "  return env\n",
        "\n",
        "env = FrameStackEnv(game)\n",
        "env.reset()\n",
        "\n",
        "for _ in range(1, 5):\n",
        "  # Führe eine zufällige Aktion aus\n",
        "  state, _, _, _ = env.step(env.action_space.sample())\n",
        "\n",
        "# Stack umformen, damit das Plotten der vier Bilder gelingt\n",
        "state = state.reshape(84, 84,4)\n",
        "\n",
        "# Frame Stack plotten\n",
        "fig, axs = plt.subplots(1,4, figsize=(15, 5))\n",
        "fig.suptitle('Frame Stack', fontsize=20)\n",
        "for i in range(state.shape[2]):\n",
        "  axs[i].imshow(state[:, :, i], cmap=\"gray\")\n",
        "  axs[i].set_title(\"Frame \"+str(i+1), fontsize=16)\n",
        "plt.show()"
      ],
      "execution_count": 7,
      "outputs": [
        {
          "output_type": "display_data",
          "data": {
            "image/png": "[encoded data removed]",
            "text/plain": [
              "<Figure size 1080x360 with 4 Axes>"
            ]
          },
          "metadata": {
            "tags": [],
            "needs_background": "light"
          }
        }
      ]
    },
    {
      "cell_type": "markdown",
      "metadata": {
        "id": "fg-MI4P9AadK"
      },
      "source": [
        "### Erstellen des Environments"
      ]
    },
    {
      "cell_type": "code",
      "metadata": {
        "id": "8eSU0VDOAcML"
      },
      "source": [
        "def make_env(env_name):\n",
        "  env = gym.make(env_name)\n",
        "  env = WarpFrame(env)\n",
        "  if 'FIRE' in env.unwrapped.get_action_meanings():\n",
        "    env = FireResetEnv(env)\n",
        "  env = FrameStack(env)\n",
        "  return env\n",
        "\n",
        "env = make_env(game)"
      ],
      "execution_count": 8,
      "outputs": []
    },
    {
      "cell_type": "markdown",
      "metadata": {
        "id": "i8HSZBWkHkbJ"
      },
      "source": [
        "# **Deep Q-Network und Target Network**"
      ]
    },
    {
      "cell_type": "markdown",
      "metadata": {
        "id": "MeLvxPIvLxE8"
      },
      "source": [
        " *\\\"The input to\n",
        "the neural network consists of an 84x84x4 image produced by the preprocessing\n",
        "map **--w-- (falsche Darstellung)**. The first hidden layer convolves 32 filters of 8x8 with stride 4 with the\n",
        "input image and applies a rectifier nonlinearity. The second hidden layer convolves\n",
        "64 filters of 4x4 with stride 2, again followed by a rectifier nonlinearity.\n",
        "This is followed by a third convolutional layer that convolves 64 filters of 333 with\n",
        "stride 1 followed by a rectifier. The final hidden layer is fully-connected and consists\n",
        "of 512 rectifier units. The output layer is a fully-connected linear layer with a\n",
        "single output for each valid action. The number of valid actions varied between 4\n",
        "and 18 on the games we considered.\"*\n",
        "\n",
        "\n",
        "[Mnih, V., Kavukcuoglu, K., Silver, D. et al. Human-level control through deep reinforcement learning. Nature 518, 529–533 (2015).](https://www.nature.com/articles/nature14236)"
      ]
    },
    {
      "cell_type": "code",
      "metadata": {
        "id": "IinnQRAzHhcb"
      },
      "source": [
        "import tensorflow as tf\n",
        "from tensorflow.keras.layers import Activation\n",
        "from tensorflow.keras.layers import Conv2D\n",
        "from tensorflow.keras.layers import Dense\n",
        "from tensorflow.keras.layers import Flatten\n",
        "from tensorflow.keras.layers import Input\n",
        "from tensorflow.keras.models import Model\n",
        "from tensorflow.keras.losses import Huber\n",
        "from tensorflow.keras.optimizers import RMSprop\n",
        "\n",
        "# DQN und Tagret Net Parameters\n",
        "INPUT_SHAPE = (84, 84, 4) # (Höhe, Breite, Frames)\n",
        "OUTPUT_SHAPE = env.action_space.n # Anzahl der möglichen Aktionen\n",
        "LOSS_FUNCTION = Huber()\n",
        "OPTIMIZER = RMSprop(learning_rate=0.00025, rho=0.95, epsilon=0.01)\n",
        "\n",
        "# Funktion zum erstellen eines neuronalen Netzes\n",
        "def build_neural_net(INPUT_SHAPE, OUTPUT_SHAPE, LOSS_FUNCTION, OPTIMIZER):\n",
        "  net_input = Input(shape=INPUT_SHAPE)\n",
        "  x = Conv2D(filters=32, kernel_size=(8, 8), strides=(4, 4), padding=\"same\")(net_input)\n",
        "  x = Activation(\"relu\")(x)\n",
        "  x = Conv2D(filters=64, kernel_size=(4, 4), strides=(2, 2), padding=\"same\")(x)\n",
        "  x = Activation(\"relu\")(x)\n",
        "  x = Conv2D(filters=64, kernel_size=(3, 3), strides=(1, 1), padding=\"same\")(x)\n",
        "  x = Activation(\"relu\")(x)\n",
        "  x = Flatten()(x)\n",
        "  x = Dense(256)(x)\n",
        "  x = Activation(\"relu\")(x)\n",
        "  net_output = Dense(OUTPUT_SHAPE)(x)\n",
        "\n",
        "  model = Model(inputs=net_input, outputs=net_output)\n",
        "  model.compile(loss=LOSS_FUNCTION, optimizer=OPTIMIZER)\n",
        "\n",
        "  return model\n",
        "\n",
        "# Deep Q-Network\n",
        "DQN = build_neural_net(INPUT_SHAPE, OUTPUT_SHAPE, LOSS_FUNCTION, OPTIMIZER)\n",
        "# Target Network\n",
        "TARGET = build_neural_net(INPUT_SHAPE, OUTPUT_SHAPE, LOSS_FUNCTION, OPTIMIZER)"
      ],
      "execution_count": 9,
      "outputs": []
    },
    {
      "cell_type": "code",
      "metadata": {
        "id": "1VobCYZ0N45l",
        "outputId": "18b1b364-9bad-4cac-a88e-a4807653026e",
        "colab": {
          "base_uri": "https://localhost:8080/"
        }
      },
      "source": [
        "DQN.summary(), TARGET.summary()"
      ],
      "execution_count": 10,
      "outputs": [
        {
          "output_type": "stream",
          "text": [
            "Model: \"functional_1\"\n",
            "_________________________________________________________________\n",
            "Layer (type)                 Output Shape              Param #   \n",
            "=================================================================\n",
            "input_1 (InputLayer)         [(None, 84, 84, 4)]       0         \n",
            "_________________________________________________________________\n",
            "conv2d (Conv2D)              (None, 21, 21, 32)        8224      \n",
            "_________________________________________________________________\n",
            "activation (Activation)      (None, 21, 21, 32)        0         \n",
            "_________________________________________________________________\n",
            "conv2d_1 (Conv2D)            (None, 11, 11, 64)        32832     \n",
            "_________________________________________________________________\n",
            "activation_1 (Activation)    (None, 11, 11, 64)        0         \n",
            "_________________________________________________________________\n",
            "conv2d_2 (Conv2D)            (None, 11, 11, 64)        36928     \n",
            "_________________________________________________________________\n",
            "activation_2 (Activation)    (None, 11, 11, 64)        0         \n",
            "_________________________________________________________________\n",
            "flatten (Flatten)            (None, 7744)              0         \n",
            "_________________________________________________________________\n",
            "dense (Dense)                (None, 256)               1982720   \n",
            "_________________________________________________________________\n",
            "activation_3 (Activation)    (None, 256)               0         \n",
            "_________________________________________________________________\n",
            "dense_1 (Dense)              (None, 4)                 1028      \n",
            "=================================================================\n",
            "Total params: 2,061,732\n",
            "Trainable params: 2,061,732\n",
            "Non-trainable params: 0\n",
            "_________________________________________________________________\n",
            "Model: \"functional_3\"\n",
            "_________________________________________________________________\n",
            "Layer (type)                 Output Shape              Param #   \n",
            "=================================================================\n",
            "input_2 (InputLayer)         [(None, 84, 84, 4)]       0         \n",
            "_________________________________________________________________\n",
            "conv2d_3 (Conv2D)            (None, 21, 21, 32)        8224      \n",
            "_________________________________________________________________\n",
            "activation_4 (Activation)    (None, 21, 21, 32)        0         \n",
            "_________________________________________________________________\n",
            "conv2d_4 (Conv2D)            (None, 11, 11, 64)        32832     \n",
            "_________________________________________________________________\n",
            "activation_5 (Activation)    (None, 11, 11, 64)        0         \n",
            "_________________________________________________________________\n",
            "conv2d_5 (Conv2D)            (None, 11, 11, 64)        36928     \n",
            "_________________________________________________________________\n",
            "activation_6 (Activation)    (None, 11, 11, 64)        0         \n",
            "_________________________________________________________________\n",
            "flatten_1 (Flatten)          (None, 7744)              0         \n",
            "_________________________________________________________________\n",
            "dense_2 (Dense)              (None, 256)               1982720   \n",
            "_________________________________________________________________\n",
            "activation_7 (Activation)    (None, 256)               0         \n",
            "_________________________________________________________________\n",
            "dense_3 (Dense)              (None, 4)                 1028      \n",
            "=================================================================\n",
            "Total params: 2,061,732\n",
            "Trainable params: 2,061,732\n",
            "Non-trainable params: 0\n",
            "_________________________________________________________________\n"
          ],
          "name": "stdout"
        },
        {
          "output_type": "execute_result",
          "data": {
            "text/plain": [
              "(None, None)"
            ]
          },
          "metadata": {
            "tags": []
          },
          "execution_count": 10
        }
      ]
    },
    {
      "cell_type": "markdown",
      "metadata": {
        "id": "BGwUt_ERhMuQ"
      },
      "source": [
        "# **Memory Buffer**"
      ]
    },
    {
      "cell_type": "code",
      "metadata": {
        "id": "z601UsvHjzyz"
      },
      "source": [
        "MEMORY_SIZE = 1000000\n",
        "MEMORY_BUFFER = deque(maxlen=MEMORY_SIZE)\n",
        "TRAIN_START = 50000\n",
        "\n",
        "# Speichert Transition von einem State in einen Folgestate\n",
        "def save_transition(state, action, reward, next_state, done):\n",
        "  MEMORY_BUFFER.append([state, action, reward, next_state, done])"
      ],
      "execution_count": 11,
      "outputs": []
    },
    {
      "cell_type": "markdown",
      "metadata": {
        "id": "YQZvvDESM0QB"
      },
      "source": [
        "# **Experience Replay**"
      ]
    },
    {
      "cell_type": "code",
      "metadata": {
        "id": "9v5SDTFMoZM2"
      },
      "source": [
        "import random\n",
        "MINIBATCH_SIZE = 32\n",
        "GAMMA = 0.99\n",
        "\n",
        "def replay():\n",
        "\n",
        "  # Ziehe 32 (MINIBATCH_SIZE) zufällige Transitionen aus dem Buffer in einen Minibatch\n",
        "  minibatch = random.sample(MEMORY_BUFFER, MINIBATCH_SIZE)\n",
        "  states, actions, rewards, next_states, dones = zip(*minibatch)\n",
        "\n",
        "  states = np.concatenate(states)\n",
        "  next_states = np.concatenate(next_states)\n",
        "\n",
        "  q_values = DQN.predict(states)\n",
        "  q_values_next = TARGET.predict(next_states)\n",
        "\n",
        "  # Q-Values Update\n",
        "  for i in range(MINIBATCH_SIZE):\n",
        "    a = actions[i]\n",
        "    done = dones[i]\n",
        "    if done:\n",
        "      q_values[i][a] = rewards[i]\n",
        "    else:\n",
        "      q_values[i][a] = rewards[i] + GAMMA * np.max(q_values_next[i])\n",
        "\n",
        "  DQN.fit(states, q_values, verbose=0)"
      ],
      "execution_count": 12,
      "outputs": []
    },
    {
      "cell_type": "markdown",
      "metadata": {
        "id": "F2JdsqGQf_wn"
      },
      "source": [
        "# **Aktion wählen**\n",
        "Exploration & Exploitation"
      ]
    },
    {
      "cell_type": "code",
      "metadata": {
        "id": "QH18a8XDf5ui"
      },
      "source": [
        "EPSILON = 1.0\n",
        "EPSILON_MIN = 0.01\n",
        "EPSILON_STEPS = 1000000\n",
        "\n",
        "def get_action(state):\n",
        "  if np.random.rand() <= EPSILON:\n",
        "    return np.random.randint(env.action_space.n)\n",
        "  else:\n",
        "    return np.argmax(DQN(state))"
      ],
      "execution_count": 13,
      "outputs": []
    },
    {
      "cell_type": "markdown",
      "metadata": {
        "id": "cJQNx-7JhrWw"
      },
      "source": [
        "# **Training des Agenten**"
      ]
    },
    {
      "cell_type": "code",
      "metadata": {
        "id": "BujPrlhAhqhc",
        "outputId": "e5281ea2-b700-4041-8b04-38c54b27f7ad",
        "colab": {
          "base_uri": "https://localhost:8080/",
          "height": 1000
        }
      },
      "source": [
        "EPISODES = 30000\n",
        "REWARD_LIST = []\n",
        "BEST_MEAN_REWARD = 0.0\n",
        "SYNC = 10000\n",
        "\n",
        "for episode in range(EPISODES):\n",
        "  EPISODE_REWARD = 0.0\n",
        "  state = env.reset()\n",
        "  done = False\n",
        "\n",
        "  while not done:\n",
        "    action = get_action(state)\n",
        "    next_state, reward, done, _ = env.step(action)\n",
        "    # Transition im MEMORY BUFFER speichern\n",
        "    save_transition(state, action, reward, next_state, done)\n",
        "    # Experience Replay, falls genügend Transitionen gespeichert\n",
        "    if len(MEMORY_BUFFER) > TRAIN_START:\n",
        "      replay()\n",
        "\n",
        "    # Reward einer Aktion zum gesamten Reward der Episode addieren\n",
        "    EPISODE_REWARD += reward\n",
        "\n",
        "    # EPSILON verringern\n",
        "    if len(MEMORY_BUFFER) > TRAIN_START:\n",
        "      if EPSILON > EPSILON_MIN:\n",
        "        EPSILON = EPSILON - ((EPSILON - EPSILON_MIN) / EPSILON_STEPS)\n",
        "\n",
        "    # State aktualisieren\n",
        "    state = next_state\n",
        "\n",
        "    # Synchronisation zwischen Target Networks und Deep Q-Network\n",
        "    if episode+1 % SYNC == 0:\n",
        "      TARGET.set_weights(DQN.get_weights())\n",
        "\n",
        "    if done:\n",
        "      REWARD_LIST.append(EPISODE_REWARD)\n",
        "      current_mean_reward = np.mean(REWARD_LIST[-min(len(REWARD_LIST), 10):])\n",
        "      print(\"Episode:\", episode+1, \"\\tReward:\", EPISODE_REWARD, \"\\tMean:\", round(current_mean_reward, 2), \"\\tTRAIN START:\", (len(MEMORY_BUFFER)>TRAIN_START), \"\\tEpsi:\", EPSILON)\n",
        "\n",
        "      # Übernahme des höchsteb Mean Rewards\n",
        "      if current_mean_reward > BEST_MEAN_REWARD:\n",
        "        BEST_MEAN_REWARD = current_mean_reward\n",
        "        \n",
        "        # Trainierte Gewichte speichern\n",
        "        if EPSILON < EPSILON_MIN:\n",
        "          import os\n",
        "          PATH = \"WEIGHTS\"\n",
        "          try:\n",
        "            os.makedirs(PATH)\n",
        "          except FileExistsError:\n",
        "            # Pfad existiert bereits\n",
        "            pass\n",
        "          DQN.save_weights(PATH +\"/\" + game + \"_DQN\"+ \"_Ep_\"+ str(episode+1)+ \".h5\")\n",
        "          TARGET.save_weights(PATH+\"/\" + game + \"_TARGET\" + \"_Ep_\"+ str(episode+1)+ \".h5\")\n",
        "      "
      ],
      "execution_count": 28,
      "outputs": [
        {
          "output_type": "stream",
          "text": [
            "Episode: 1 \tReward: 1.0 \tMean: 1.0 \tTRAIN START: False \tEpsi: 1.0\n",
            "Episode: 2 \tReward: 2.0 \tMean: 1.5 \tTRAIN START: False \tEpsi: 1.0\n",
            "Episode: 3 \tReward: 4.0 \tMean: 2.33 \tTRAIN START: False \tEpsi: 1.0\n",
            "Episode: 4 \tReward: 2.0 \tMean: 2.25 \tTRAIN START: False \tEpsi: 1.0\n",
            "Episode: 5 \tReward: 1.0 \tMean: 2.0 \tTRAIN START: False \tEpsi: 1.0\n",
            "Episode: 6 \tReward: 3.0 \tMean: 2.17 \tTRAIN START: False \tEpsi: 1.0\n",
            "Episode: 7 \tReward: 2.0 \tMean: 2.14 \tTRAIN START: False \tEpsi: 1.0\n",
            "Episode: 8 \tReward: 2.0 \tMean: 2.12 \tTRAIN START: False \tEpsi: 1.0\n",
            "Episode: 9 \tReward: 0.0 \tMean: 1.89 \tTRAIN START: False \tEpsi: 1.0\n",
            "Episode: 10 \tReward: 1.0 \tMean: 1.8 \tTRAIN START: False \tEpsi: 1.0\n",
            "Episode: 11 \tReward: 1.0 \tMean: 1.8 \tTRAIN START: False \tEpsi: 1.0\n",
            "Episode: 12 \tReward: 1.0 \tMean: 1.7 \tTRAIN START: False \tEpsi: 1.0\n",
            "Episode: 13 \tReward: 2.0 \tMean: 1.5 \tTRAIN START: False \tEpsi: 1.0\n",
            "Episode: 14 \tReward: 0.0 \tMean: 1.3 \tTRAIN START: False \tEpsi: 1.0\n",
            "Episode: 15 \tReward: 2.0 \tMean: 1.4 \tTRAIN START: False \tEpsi: 1.0\n",
            "Episode: 16 \tReward: 1.0 \tMean: 1.2 \tTRAIN START: False \tEpsi: 1.0\n",
            "Episode: 17 \tReward: 0.0 \tMean: 1.0 \tTRAIN START: False \tEpsi: 1.0\n",
            "Episode: 18 \tReward: 1.0 \tMean: 0.9 \tTRAIN START: False \tEpsi: 1.0\n",
            "Episode: 19 \tReward: 0.0 \tMean: 0.9 \tTRAIN START: False \tEpsi: 1.0\n",
            "Episode: 20 \tReward: 0.0 \tMean: 0.8 \tTRAIN START: False \tEpsi: 1.0\n",
            "Episode: 21 \tReward: 1.0 \tMean: 0.8 \tTRAIN START: False \tEpsi: 1.0\n",
            "Episode: 22 \tReward: 1.0 \tMean: 0.8 \tTRAIN START: False \tEpsi: 1.0\n",
            "Episode: 23 \tReward: 1.0 \tMean: 0.7 \tTRAIN START: False \tEpsi: 1.0\n",
            "Episode: 24 \tReward: 1.0 \tMean: 0.8 \tTRAIN START: False \tEpsi: 1.0\n",
            "Episode: 25 \tReward: 1.0 \tMean: 0.7 \tTRAIN START: False \tEpsi: 1.0\n",
            "Episode: 26 \tReward: 3.0 \tMean: 0.9 \tTRAIN START: False \tEpsi: 1.0\n",
            "Episode: 27 \tReward: 2.0 \tMean: 1.1 \tTRAIN START: False \tEpsi: 1.0\n",
            "Episode: 28 \tReward: 0.0 \tMean: 1.0 \tTRAIN START: False \tEpsi: 1.0\n",
            "Episode: 29 \tReward: 1.0 \tMean: 1.1 \tTRAIN START: False \tEpsi: 1.0\n",
            "Episode: 30 \tReward: 0.0 \tMean: 1.1 \tTRAIN START: False \tEpsi: 1.0\n",
            "Episode: 31 \tReward: 4.0 \tMean: 1.4 \tTRAIN START: False \tEpsi: 1.0\n",
            "Episode: 32 \tReward: 0.0 \tMean: 1.3 \tTRAIN START: False \tEpsi: 1.0\n",
            "Episode: 33 \tReward: 0.0 \tMean: 1.2 \tTRAIN START: False \tEpsi: 1.0\n",
            "Episode: 34 \tReward: 0.0 \tMean: 1.1 \tTRAIN START: False \tEpsi: 1.0\n",
            "Episode: 35 \tReward: 1.0 \tMean: 1.1 \tTRAIN START: False \tEpsi: 1.0\n",
            "Episode: 36 \tReward: 1.0 \tMean: 0.9 \tTRAIN START: False \tEpsi: 1.0\n",
            "Episode: 37 \tReward: 0.0 \tMean: 0.7 \tTRAIN START: False \tEpsi: 1.0\n",
            "Episode: 38 \tReward: 0.0 \tMean: 0.7 \tTRAIN START: False \tEpsi: 1.0\n",
            "Episode: 39 \tReward: 3.0 \tMean: 0.9 \tTRAIN START: False \tEpsi: 1.0\n",
            "Episode: 40 \tReward: 4.0 \tMean: 1.3 \tTRAIN START: False \tEpsi: 1.0\n",
            "Episode: 41 \tReward: 2.0 \tMean: 1.1 \tTRAIN START: False \tEpsi: 1.0\n",
            "Episode: 42 \tReward: 0.0 \tMean: 1.1 \tTRAIN START: False \tEpsi: 1.0\n",
            "Episode: 43 \tReward: 0.0 \tMean: 1.1 \tTRAIN START: False \tEpsi: 1.0\n",
            "Episode: 44 \tReward: 1.0 \tMean: 1.2 \tTRAIN START: False \tEpsi: 1.0\n",
            "Episode: 45 \tReward: 0.0 \tMean: 1.1 \tTRAIN START: False \tEpsi: 1.0\n",
            "Episode: 46 \tReward: 0.0 \tMean: 1.0 \tTRAIN START: False \tEpsi: 1.0\n",
            "Episode: 47 \tReward: 1.0 \tMean: 1.1 \tTRAIN START: False \tEpsi: 1.0\n",
            "Episode: 48 \tReward: 2.0 \tMean: 1.3 \tTRAIN START: False \tEpsi: 1.0\n",
            "Episode: 49 \tReward: 0.0 \tMean: 1.0 \tTRAIN START: False \tEpsi: 1.0\n",
            "Episode: 50 \tReward: 0.0 \tMean: 0.6 \tTRAIN START: False \tEpsi: 1.0\n",
            "Episode: 51 \tReward: 2.0 \tMean: 0.6 \tTRAIN START: False \tEpsi: 1.0\n",
            "Episode: 52 \tReward: 2.0 \tMean: 0.8 \tTRAIN START: False \tEpsi: 1.0\n",
            "Episode: 53 \tReward: 1.0 \tMean: 0.9 \tTRAIN START: False \tEpsi: 1.0\n",
            "Episode: 54 \tReward: 1.0 \tMean: 0.9 \tTRAIN START: False \tEpsi: 1.0\n",
            "Episode: 55 \tReward: 2.0 \tMean: 1.1 \tTRAIN START: False \tEpsi: 1.0\n",
            "Episode: 56 \tReward: 0.0 \tMean: 1.1 \tTRAIN START: False \tEpsi: 1.0\n",
            "Episode: 57 \tReward: 1.0 \tMean: 1.1 \tTRAIN START: False \tEpsi: 1.0\n",
            "Episode: 58 \tReward: 1.0 \tMean: 1.0 \tTRAIN START: False \tEpsi: 1.0\n",
            "Episode: 59 \tReward: 1.0 \tMean: 1.1 \tTRAIN START: False \tEpsi: 1.0\n",
            "Episode: 60 \tReward: 0.0 \tMean: 1.1 \tTRAIN START: False \tEpsi: 1.0\n",
            "Episode: 61 \tReward: 1.0 \tMean: 1.0 \tTRAIN START: False \tEpsi: 1.0\n",
            "Episode: 62 \tReward: 1.0 \tMean: 0.9 \tTRAIN START: False \tEpsi: 1.0\n",
            "Episode: 63 \tReward: 1.0 \tMean: 0.9 \tTRAIN START: False \tEpsi: 1.0\n",
            "Episode: 64 \tReward: 1.0 \tMean: 0.9 \tTRAIN START: False \tEpsi: 1.0\n",
            "Episode: 65 \tReward: 3.0 \tMean: 1.0 \tTRAIN START: False \tEpsi: 1.0\n",
            "Episode: 66 \tReward: 2.0 \tMean: 1.2 \tTRAIN START: False \tEpsi: 1.0\n",
            "Episode: 67 \tReward: 0.0 \tMean: 1.1 \tTRAIN START: False \tEpsi: 1.0\n",
            "Episode: 68 \tReward: 1.0 \tMean: 1.1 \tTRAIN START: False \tEpsi: 1.0\n",
            "Episode: 69 \tReward: 0.0 \tMean: 1.0 \tTRAIN START: False \tEpsi: 1.0\n",
            "Episode: 70 \tReward: 2.0 \tMean: 1.2 \tTRAIN START: False \tEpsi: 1.0\n",
            "Episode: 71 \tReward: 0.0 \tMean: 1.1 \tTRAIN START: False \tEpsi: 1.0\n",
            "Episode: 72 \tReward: 2.0 \tMean: 1.2 \tTRAIN START: False \tEpsi: 1.0\n",
            "Episode: 73 \tReward: 2.0 \tMean: 1.3 \tTRAIN START: False \tEpsi: 1.0\n",
            "Episode: 74 \tReward: 1.0 \tMean: 1.3 \tTRAIN START: False \tEpsi: 1.0\n",
            "Episode: 75 \tReward: 3.0 \tMean: 1.3 \tTRAIN START: False \tEpsi: 1.0\n",
            "Episode: 76 \tReward: 0.0 \tMean: 1.1 \tTRAIN START: False \tEpsi: 1.0\n",
            "Episode: 77 \tReward: 1.0 \tMean: 1.2 \tTRAIN START: False \tEpsi: 1.0\n",
            "Episode: 78 \tReward: 1.0 \tMean: 1.2 \tTRAIN START: False \tEpsi: 1.0\n",
            "Episode: 79 \tReward: 2.0 \tMean: 1.4 \tTRAIN START: False \tEpsi: 1.0\n",
            "Episode: 80 \tReward: 1.0 \tMean: 1.3 \tTRAIN START: False \tEpsi: 1.0\n",
            "Episode: 81 \tReward: 6.0 \tMean: 1.9 \tTRAIN START: False \tEpsi: 1.0\n",
            "Episode: 82 \tReward: 0.0 \tMean: 1.7 \tTRAIN START: False \tEpsi: 1.0\n",
            "Episode: 83 \tReward: 0.0 \tMean: 1.5 \tTRAIN START: False \tEpsi: 1.0\n",
            "Episode: 84 \tReward: 1.0 \tMean: 1.5 \tTRAIN START: False \tEpsi: 1.0\n",
            "Episode: 85 \tReward: 2.0 \tMean: 1.4 \tTRAIN START: False \tEpsi: 1.0\n",
            "Episode: 86 \tReward: 0.0 \tMean: 1.4 \tTRAIN START: False \tEpsi: 1.0\n",
            "Episode: 87 \tReward: 0.0 \tMean: 1.3 \tTRAIN START: False \tEpsi: 1.0\n",
            "Episode: 88 \tReward: 0.0 \tMean: 1.2 \tTRAIN START: False \tEpsi: 1.0\n",
            "Episode: 89 \tReward: 0.0 \tMean: 1.0 \tTRAIN START: False \tEpsi: 1.0\n",
            "Episode: 90 \tReward: 2.0 \tMean: 1.1 \tTRAIN START: False \tEpsi: 1.0\n",
            "Episode: 91 \tReward: 2.0 \tMean: 0.7 \tTRAIN START: False \tEpsi: 1.0\n",
            "Episode: 92 \tReward: 1.0 \tMean: 0.8 \tTRAIN START: False \tEpsi: 1.0\n",
            "Episode: 93 \tReward: 1.0 \tMean: 0.9 \tTRAIN START: False \tEpsi: 1.0\n",
            "Episode: 94 \tReward: 1.0 \tMean: 0.9 \tTRAIN START: False \tEpsi: 1.0\n",
            "Episode: 95 \tReward: 2.0 \tMean: 0.9 \tTRAIN START: False \tEpsi: 1.0\n",
            "Episode: 96 \tReward: 4.0 \tMean: 1.3 \tTRAIN START: False \tEpsi: 1.0\n",
            "Episode: 97 \tReward: 2.0 \tMean: 1.5 \tTRAIN START: False \tEpsi: 1.0\n",
            "Episode: 98 \tReward: 1.0 \tMean: 1.6 \tTRAIN START: False \tEpsi: 1.0\n",
            "Episode: 99 \tReward: 1.0 \tMean: 1.7 \tTRAIN START: False \tEpsi: 1.0\n",
            "Episode: 100 \tReward: 4.0 \tMean: 1.9 \tTRAIN START: False \tEpsi: 1.0\n",
            "Episode: 101 \tReward: 2.0 \tMean: 1.9 \tTRAIN START: False \tEpsi: 1.0\n",
            "Episode: 102 \tReward: 0.0 \tMean: 1.8 \tTRAIN START: False \tEpsi: 1.0\n",
            "Episode: 103 \tReward: 0.0 \tMean: 1.7 \tTRAIN START: False \tEpsi: 1.0\n",
            "Episode: 104 \tReward: 1.0 \tMean: 1.7 \tTRAIN START: False \tEpsi: 1.0\n",
            "Episode: 105 \tReward: 2.0 \tMean: 1.7 \tTRAIN START: False \tEpsi: 1.0\n",
            "Episode: 106 \tReward: 0.0 \tMean: 1.3 \tTRAIN START: False \tEpsi: 1.0\n",
            "Episode: 107 \tReward: 0.0 \tMean: 1.1 \tTRAIN START: False \tEpsi: 1.0\n",
            "Episode: 108 \tReward: 2.0 \tMean: 1.2 \tTRAIN START: False \tEpsi: 1.0\n",
            "Episode: 109 \tReward: 0.0 \tMean: 1.1 \tTRAIN START: False \tEpsi: 1.0\n",
            "Episode: 110 \tReward: 0.0 \tMean: 0.7 \tTRAIN START: False \tEpsi: 1.0\n",
            "Episode: 111 \tReward: 0.0 \tMean: 0.5 \tTRAIN START: False \tEpsi: 1.0\n",
            "Episode: 112 \tReward: 0.0 \tMean: 0.5 \tTRAIN START: False \tEpsi: 1.0\n",
            "Episode: 113 \tReward: 1.0 \tMean: 0.6 \tTRAIN START: False \tEpsi: 1.0\n",
            "Episode: 114 \tReward: 3.0 \tMean: 0.8 \tTRAIN START: False \tEpsi: 1.0\n",
            "Episode: 115 \tReward: 1.0 \tMean: 0.7 \tTRAIN START: False \tEpsi: 1.0\n",
            "Episode: 116 \tReward: 0.0 \tMean: 0.7 \tTRAIN START: False \tEpsi: 1.0\n",
            "Episode: 117 \tReward: 0.0 \tMean: 0.7 \tTRAIN START: False \tEpsi: 1.0\n",
            "Episode: 118 \tReward: 1.0 \tMean: 0.6 \tTRAIN START: False \tEpsi: 1.0\n",
            "Episode: 119 \tReward: 2.0 \tMean: 0.8 \tTRAIN START: False \tEpsi: 1.0\n",
            "Episode: 120 \tReward: 0.0 \tMean: 0.8 \tTRAIN START: False \tEpsi: 1.0\n",
            "Episode: 121 \tReward: 1.0 \tMean: 0.9 \tTRAIN START: False \tEpsi: 1.0\n",
            "Episode: 122 \tReward: 1.0 \tMean: 1.0 \tTRAIN START: True \tEpsi: 0.9999188232877028\n",
            "Episode: 123 \tReward: 1.0 \tMean: 1.0 \tTRAIN START: True \tEpsi: 0.9996842402084853\n",
            "Episode: 124 \tReward: 0.0 \tMean: 0.7 \tTRAIN START: True \tEpsi: 0.9995080920033094\n",
            "Episode: 125 \tReward: 3.0 \tMean: 0.9 \tTRAIN START: True \tEpsi: 0.999194467493442\n",
            "Episode: 126 \tReward: 2.0 \tMean: 1.1 \tTRAIN START: True \tEpsi: 0.9989234652028565\n",
            "Episode: 127 \tReward: 0.0 \tMean: 1.1 \tTRAIN START: True \tEpsi: 0.9987454749097323\n",
            "Episode: 128 \tReward: 2.0 \tMean: 1.2 \tTRAIN START: True \tEpsi: 0.998453837867394\n",
            "Episode: 129 \tReward: 1.0 \tMean: 1.1 \tTRAIN START: True \tEpsi: 0.9982314606610594\n",
            "Episode: 130 \tReward: 1.0 \tMean: 1.2 \tTRAIN START: True \tEpsi: 0.9980051814533859\n",
            "Episode: 131 \tReward: 1.0 \tMean: 1.2 \tTRAIN START: True \tEpsi: 0.997798709844261\n",
            "Episode: 132 \tReward: 1.0 \tMean: 1.2 \tTRAIN START: True \tEpsi: 0.9975715421526985\n",
            "Episode: 133 \tReward: 1.0 \tMean: 1.2 \tTRAIN START: True \tEpsi: 0.9973444267037226\n",
            "Episode: 134 \tReward: 0.0 \tMean: 1.2 \tTRAIN START: True \tEpsi: 0.9971785666897377\n",
            "Episode: 135 \tReward: 1.0 \tMean: 1.0 \tTRAIN START: True \tEpsi: 0.9969505546632299\n",
            "Episode: 136 \tReward: 1.0 \tMean: 0.9 \tTRAIN START: True \tEpsi: 0.9967383829971622\n",
            "Episode: 137 \tReward: 0.0 \tMean: 0.9 \tTRAIN START: True \tEpsi: 0.9965716382173941\n",
            "Episode: 138 \tReward: 1.0 \tMean: 0.8 \tTRAIN START: True \tEpsi: 0.9963684252899656\n",
            "Episode: 139 \tReward: 2.0 \tMean: 0.9 \tTRAIN START: True \tEpsi: 0.9961090443745099\n",
            "Episode: 140 \tReward: 0.0 \tMean: 0.8 \tTRAIN START: True \tEpsi: 0.9959424059440362\n"
          ],
          "name": "stdout"
        },
        {
          "output_type": "error",
          "ename": "KeyboardInterrupt",
          "evalue": "ignored",
          "traceback": [
            "\u001b[0;31m---------------------------------------------------------------------------\u001b[0m",
            "\u001b[0;31mKeyboardInterrupt\u001b[0m                         Traceback (most recent call last)",
            "\u001b[0;32m<ipython-input-28-c46acb35d68d>\u001b[0m in \u001b[0;36m<module>\u001b[0;34m()\u001b[0m\n\u001b[1;32m     16\u001b[0m     \u001b[0;31m# Experience Replay, falls genügend Transitionen gespeichert\u001b[0m\u001b[0;34m\u001b[0m\u001b[0;34m\u001b[0m\u001b[0;34m\u001b[0m\u001b[0m\n\u001b[1;32m     17\u001b[0m     \u001b[0;32mif\u001b[0m \u001b[0mlen\u001b[0m\u001b[0;34m(\u001b[0m\u001b[0mMEMORY_BUFFER\u001b[0m\u001b[0;34m)\u001b[0m \u001b[0;34m>\u001b[0m \u001b[0mTRAIN_START\u001b[0m\u001b[0;34m:\u001b[0m\u001b[0;34m\u001b[0m\u001b[0;34m\u001b[0m\u001b[0m\n\u001b[0;32m---> 18\u001b[0;31m       \u001b[0mreplay\u001b[0m\u001b[0;34m(\u001b[0m\u001b[0;34m)\u001b[0m\u001b[0;34m\u001b[0m\u001b[0;34m\u001b[0m\u001b[0m\n\u001b[0m\u001b[1;32m     19\u001b[0m \u001b[0;34m\u001b[0m\u001b[0m\n\u001b[1;32m     20\u001b[0m     \u001b[0;31m# Reward einer Aktion zum gesamten Reward der Episode addieren\u001b[0m\u001b[0;34m\u001b[0m\u001b[0;34m\u001b[0m\u001b[0;34m\u001b[0m\u001b[0m\n",
            "\u001b[0;32m<ipython-input-12-6f8b5b1562df>\u001b[0m in \u001b[0;36mreplay\u001b[0;34m()\u001b[0m\n\u001b[1;32m     13\u001b[0m \u001b[0;34m\u001b[0m\u001b[0m\n\u001b[1;32m     14\u001b[0m   \u001b[0mq_values\u001b[0m \u001b[0;34m=\u001b[0m \u001b[0mDQN\u001b[0m\u001b[0;34m.\u001b[0m\u001b[0mpredict\u001b[0m\u001b[0;34m(\u001b[0m\u001b[0mstates\u001b[0m\u001b[0;34m)\u001b[0m\u001b[0;34m\u001b[0m\u001b[0;34m\u001b[0m\u001b[0m\n\u001b[0;32m---> 15\u001b[0;31m   \u001b[0mq_values_next\u001b[0m \u001b[0;34m=\u001b[0m \u001b[0mTARGET\u001b[0m\u001b[0;34m.\u001b[0m\u001b[0mpredict\u001b[0m\u001b[0;34m(\u001b[0m\u001b[0mnext_states\u001b[0m\u001b[0;34m)\u001b[0m\u001b[0;34m\u001b[0m\u001b[0;34m\u001b[0m\u001b[0m\n\u001b[0m\u001b[1;32m     16\u001b[0m \u001b[0;34m\u001b[0m\u001b[0m\n\u001b[1;32m     17\u001b[0m   \u001b[0;31m# Q-Values Update\u001b[0m\u001b[0;34m\u001b[0m\u001b[0;34m\u001b[0m\u001b[0;34m\u001b[0m\u001b[0m\n",
            "\u001b[0;32m/usr/local/lib/python3.6/dist-packages/tensorflow/python/keras/engine/training.py\u001b[0m in \u001b[0;36m_method_wrapper\u001b[0;34m(self, *args, **kwargs)\u001b[0m\n\u001b[1;32m    128\u001b[0m       raise ValueError('{} is not supported in multi-worker mode.'.format(\n\u001b[1;32m    129\u001b[0m           method.__name__))\n\u001b[0;32m--> 130\u001b[0;31m     \u001b[0;32mreturn\u001b[0m \u001b[0mmethod\u001b[0m\u001b[0;34m(\u001b[0m\u001b[0mself\u001b[0m\u001b[0;34m,\u001b[0m \u001b[0;34m*\u001b[0m\u001b[0margs\u001b[0m\u001b[0;34m,\u001b[0m \u001b[0;34m**\u001b[0m\u001b[0mkwargs\u001b[0m\u001b[0;34m)\u001b[0m\u001b[0;34m\u001b[0m\u001b[0;34m\u001b[0m\u001b[0m\n\u001b[0m\u001b[1;32m    131\u001b[0m \u001b[0;34m\u001b[0m\u001b[0m\n\u001b[1;32m    132\u001b[0m   return tf_decorator.make_decorator(\n",
            "\u001b[0;32m/usr/local/lib/python3.6/dist-packages/tensorflow/python/keras/engine/training.py\u001b[0m in \u001b[0;36mpredict\u001b[0;34m(self, x, batch_size, verbose, steps, callbacks, max_queue_size, workers, use_multiprocessing)\u001b[0m\n\u001b[1;32m   1593\u001b[0m       \u001b[0mself\u001b[0m\u001b[0;34m.\u001b[0m\u001b[0m_predict_counter\u001b[0m\u001b[0;34m.\u001b[0m\u001b[0massign\u001b[0m\u001b[0;34m(\u001b[0m\u001b[0;36m0\u001b[0m\u001b[0;34m)\u001b[0m\u001b[0;34m\u001b[0m\u001b[0;34m\u001b[0m\u001b[0m\n\u001b[1;32m   1594\u001b[0m       \u001b[0mcallbacks\u001b[0m\u001b[0;34m.\u001b[0m\u001b[0mon_predict_begin\u001b[0m\u001b[0;34m(\u001b[0m\u001b[0;34m)\u001b[0m\u001b[0;34m\u001b[0m\u001b[0;34m\u001b[0m\u001b[0m\n\u001b[0;32m-> 1595\u001b[0;31m       \u001b[0;32mfor\u001b[0m \u001b[0m_\u001b[0m\u001b[0;34m,\u001b[0m \u001b[0miterator\u001b[0m \u001b[0;32min\u001b[0m \u001b[0mdata_handler\u001b[0m\u001b[0;34m.\u001b[0m\u001b[0menumerate_epochs\u001b[0m\u001b[0;34m(\u001b[0m\u001b[0;34m)\u001b[0m\u001b[0;34m:\u001b[0m  \u001b[0;31m# Single epoch.\u001b[0m\u001b[0;34m\u001b[0m\u001b[0;34m\u001b[0m\u001b[0m\n\u001b[0m\u001b[1;32m   1596\u001b[0m         \u001b[0;32mwith\u001b[0m \u001b[0mdata_handler\u001b[0m\u001b[0;34m.\u001b[0m\u001b[0mcatch_stop_iteration\u001b[0m\u001b[0;34m(\u001b[0m\u001b[0;34m)\u001b[0m\u001b[0;34m:\u001b[0m\u001b[0;34m\u001b[0m\u001b[0;34m\u001b[0m\u001b[0m\n\u001b[1;32m   1597\u001b[0m           \u001b[0;32mfor\u001b[0m \u001b[0mstep\u001b[0m \u001b[0;32min\u001b[0m \u001b[0mdata_handler\u001b[0m\u001b[0;34m.\u001b[0m\u001b[0msteps\u001b[0m\u001b[0;34m(\u001b[0m\u001b[0;34m)\u001b[0m\u001b[0;34m:\u001b[0m\u001b[0;34m\u001b[0m\u001b[0;34m\u001b[0m\u001b[0m\n",
            "\u001b[0;32m/usr/local/lib/python3.6/dist-packages/tensorflow/python/keras/engine/data_adapter.py\u001b[0m in \u001b[0;36menumerate_epochs\u001b[0;34m(self)\u001b[0m\n\u001b[1;32m   1136\u001b[0m     \u001b[0;34m\"\"\"Yields `(epoch, tf.data.Iterator)`.\"\"\"\u001b[0m\u001b[0;34m\u001b[0m\u001b[0;34m\u001b[0m\u001b[0m\n\u001b[1;32m   1137\u001b[0m     \u001b[0;32mwith\u001b[0m \u001b[0mself\u001b[0m\u001b[0;34m.\u001b[0m\u001b[0m_truncate_execution_to_epoch\u001b[0m\u001b[0;34m(\u001b[0m\u001b[0;34m)\u001b[0m\u001b[0;34m:\u001b[0m\u001b[0;34m\u001b[0m\u001b[0;34m\u001b[0m\u001b[0m\n\u001b[0;32m-> 1138\u001b[0;31m       \u001b[0mdata_iterator\u001b[0m \u001b[0;34m=\u001b[0m \u001b[0miter\u001b[0m\u001b[0;34m(\u001b[0m\u001b[0mself\u001b[0m\u001b[0;34m.\u001b[0m\u001b[0m_dataset\u001b[0m\u001b[0;34m)\u001b[0m\u001b[0;34m\u001b[0m\u001b[0;34m\u001b[0m\u001b[0m\n\u001b[0m\u001b[1;32m   1139\u001b[0m       \u001b[0;32mfor\u001b[0m \u001b[0mepoch\u001b[0m \u001b[0;32min\u001b[0m \u001b[0mrange\u001b[0m\u001b[0;34m(\u001b[0m\u001b[0mself\u001b[0m\u001b[0;34m.\u001b[0m\u001b[0m_initial_epoch\u001b[0m\u001b[0;34m,\u001b[0m \u001b[0mself\u001b[0m\u001b[0;34m.\u001b[0m\u001b[0m_epochs\u001b[0m\u001b[0;34m)\u001b[0m\u001b[0;34m:\u001b[0m\u001b[0;34m\u001b[0m\u001b[0;34m\u001b[0m\u001b[0m\n\u001b[1;32m   1140\u001b[0m         \u001b[0;32mif\u001b[0m \u001b[0mself\u001b[0m\u001b[0;34m.\u001b[0m\u001b[0m_insufficient_data\u001b[0m\u001b[0;34m:\u001b[0m  \u001b[0;31m# Set by `catch_stop_iteration`.\u001b[0m\u001b[0;34m\u001b[0m\u001b[0;34m\u001b[0m\u001b[0m\n",
            "\u001b[0;32m/usr/local/lib/python3.6/dist-packages/tensorflow/python/data/ops/dataset_ops.py\u001b[0m in \u001b[0;36m__iter__\u001b[0;34m(self)\u001b[0m\n\u001b[1;32m    413\u001b[0m     \"\"\"\n\u001b[1;32m    414\u001b[0m     \u001b[0;32mif\u001b[0m \u001b[0mcontext\u001b[0m\u001b[0;34m.\u001b[0m\u001b[0mexecuting_eagerly\u001b[0m\u001b[0;34m(\u001b[0m\u001b[0;34m)\u001b[0m \u001b[0;32mor\u001b[0m \u001b[0mops\u001b[0m\u001b[0;34m.\u001b[0m\u001b[0minside_function\u001b[0m\u001b[0;34m(\u001b[0m\u001b[0;34m)\u001b[0m\u001b[0;34m:\u001b[0m\u001b[0;34m\u001b[0m\u001b[0;34m\u001b[0m\u001b[0m\n\u001b[0;32m--> 415\u001b[0;31m       \u001b[0;32mreturn\u001b[0m \u001b[0miterator_ops\u001b[0m\u001b[0;34m.\u001b[0m\u001b[0mOwnedIterator\u001b[0m\u001b[0;34m(\u001b[0m\u001b[0mself\u001b[0m\u001b[0;34m)\u001b[0m\u001b[0;34m\u001b[0m\u001b[0;34m\u001b[0m\u001b[0m\n\u001b[0m\u001b[1;32m    416\u001b[0m     \u001b[0;32melse\u001b[0m\u001b[0;34m:\u001b[0m\u001b[0;34m\u001b[0m\u001b[0;34m\u001b[0m\u001b[0m\n\u001b[1;32m    417\u001b[0m       raise RuntimeError(\"__iter__() is only supported inside of tf.function \"\n",
            "\u001b[0;32m/usr/local/lib/python3.6/dist-packages/tensorflow/python/data/ops/iterator_ops.py\u001b[0m in \u001b[0;36m__init__\u001b[0;34m(self, dataset, components, element_spec, job_token)\u001b[0m\n\u001b[1;32m    694\u001b[0m           context.context().device_spec.device_type != \"CPU\"):\n\u001b[1;32m    695\u001b[0m         \u001b[0;32mwith\u001b[0m \u001b[0mops\u001b[0m\u001b[0;34m.\u001b[0m\u001b[0mdevice\u001b[0m\u001b[0;34m(\u001b[0m\u001b[0;34m\"/cpu:0\"\u001b[0m\u001b[0;34m)\u001b[0m\u001b[0;34m:\u001b[0m\u001b[0;34m\u001b[0m\u001b[0;34m\u001b[0m\u001b[0m\n\u001b[0;32m--> 696\u001b[0;31m           \u001b[0mself\u001b[0m\u001b[0;34m.\u001b[0m\u001b[0m_create_iterator\u001b[0m\u001b[0;34m(\u001b[0m\u001b[0mdataset\u001b[0m\u001b[0;34m)\u001b[0m\u001b[0;34m\u001b[0m\u001b[0;34m\u001b[0m\u001b[0m\n\u001b[0m\u001b[1;32m    697\u001b[0m       \u001b[0;32melse\u001b[0m\u001b[0;34m:\u001b[0m\u001b[0;34m\u001b[0m\u001b[0;34m\u001b[0m\u001b[0m\n\u001b[1;32m    698\u001b[0m         \u001b[0mself\u001b[0m\u001b[0;34m.\u001b[0m\u001b[0m_create_iterator\u001b[0m\u001b[0;34m(\u001b[0m\u001b[0mdataset\u001b[0m\u001b[0;34m)\u001b[0m\u001b[0;34m\u001b[0m\u001b[0;34m\u001b[0m\u001b[0m\n",
            "\u001b[0;32m/usr/local/lib/python3.6/dist-packages/tensorflow/python/data/ops/iterator_ops.py\u001b[0m in \u001b[0;36m_create_iterator\u001b[0;34m(self, dataset)\u001b[0m\n\u001b[1;32m    720\u001b[0m               output_shapes=self._flat_output_shapes))\n\u001b[1;32m    721\u001b[0m       \u001b[0;32mif\u001b[0m \u001b[0mself\u001b[0m\u001b[0;34m.\u001b[0m\u001b[0m_job_token\u001b[0m \u001b[0;32mis\u001b[0m \u001b[0;32mNone\u001b[0m\u001b[0;34m:\u001b[0m\u001b[0;34m\u001b[0m\u001b[0;34m\u001b[0m\u001b[0m\n\u001b[0;32m--> 722\u001b[0;31m         \u001b[0mgen_dataset_ops\u001b[0m\u001b[0;34m.\u001b[0m\u001b[0mmake_iterator\u001b[0m\u001b[0;34m(\u001b[0m\u001b[0mds_variant\u001b[0m\u001b[0;34m,\u001b[0m \u001b[0mself\u001b[0m\u001b[0;34m.\u001b[0m\u001b[0m_iterator_resource\u001b[0m\u001b[0;34m)\u001b[0m\u001b[0;34m\u001b[0m\u001b[0;34m\u001b[0m\u001b[0m\n\u001b[0m\u001b[1;32m    723\u001b[0m       \u001b[0;32melse\u001b[0m\u001b[0;34m:\u001b[0m\u001b[0;34m\u001b[0m\u001b[0;34m\u001b[0m\u001b[0m\n\u001b[1;32m    724\u001b[0m         gen_experimental_dataset_ops.make_data_service_iterator(\n",
            "\u001b[0;32m/usr/local/lib/python3.6/dist-packages/tensorflow/python/ops/gen_dataset_ops.py\u001b[0m in \u001b[0;36mmake_iterator\u001b[0;34m(dataset, iterator, name)\u001b[0m\n\u001b[1;32m   3005\u001b[0m       _result = pywrap_tfe.TFE_Py_FastPathExecute(\n\u001b[1;32m   3006\u001b[0m         \u001b[0m_ctx\u001b[0m\u001b[0;34m.\u001b[0m\u001b[0m_context_handle\u001b[0m\u001b[0;34m,\u001b[0m \u001b[0mtld\u001b[0m\u001b[0;34m.\u001b[0m\u001b[0mdevice_name\u001b[0m\u001b[0;34m,\u001b[0m \u001b[0;34m\"MakeIterator\"\u001b[0m\u001b[0;34m,\u001b[0m \u001b[0mname\u001b[0m\u001b[0;34m,\u001b[0m\u001b[0;34m\u001b[0m\u001b[0;34m\u001b[0m\u001b[0m\n\u001b[0;32m-> 3007\u001b[0;31m         tld.op_callbacks, dataset, iterator)\n\u001b[0m\u001b[1;32m   3008\u001b[0m       \u001b[0;32mreturn\u001b[0m \u001b[0m_result\u001b[0m\u001b[0;34m\u001b[0m\u001b[0;34m\u001b[0m\u001b[0m\n\u001b[1;32m   3009\u001b[0m     \u001b[0;32mexcept\u001b[0m \u001b[0m_core\u001b[0m\u001b[0;34m.\u001b[0m\u001b[0m_NotOkStatusException\u001b[0m \u001b[0;32mas\u001b[0m \u001b[0me\u001b[0m\u001b[0;34m:\u001b[0m\u001b[0;34m\u001b[0m\u001b[0;34m\u001b[0m\u001b[0m\n",
            "\u001b[0;31mKeyboardInterrupt\u001b[0m: "
          ]
        }
      ]
    },
    {
      "cell_type": "markdown",
      "metadata": {
        "id": "DXt-2mKVOFBw"
      },
      "source": [
        "# **Auswertung des Trainings**"
      ]
    },
    {
      "cell_type": "code",
      "metadata": {
        "id": "sICat9voOJKZ",
        "outputId": "9d3881bd-9016-4585-a14f-5c21040c8b44",
        "colab": {
          "base_uri": "https://localhost:8080/",
          "height": 705
        }
      },
      "source": [
        "plt.figure(figsize=(25, 12))\n",
        "plt.plot(REWARD_LIST)\n",
        "plt.title(\"Rewards während des Trainings\", fontsize=25)\n",
        "plt.xlabel(\"Episoden\", fontsize=20)\n",
        "plt.ylabel(\"Rewards\", fontsize=20)\n",
        "plt.show()"
      ],
      "execution_count": 26,
      "outputs": [
        {
          "output_type": "display_data",
          "data": {
            "image/png": "[encoded data removed]",
            "text/plain": [
              "<Figure size 1800x864 with 1 Axes>"
            ]
          },
          "metadata": {
            "tags": [],
            "needs_background": "light"
          }
        }
      ]
    },
    {
      "cell_type": "markdown",
      "metadata": {
        "id": "vCZYOdYaPGPP"
      },
      "source": [
        "# **Trainierten Agenten spielen lassen**"
      ]
    },
    {
      "cell_type": "code",
      "metadata": {
        "id": "n02s15IFPNVl"
      },
      "source": [
        "# Gewichte laden\n",
        "WEIGHTS_PATH = \"...h5\"\n",
        "DQN.load_weights(filepath=WEIGHTS_PATH)"
      ],
      "execution_count": null,
      "outputs": []
    },
    {
      "cell_type": "code",
      "metadata": {
        "id": "i-C92qxEPqqj"
      },
      "source": [
        "# Spielen\n",
        "EPISODES = 10\n",
        "\n",
        "for episode in EPISODES:\n",
        "  state = env.reset()\n",
        "  done = false\n",
        "  EPISODE_REWARD = 0.0\n",
        "  while not done:\n",
        "    env.render()\n",
        "    action = np.argmax(DQN(state))\n",
        "    state, reward, done, _ = env.step(action)\n",
        "    EPISODE_REWARD += reward\n",
        "\n",
        "    if done:\n",
        "      print(\"Episode:\", episode+1, \"\\tReward:\", EPISODE_REWARD)"
      ],
      "execution_count": null,
      "outputs": []
    },
    {
      "cell_type": "markdown",
      "metadata": {
        "id": "EdkuM1BjXkah"
      },
      "source": [
        "# Rendering a Game"
      ]
    },
    {
      "cell_type": "code",
      "metadata": {
        "id": "RkdjLEfgUPcf",
        "outputId": "3fd6bf95-1fc3-422a-820e-ab7fb8187b5f",
        "colab": {
          "base_uri": "https://localhost:8080/",
          "height": 672
        }
      },
      "source": [
        "import gym\n",
        "from IPython import display\n",
        "import matplotlib\n",
        "%matplotlib inline\n",
        "env.reset()\n",
        "for i in range(50):\n",
        "  img = plt.imshow(env.render(mode='rgb_array'))\n",
        "  img.set_data(env.render(mode='rgb_array'))\n",
        "  display.display(plt.gcf())\n",
        "  display.clear_output(wait=True)\n",
        "  env.step(env.action_space.sample())"
      ],
      "execution_count": 40,
      "outputs": [
        {
          "output_type": "error",
          "ename": "KeyboardInterrupt",
          "evalue": "ignored",
          "traceback": [
            "\u001b[0;31m---------------------------------------------------------------------------\u001b[0m",
            "\u001b[0;31mKeyboardInterrupt\u001b[0m                         Traceback (most recent call last)",
            "\u001b[0;32m<ipython-input-40-8df39076550b>\u001b[0m in \u001b[0;36m<module>\u001b[0;34m()\u001b[0m\n\u001b[1;32m      7\u001b[0m   \u001b[0mimg\u001b[0m \u001b[0;34m=\u001b[0m \u001b[0mplt\u001b[0m\u001b[0;34m.\u001b[0m\u001b[0mimshow\u001b[0m\u001b[0;34m(\u001b[0m\u001b[0menv\u001b[0m\u001b[0;34m.\u001b[0m\u001b[0mrender\u001b[0m\u001b[0;34m(\u001b[0m\u001b[0mmode\u001b[0m\u001b[0;34m=\u001b[0m\u001b[0;34m'rgb_array'\u001b[0m\u001b[0;34m)\u001b[0m\u001b[0;34m)\u001b[0m\u001b[0;34m\u001b[0m\u001b[0;34m\u001b[0m\u001b[0m\n\u001b[1;32m      8\u001b[0m   \u001b[0mimg\u001b[0m\u001b[0;34m.\u001b[0m\u001b[0mset_data\u001b[0m\u001b[0;34m(\u001b[0m\u001b[0menv\u001b[0m\u001b[0;34m.\u001b[0m\u001b[0mrender\u001b[0m\u001b[0;34m(\u001b[0m\u001b[0mmode\u001b[0m\u001b[0;34m=\u001b[0m\u001b[0;34m'rgb_array'\u001b[0m\u001b[0;34m)\u001b[0m\u001b[0;34m)\u001b[0m\u001b[0;34m\u001b[0m\u001b[0;34m\u001b[0m\u001b[0m\n\u001b[0;32m----> 9\u001b[0;31m   \u001b[0mdisplay\u001b[0m\u001b[0;34m.\u001b[0m\u001b[0mdisplay\u001b[0m\u001b[0;34m(\u001b[0m\u001b[0mplt\u001b[0m\u001b[0;34m.\u001b[0m\u001b[0mgcf\u001b[0m\u001b[0;34m(\u001b[0m\u001b[0;34m)\u001b[0m\u001b[0;34m)\u001b[0m\u001b[0;34m\u001b[0m\u001b[0;34m\u001b[0m\u001b[0m\n\u001b[0m\u001b[1;32m     10\u001b[0m   \u001b[0mdisplay\u001b[0m\u001b[0;34m.\u001b[0m\u001b[0mclear_output\u001b[0m\u001b[0;34m(\u001b[0m\u001b[0mwait\u001b[0m\u001b[0;34m=\u001b[0m\u001b[0;32mTrue\u001b[0m\u001b[0;34m)\u001b[0m\u001b[0;34m\u001b[0m\u001b[0;34m\u001b[0m\u001b[0m\n\u001b[1;32m     11\u001b[0m   \u001b[0menv\u001b[0m\u001b[0;34m.\u001b[0m\u001b[0mstep\u001b[0m\u001b[0;34m(\u001b[0m\u001b[0menv\u001b[0m\u001b[0;34m.\u001b[0m\u001b[0maction_space\u001b[0m\u001b[0;34m.\u001b[0m\u001b[0msample\u001b[0m\u001b[0;34m(\u001b[0m\u001b[0;34m)\u001b[0m\u001b[0;34m)\u001b[0m\u001b[0;34m\u001b[0m\u001b[0;34m\u001b[0m\u001b[0m\n",
            "\u001b[0;32m/usr/local/lib/python3.6/dist-packages/IPython/core/display.py\u001b[0m in \u001b[0;36mdisplay\u001b[0;34m(*objs, **kwargs)\u001b[0m\n\u001b[1;32m    304\u001b[0m             \u001b[0mpublish_display_data\u001b[0m\u001b[0;34m(\u001b[0m\u001b[0mdata\u001b[0m\u001b[0;34m=\u001b[0m\u001b[0mobj\u001b[0m\u001b[0;34m,\u001b[0m \u001b[0mmetadata\u001b[0m\u001b[0;34m=\u001b[0m\u001b[0mmetadata\u001b[0m\u001b[0;34m,\u001b[0m \u001b[0;34m**\u001b[0m\u001b[0mkwargs\u001b[0m\u001b[0;34m)\u001b[0m\u001b[0;34m\u001b[0m\u001b[0;34m\u001b[0m\u001b[0m\n\u001b[1;32m    305\u001b[0m         \u001b[0;32melse\u001b[0m\u001b[0;34m:\u001b[0m\u001b[0;34m\u001b[0m\u001b[0;34m\u001b[0m\u001b[0m\n\u001b[0;32m--> 306\u001b[0;31m             \u001b[0mformat_dict\u001b[0m\u001b[0;34m,\u001b[0m \u001b[0mmd_dict\u001b[0m \u001b[0;34m=\u001b[0m \u001b[0mformat\u001b[0m\u001b[0;34m(\u001b[0m\u001b[0mobj\u001b[0m\u001b[0;34m,\u001b[0m \u001b[0minclude\u001b[0m\u001b[0;34m=\u001b[0m\u001b[0minclude\u001b[0m\u001b[0;34m,\u001b[0m \u001b[0mexclude\u001b[0m\u001b[0;34m=\u001b[0m\u001b[0mexclude\u001b[0m\u001b[0;34m)\u001b[0m\u001b[0;34m\u001b[0m\u001b[0;34m\u001b[0m\u001b[0m\n\u001b[0m\u001b[1;32m    307\u001b[0m             \u001b[0;32mif\u001b[0m \u001b[0;32mnot\u001b[0m \u001b[0mformat_dict\u001b[0m\u001b[0;34m:\u001b[0m\u001b[0;34m\u001b[0m\u001b[0;34m\u001b[0m\u001b[0m\n\u001b[1;32m    308\u001b[0m                 \u001b[0;31m# nothing to display (e.g. _ipython_display_ took over)\u001b[0m\u001b[0;34m\u001b[0m\u001b[0;34m\u001b[0m\u001b[0;34m\u001b[0m\u001b[0m\n",
            "\u001b[0;32m/usr/local/lib/python3.6/dist-packages/IPython/core/formatters.py\u001b[0m in \u001b[0;36mformat\u001b[0;34m(self, obj, include, exclude)\u001b[0m\n\u001b[1;32m    171\u001b[0m             \u001b[0mmd\u001b[0m \u001b[0;34m=\u001b[0m \u001b[0;32mNone\u001b[0m\u001b[0;34m\u001b[0m\u001b[0;34m\u001b[0m\u001b[0m\n\u001b[1;32m    172\u001b[0m             \u001b[0;32mtry\u001b[0m\u001b[0;34m:\u001b[0m\u001b[0;34m\u001b[0m\u001b[0;34m\u001b[0m\u001b[0m\n\u001b[0;32m--> 173\u001b[0;31m                 \u001b[0mdata\u001b[0m \u001b[0;34m=\u001b[0m \u001b[0mformatter\u001b[0m\u001b[0;34m(\u001b[0m\u001b[0mobj\u001b[0m\u001b[0;34m)\u001b[0m\u001b[0;34m\u001b[0m\u001b[0;34m\u001b[0m\u001b[0m\n\u001b[0m\u001b[1;32m    174\u001b[0m             \u001b[0;32mexcept\u001b[0m\u001b[0;34m:\u001b[0m\u001b[0;34m\u001b[0m\u001b[0;34m\u001b[0m\u001b[0m\n\u001b[1;32m    175\u001b[0m                 \u001b[0;31m# FIXME: log the exception\u001b[0m\u001b[0;34m\u001b[0m\u001b[0;34m\u001b[0m\u001b[0;34m\u001b[0m\u001b[0m\n",
            "\u001b[0;32m<decorator-gen-9>\u001b[0m in \u001b[0;36m__call__\u001b[0;34m(self, obj)\u001b[0m\n",
            "\u001b[0;32m/usr/local/lib/python3.6/dist-packages/IPython/core/formatters.py\u001b[0m in \u001b[0;36mcatch_format_error\u001b[0;34m(method, self, *args, **kwargs)\u001b[0m\n\u001b[1;32m    215\u001b[0m     \u001b[0;34m\"\"\"show traceback on failed format call\"\"\"\u001b[0m\u001b[0;34m\u001b[0m\u001b[0;34m\u001b[0m\u001b[0m\n\u001b[1;32m    216\u001b[0m     \u001b[0;32mtry\u001b[0m\u001b[0;34m:\u001b[0m\u001b[0;34m\u001b[0m\u001b[0;34m\u001b[0m\u001b[0m\n\u001b[0;32m--> 217\u001b[0;31m         \u001b[0mr\u001b[0m \u001b[0;34m=\u001b[0m \u001b[0mmethod\u001b[0m\u001b[0;34m(\u001b[0m\u001b[0mself\u001b[0m\u001b[0;34m,\u001b[0m \u001b[0;34m*\u001b[0m\u001b[0margs\u001b[0m\u001b[0;34m,\u001b[0m \u001b[0;34m**\u001b[0m\u001b[0mkwargs\u001b[0m\u001b[0;34m)\u001b[0m\u001b[0;34m\u001b[0m\u001b[0;34m\u001b[0m\u001b[0m\n\u001b[0m\u001b[1;32m    218\u001b[0m     \u001b[0;32mexcept\u001b[0m \u001b[0mNotImplementedError\u001b[0m\u001b[0;34m:\u001b[0m\u001b[0;34m\u001b[0m\u001b[0;34m\u001b[0m\u001b[0m\n\u001b[1;32m    219\u001b[0m         \u001b[0;31m# don't warn on NotImplementedErrors\u001b[0m\u001b[0;34m\u001b[0m\u001b[0;34m\u001b[0m\u001b[0;34m\u001b[0m\u001b[0m\n",
            "\u001b[0;32m/usr/local/lib/python3.6/dist-packages/IPython/core/formatters.py\u001b[0m in \u001b[0;36m__call__\u001b[0;34m(self, obj)\u001b[0m\n\u001b[1;32m    332\u001b[0m                 \u001b[0;32mpass\u001b[0m\u001b[0;34m\u001b[0m\u001b[0;34m\u001b[0m\u001b[0m\n\u001b[1;32m    333\u001b[0m             \u001b[0;32melse\u001b[0m\u001b[0;34m:\u001b[0m\u001b[0;34m\u001b[0m\u001b[0;34m\u001b[0m\u001b[0m\n\u001b[0;32m--> 334\u001b[0;31m                 \u001b[0;32mreturn\u001b[0m \u001b[0mprinter\u001b[0m\u001b[0;34m(\u001b[0m\u001b[0mobj\u001b[0m\u001b[0;34m)\u001b[0m\u001b[0;34m\u001b[0m\u001b[0;34m\u001b[0m\u001b[0m\n\u001b[0m\u001b[1;32m    335\u001b[0m             \u001b[0;31m# Finally look for special method names\u001b[0m\u001b[0;34m\u001b[0m\u001b[0;34m\u001b[0m\u001b[0;34m\u001b[0m\u001b[0m\n\u001b[1;32m    336\u001b[0m             \u001b[0mmethod\u001b[0m \u001b[0;34m=\u001b[0m \u001b[0mget_real_method\u001b[0m\u001b[0;34m(\u001b[0m\u001b[0mobj\u001b[0m\u001b[0;34m,\u001b[0m \u001b[0mself\u001b[0m\u001b[0;34m.\u001b[0m\u001b[0mprint_method\u001b[0m\u001b[0;34m)\u001b[0m\u001b[0;34m\u001b[0m\u001b[0;34m\u001b[0m\u001b[0m\n",
            "\u001b[0;32m/usr/local/lib/python3.6/dist-packages/IPython/core/pylabtools.py\u001b[0m in \u001b[0;36m<lambda>\u001b[0;34m(fig)\u001b[0m\n\u001b[1;32m    239\u001b[0m \u001b[0;34m\u001b[0m\u001b[0m\n\u001b[1;32m    240\u001b[0m     \u001b[0;32mif\u001b[0m \u001b[0;34m'png'\u001b[0m \u001b[0;32min\u001b[0m \u001b[0mformats\u001b[0m\u001b[0;34m:\u001b[0m\u001b[0;34m\u001b[0m\u001b[0;34m\u001b[0m\u001b[0m\n\u001b[0;32m--> 241\u001b[0;31m         \u001b[0mpng_formatter\u001b[0m\u001b[0;34m.\u001b[0m\u001b[0mfor_type\u001b[0m\u001b[0;34m(\u001b[0m\u001b[0mFigure\u001b[0m\u001b[0;34m,\u001b[0m \u001b[0;32mlambda\u001b[0m \u001b[0mfig\u001b[0m\u001b[0;34m:\u001b[0m \u001b[0mprint_figure\u001b[0m\u001b[0;34m(\u001b[0m\u001b[0mfig\u001b[0m\u001b[0;34m,\u001b[0m \u001b[0;34m'png'\u001b[0m\u001b[0;34m,\u001b[0m \u001b[0;34m**\u001b[0m\u001b[0mkwargs\u001b[0m\u001b[0;34m)\u001b[0m\u001b[0;34m)\u001b[0m\u001b[0;34m\u001b[0m\u001b[0;34m\u001b[0m\u001b[0m\n\u001b[0m\u001b[1;32m    242\u001b[0m     \u001b[0;32mif\u001b[0m \u001b[0;34m'retina'\u001b[0m \u001b[0;32min\u001b[0m \u001b[0mformats\u001b[0m \u001b[0;32mor\u001b[0m \u001b[0;34m'png2x'\u001b[0m \u001b[0;32min\u001b[0m \u001b[0mformats\u001b[0m\u001b[0;34m:\u001b[0m\u001b[0;34m\u001b[0m\u001b[0;34m\u001b[0m\u001b[0m\n\u001b[1;32m    243\u001b[0m         \u001b[0mpng_formatter\u001b[0m\u001b[0;34m.\u001b[0m\u001b[0mfor_type\u001b[0m\u001b[0;34m(\u001b[0m\u001b[0mFigure\u001b[0m\u001b[0;34m,\u001b[0m \u001b[0;32mlambda\u001b[0m \u001b[0mfig\u001b[0m\u001b[0;34m:\u001b[0m \u001b[0mretina_figure\u001b[0m\u001b[0;34m(\u001b[0m\u001b[0mfig\u001b[0m\u001b[0;34m,\u001b[0m \u001b[0;34m**\u001b[0m\u001b[0mkwargs\u001b[0m\u001b[0;34m)\u001b[0m\u001b[0;34m)\u001b[0m\u001b[0;34m\u001b[0m\u001b[0;34m\u001b[0m\u001b[0m\n",
            "\u001b[0;32m/usr/local/lib/python3.6/dist-packages/IPython/core/pylabtools.py\u001b[0m in \u001b[0;36mprint_figure\u001b[0;34m(fig, fmt, bbox_inches, **kwargs)\u001b[0m\n\u001b[1;32m    123\u001b[0m \u001b[0;34m\u001b[0m\u001b[0m\n\u001b[1;32m    124\u001b[0m     \u001b[0mbytes_io\u001b[0m \u001b[0;34m=\u001b[0m \u001b[0mBytesIO\u001b[0m\u001b[0;34m(\u001b[0m\u001b[0;34m)\u001b[0m\u001b[0;34m\u001b[0m\u001b[0;34m\u001b[0m\u001b[0m\n\u001b[0;32m--> 125\u001b[0;31m     \u001b[0mfig\u001b[0m\u001b[0;34m.\u001b[0m\u001b[0mcanvas\u001b[0m\u001b[0;34m.\u001b[0m\u001b[0mprint_figure\u001b[0m\u001b[0;34m(\u001b[0m\u001b[0mbytes_io\u001b[0m\u001b[0;34m,\u001b[0m \u001b[0;34m**\u001b[0m\u001b[0mkw\u001b[0m\u001b[0;34m)\u001b[0m\u001b[0;34m\u001b[0m\u001b[0;34m\u001b[0m\u001b[0m\n\u001b[0m\u001b[1;32m    126\u001b[0m     \u001b[0mdata\u001b[0m \u001b[0;34m=\u001b[0m \u001b[0mbytes_io\u001b[0m\u001b[0;34m.\u001b[0m\u001b[0mgetvalue\u001b[0m\u001b[0;34m(\u001b[0m\u001b[0;34m)\u001b[0m\u001b[0;34m\u001b[0m\u001b[0;34m\u001b[0m\u001b[0m\n\u001b[1;32m    127\u001b[0m     \u001b[0;32mif\u001b[0m \u001b[0mfmt\u001b[0m \u001b[0;34m==\u001b[0m \u001b[0;34m'svg'\u001b[0m\u001b[0;34m:\u001b[0m\u001b[0;34m\u001b[0m\u001b[0;34m\u001b[0m\u001b[0m\n",
            "\u001b[0;32m/usr/local/lib/python3.6/dist-packages/matplotlib/backend_bases.py\u001b[0m in \u001b[0;36mprint_figure\u001b[0;34m(self, filename, dpi, facecolor, edgecolor, orientation, format, bbox_inches, **kwargs)\u001b[0m\n\u001b[1;32m   2124\u001b[0m                     \u001b[0morientation\u001b[0m\u001b[0;34m=\u001b[0m\u001b[0morientation\u001b[0m\u001b[0;34m,\u001b[0m\u001b[0;34m\u001b[0m\u001b[0;34m\u001b[0m\u001b[0m\n\u001b[1;32m   2125\u001b[0m                     \u001b[0mbbox_inches_restore\u001b[0m\u001b[0;34m=\u001b[0m\u001b[0m_bbox_inches_restore\u001b[0m\u001b[0;34m,\u001b[0m\u001b[0;34m\u001b[0m\u001b[0;34m\u001b[0m\u001b[0m\n\u001b[0;32m-> 2126\u001b[0;31m                     **kwargs)\n\u001b[0m\u001b[1;32m   2127\u001b[0m             \u001b[0;32mfinally\u001b[0m\u001b[0;34m:\u001b[0m\u001b[0;34m\u001b[0m\u001b[0;34m\u001b[0m\u001b[0m\n\u001b[1;32m   2128\u001b[0m                 \u001b[0;32mif\u001b[0m \u001b[0mbbox_inches\u001b[0m \u001b[0;32mand\u001b[0m \u001b[0mrestore_bbox\u001b[0m\u001b[0;34m:\u001b[0m\u001b[0;34m\u001b[0m\u001b[0;34m\u001b[0m\u001b[0m\n",
            "\u001b[0;32m/usr/local/lib/python3.6/dist-packages/matplotlib/backends/backend_agg.py\u001b[0m in \u001b[0;36mprint_png\u001b[0;34m(self, filename_or_obj, metadata, pil_kwargs, *args, **kwargs)\u001b[0m\n\u001b[1;32m    512\u001b[0m         }\n\u001b[1;32m    513\u001b[0m \u001b[0;34m\u001b[0m\u001b[0m\n\u001b[0;32m--> 514\u001b[0;31m         \u001b[0mFigureCanvasAgg\u001b[0m\u001b[0;34m.\u001b[0m\u001b[0mdraw\u001b[0m\u001b[0;34m(\u001b[0m\u001b[0mself\u001b[0m\u001b[0;34m)\u001b[0m\u001b[0;34m\u001b[0m\u001b[0;34m\u001b[0m\u001b[0m\n\u001b[0m\u001b[1;32m    515\u001b[0m         \u001b[0;32mif\u001b[0m \u001b[0mpil_kwargs\u001b[0m \u001b[0;32mis\u001b[0m \u001b[0;32mnot\u001b[0m \u001b[0;32mNone\u001b[0m\u001b[0;34m:\u001b[0m\u001b[0;34m\u001b[0m\u001b[0;34m\u001b[0m\u001b[0m\n\u001b[1;32m    516\u001b[0m             \u001b[0;32mfrom\u001b[0m \u001b[0mPIL\u001b[0m \u001b[0;32mimport\u001b[0m \u001b[0mImage\u001b[0m\u001b[0;34m\u001b[0m\u001b[0;34m\u001b[0m\u001b[0m\n",
            "\u001b[0;32m/usr/local/lib/python3.6/dist-packages/matplotlib/backends/backend_agg.py\u001b[0m in \u001b[0;36mdraw\u001b[0;34m(self)\u001b[0m\n\u001b[1;32m    391\u001b[0m              (self.toolbar._wait_cursor_for_draw_cm() if self.toolbar\n\u001b[1;32m    392\u001b[0m               else nullcontext()):\n\u001b[0;32m--> 393\u001b[0;31m             \u001b[0mself\u001b[0m\u001b[0;34m.\u001b[0m\u001b[0mfigure\u001b[0m\u001b[0;34m.\u001b[0m\u001b[0mdraw\u001b[0m\u001b[0;34m(\u001b[0m\u001b[0mself\u001b[0m\u001b[0;34m.\u001b[0m\u001b[0mrenderer\u001b[0m\u001b[0;34m)\u001b[0m\u001b[0;34m\u001b[0m\u001b[0;34m\u001b[0m\u001b[0m\n\u001b[0m\u001b[1;32m    394\u001b[0m             \u001b[0;31m# A GUI class may be need to update a window using this draw, so\u001b[0m\u001b[0;34m\u001b[0m\u001b[0;34m\u001b[0m\u001b[0;34m\u001b[0m\u001b[0m\n\u001b[1;32m    395\u001b[0m             \u001b[0;31m# don't forget to call the superclass.\u001b[0m\u001b[0;34m\u001b[0m\u001b[0;34m\u001b[0m\u001b[0;34m\u001b[0m\u001b[0m\n",
            "\u001b[0;32m/usr/local/lib/python3.6/dist-packages/matplotlib/artist.py\u001b[0m in \u001b[0;36mdraw_wrapper\u001b[0;34m(artist, renderer, *args, **kwargs)\u001b[0m\n\u001b[1;32m     36\u001b[0m                 \u001b[0mrenderer\u001b[0m\u001b[0;34m.\u001b[0m\u001b[0mstart_filter\u001b[0m\u001b[0;34m(\u001b[0m\u001b[0;34m)\u001b[0m\u001b[0;34m\u001b[0m\u001b[0;34m\u001b[0m\u001b[0m\n\u001b[1;32m     37\u001b[0m \u001b[0;34m\u001b[0m\u001b[0m\n\u001b[0;32m---> 38\u001b[0;31m             \u001b[0;32mreturn\u001b[0m \u001b[0mdraw\u001b[0m\u001b[0;34m(\u001b[0m\u001b[0martist\u001b[0m\u001b[0;34m,\u001b[0m \u001b[0mrenderer\u001b[0m\u001b[0;34m,\u001b[0m \u001b[0;34m*\u001b[0m\u001b[0margs\u001b[0m\u001b[0;34m,\u001b[0m \u001b[0;34m**\u001b[0m\u001b[0mkwargs\u001b[0m\u001b[0;34m)\u001b[0m\u001b[0;34m\u001b[0m\u001b[0;34m\u001b[0m\u001b[0m\n\u001b[0m\u001b[1;32m     39\u001b[0m         \u001b[0;32mfinally\u001b[0m\u001b[0;34m:\u001b[0m\u001b[0;34m\u001b[0m\u001b[0;34m\u001b[0m\u001b[0m\n\u001b[1;32m     40\u001b[0m             \u001b[0;32mif\u001b[0m \u001b[0martist\u001b[0m\u001b[0;34m.\u001b[0m\u001b[0mget_agg_filter\u001b[0m\u001b[0;34m(\u001b[0m\u001b[0;34m)\u001b[0m \u001b[0;32mis\u001b[0m \u001b[0;32mnot\u001b[0m \u001b[0;32mNone\u001b[0m\u001b[0;34m:\u001b[0m\u001b[0;34m\u001b[0m\u001b[0;34m\u001b[0m\u001b[0m\n",
            "\u001b[0;32m/usr/local/lib/python3.6/dist-packages/matplotlib/figure.py\u001b[0m in \u001b[0;36mdraw\u001b[0;34m(self, renderer)\u001b[0m\n\u001b[1;32m   1734\u001b[0m             \u001b[0mself\u001b[0m\u001b[0;34m.\u001b[0m\u001b[0mpatch\u001b[0m\u001b[0;34m.\u001b[0m\u001b[0mdraw\u001b[0m\u001b[0;34m(\u001b[0m\u001b[0mrenderer\u001b[0m\u001b[0;34m)\u001b[0m\u001b[0;34m\u001b[0m\u001b[0;34m\u001b[0m\u001b[0m\n\u001b[1;32m   1735\u001b[0m             mimage._draw_list_compositing_images(\n\u001b[0;32m-> 1736\u001b[0;31m                 renderer, self, artists, self.suppressComposite)\n\u001b[0m\u001b[1;32m   1737\u001b[0m \u001b[0;34m\u001b[0m\u001b[0m\n\u001b[1;32m   1738\u001b[0m             \u001b[0mrenderer\u001b[0m\u001b[0;34m.\u001b[0m\u001b[0mclose_group\u001b[0m\u001b[0;34m(\u001b[0m\u001b[0;34m'figure'\u001b[0m\u001b[0;34m)\u001b[0m\u001b[0;34m\u001b[0m\u001b[0;34m\u001b[0m\u001b[0m\n",
            "\u001b[0;32m/usr/local/lib/python3.6/dist-packages/matplotlib/image.py\u001b[0m in \u001b[0;36m_draw_list_compositing_images\u001b[0;34m(renderer, parent, artists, suppress_composite)\u001b[0m\n\u001b[1;32m    135\u001b[0m     \u001b[0;32mif\u001b[0m \u001b[0mnot_composite\u001b[0m \u001b[0;32mor\u001b[0m \u001b[0;32mnot\u001b[0m \u001b[0mhas_images\u001b[0m\u001b[0;34m:\u001b[0m\u001b[0;34m\u001b[0m\u001b[0;34m\u001b[0m\u001b[0m\n\u001b[1;32m    136\u001b[0m         \u001b[0;32mfor\u001b[0m \u001b[0ma\u001b[0m \u001b[0;32min\u001b[0m \u001b[0martists\u001b[0m\u001b[0;34m:\u001b[0m\u001b[0;34m\u001b[0m\u001b[0;34m\u001b[0m\u001b[0m\n\u001b[0;32m--> 137\u001b[0;31m             \u001b[0ma\u001b[0m\u001b[0;34m.\u001b[0m\u001b[0mdraw\u001b[0m\u001b[0;34m(\u001b[0m\u001b[0mrenderer\u001b[0m\u001b[0;34m)\u001b[0m\u001b[0;34m\u001b[0m\u001b[0;34m\u001b[0m\u001b[0m\n\u001b[0m\u001b[1;32m    138\u001b[0m     \u001b[0;32melse\u001b[0m\u001b[0;34m:\u001b[0m\u001b[0;34m\u001b[0m\u001b[0;34m\u001b[0m\u001b[0m\n\u001b[1;32m    139\u001b[0m         \u001b[0;31m# Composite any adjacent images together\u001b[0m\u001b[0;34m\u001b[0m\u001b[0;34m\u001b[0m\u001b[0;34m\u001b[0m\u001b[0m\n",
            "\u001b[0;32m/usr/local/lib/python3.6/dist-packages/matplotlib/artist.py\u001b[0m in \u001b[0;36mdraw_wrapper\u001b[0;34m(artist, renderer, *args, **kwargs)\u001b[0m\n\u001b[1;32m     36\u001b[0m                 \u001b[0mrenderer\u001b[0m\u001b[0;34m.\u001b[0m\u001b[0mstart_filter\u001b[0m\u001b[0;34m(\u001b[0m\u001b[0;34m)\u001b[0m\u001b[0;34m\u001b[0m\u001b[0;34m\u001b[0m\u001b[0m\n\u001b[1;32m     37\u001b[0m \u001b[0;34m\u001b[0m\u001b[0m\n\u001b[0;32m---> 38\u001b[0;31m             \u001b[0;32mreturn\u001b[0m \u001b[0mdraw\u001b[0m\u001b[0;34m(\u001b[0m\u001b[0martist\u001b[0m\u001b[0;34m,\u001b[0m \u001b[0mrenderer\u001b[0m\u001b[0;34m,\u001b[0m \u001b[0;34m*\u001b[0m\u001b[0margs\u001b[0m\u001b[0;34m,\u001b[0m \u001b[0;34m**\u001b[0m\u001b[0mkwargs\u001b[0m\u001b[0;34m)\u001b[0m\u001b[0;34m\u001b[0m\u001b[0;34m\u001b[0m\u001b[0m\n\u001b[0m\u001b[1;32m     39\u001b[0m         \u001b[0;32mfinally\u001b[0m\u001b[0;34m:\u001b[0m\u001b[0;34m\u001b[0m\u001b[0;34m\u001b[0m\u001b[0m\n\u001b[1;32m     40\u001b[0m             \u001b[0;32mif\u001b[0m \u001b[0martist\u001b[0m\u001b[0;34m.\u001b[0m\u001b[0mget_agg_filter\u001b[0m\u001b[0;34m(\u001b[0m\u001b[0;34m)\u001b[0m \u001b[0;32mis\u001b[0m \u001b[0;32mnot\u001b[0m \u001b[0;32mNone\u001b[0m\u001b[0;34m:\u001b[0m\u001b[0;34m\u001b[0m\u001b[0;34m\u001b[0m\u001b[0m\n",
            "\u001b[0;32m/usr/local/lib/python3.6/dist-packages/matplotlib/axes/_base.py\u001b[0m in \u001b[0;36mdraw\u001b[0;34m(self, renderer, inframe)\u001b[0m\n\u001b[1;32m   2628\u001b[0m             \u001b[0mrenderer\u001b[0m\u001b[0;34m.\u001b[0m\u001b[0mstop_rasterizing\u001b[0m\u001b[0;34m(\u001b[0m\u001b[0;34m)\u001b[0m\u001b[0;34m\u001b[0m\u001b[0;34m\u001b[0m\u001b[0m\n\u001b[1;32m   2629\u001b[0m \u001b[0;34m\u001b[0m\u001b[0m\n\u001b[0;32m-> 2630\u001b[0;31m         \u001b[0mmimage\u001b[0m\u001b[0;34m.\u001b[0m\u001b[0m_draw_list_compositing_images\u001b[0m\u001b[0;34m(\u001b[0m\u001b[0mrenderer\u001b[0m\u001b[0;34m,\u001b[0m \u001b[0mself\u001b[0m\u001b[0;34m,\u001b[0m \u001b[0martists\u001b[0m\u001b[0;34m)\u001b[0m\u001b[0;34m\u001b[0m\u001b[0;34m\u001b[0m\u001b[0m\n\u001b[0m\u001b[1;32m   2631\u001b[0m \u001b[0;34m\u001b[0m\u001b[0m\n\u001b[1;32m   2632\u001b[0m         \u001b[0mrenderer\u001b[0m\u001b[0;34m.\u001b[0m\u001b[0mclose_group\u001b[0m\u001b[0;34m(\u001b[0m\u001b[0;34m'axes'\u001b[0m\u001b[0;34m)\u001b[0m\u001b[0;34m\u001b[0m\u001b[0;34m\u001b[0m\u001b[0m\n",
            "\u001b[0;32m/usr/local/lib/python3.6/dist-packages/matplotlib/image.py\u001b[0m in \u001b[0;36m_draw_list_compositing_images\u001b[0;34m(renderer, parent, artists, suppress_composite)\u001b[0m\n\u001b[1;32m    135\u001b[0m     \u001b[0;32mif\u001b[0m \u001b[0mnot_composite\u001b[0m \u001b[0;32mor\u001b[0m \u001b[0;32mnot\u001b[0m \u001b[0mhas_images\u001b[0m\u001b[0;34m:\u001b[0m\u001b[0;34m\u001b[0m\u001b[0;34m\u001b[0m\u001b[0m\n\u001b[1;32m    136\u001b[0m         \u001b[0;32mfor\u001b[0m \u001b[0ma\u001b[0m \u001b[0;32min\u001b[0m \u001b[0martists\u001b[0m\u001b[0;34m:\u001b[0m\u001b[0;34m\u001b[0m\u001b[0;34m\u001b[0m\u001b[0m\n\u001b[0;32m--> 137\u001b[0;31m             \u001b[0ma\u001b[0m\u001b[0;34m.\u001b[0m\u001b[0mdraw\u001b[0m\u001b[0;34m(\u001b[0m\u001b[0mrenderer\u001b[0m\u001b[0;34m)\u001b[0m\u001b[0;34m\u001b[0m\u001b[0;34m\u001b[0m\u001b[0m\n\u001b[0m\u001b[1;32m    138\u001b[0m     \u001b[0;32melse\u001b[0m\u001b[0;34m:\u001b[0m\u001b[0;34m\u001b[0m\u001b[0;34m\u001b[0m\u001b[0m\n\u001b[1;32m    139\u001b[0m         \u001b[0;31m# Composite any adjacent images together\u001b[0m\u001b[0;34m\u001b[0m\u001b[0;34m\u001b[0m\u001b[0;34m\u001b[0m\u001b[0m\n",
            "\u001b[0;32m/usr/local/lib/python3.6/dist-packages/matplotlib/artist.py\u001b[0m in \u001b[0;36mdraw_wrapper\u001b[0;34m(artist, renderer, *args, **kwargs)\u001b[0m\n\u001b[1;32m     36\u001b[0m                 \u001b[0mrenderer\u001b[0m\u001b[0;34m.\u001b[0m\u001b[0mstart_filter\u001b[0m\u001b[0;34m(\u001b[0m\u001b[0;34m)\u001b[0m\u001b[0;34m\u001b[0m\u001b[0;34m\u001b[0m\u001b[0m\n\u001b[1;32m     37\u001b[0m \u001b[0;34m\u001b[0m\u001b[0m\n\u001b[0;32m---> 38\u001b[0;31m             \u001b[0;32mreturn\u001b[0m \u001b[0mdraw\u001b[0m\u001b[0;34m(\u001b[0m\u001b[0martist\u001b[0m\u001b[0;34m,\u001b[0m \u001b[0mrenderer\u001b[0m\u001b[0;34m,\u001b[0m \u001b[0;34m*\u001b[0m\u001b[0margs\u001b[0m\u001b[0;34m,\u001b[0m \u001b[0;34m**\u001b[0m\u001b[0mkwargs\u001b[0m\u001b[0;34m)\u001b[0m\u001b[0;34m\u001b[0m\u001b[0;34m\u001b[0m\u001b[0m\n\u001b[0m\u001b[1;32m     39\u001b[0m         \u001b[0;32mfinally\u001b[0m\u001b[0;34m:\u001b[0m\u001b[0;34m\u001b[0m\u001b[0;34m\u001b[0m\u001b[0m\n\u001b[1;32m     40\u001b[0m             \u001b[0;32mif\u001b[0m \u001b[0martist\u001b[0m\u001b[0;34m.\u001b[0m\u001b[0mget_agg_filter\u001b[0m\u001b[0;34m(\u001b[0m\u001b[0;34m)\u001b[0m \u001b[0;32mis\u001b[0m \u001b[0;32mnot\u001b[0m \u001b[0;32mNone\u001b[0m\u001b[0;34m:\u001b[0m\u001b[0;34m\u001b[0m\u001b[0;34m\u001b[0m\u001b[0m\n",
            "\u001b[0;32m/usr/local/lib/python3.6/dist-packages/matplotlib/image.py\u001b[0m in \u001b[0;36mdraw\u001b[0;34m(self, renderer, *args, **kwargs)\u001b[0m\n\u001b[1;32m    624\u001b[0m         \u001b[0;32melse\u001b[0m\u001b[0;34m:\u001b[0m\u001b[0;34m\u001b[0m\u001b[0;34m\u001b[0m\u001b[0m\n\u001b[1;32m    625\u001b[0m             im, l, b, trans = self.make_image(\n\u001b[0;32m--> 626\u001b[0;31m                 renderer, renderer.get_image_magnification())\n\u001b[0m\u001b[1;32m    627\u001b[0m             \u001b[0;32mif\u001b[0m \u001b[0mim\u001b[0m \u001b[0;32mis\u001b[0m \u001b[0;32mnot\u001b[0m \u001b[0;32mNone\u001b[0m\u001b[0;34m:\u001b[0m\u001b[0;34m\u001b[0m\u001b[0;34m\u001b[0m\u001b[0m\n\u001b[1;32m    628\u001b[0m                 \u001b[0mrenderer\u001b[0m\u001b[0;34m.\u001b[0m\u001b[0mdraw_image\u001b[0m\u001b[0;34m(\u001b[0m\u001b[0mgc\u001b[0m\u001b[0;34m,\u001b[0m \u001b[0ml\u001b[0m\u001b[0;34m,\u001b[0m \u001b[0mb\u001b[0m\u001b[0;34m,\u001b[0m \u001b[0mim\u001b[0m\u001b[0;34m)\u001b[0m\u001b[0;34m\u001b[0m\u001b[0;34m\u001b[0m\u001b[0m\n",
            "\u001b[0;32m/usr/local/lib/python3.6/dist-packages/matplotlib/image.py\u001b[0m in \u001b[0;36mmake_image\u001b[0;34m(self, renderer, magnification, unsampled)\u001b[0m\n\u001b[1;32m    915\u001b[0m             \u001b[0mself\u001b[0m\u001b[0;34m.\u001b[0m\u001b[0m_A\u001b[0m\u001b[0;34m,\u001b[0m \u001b[0mbbox\u001b[0m\u001b[0;34m,\u001b[0m \u001b[0mtransformed_bbox\u001b[0m\u001b[0;34m,\u001b[0m\u001b[0;34m\u001b[0m\u001b[0;34m\u001b[0m\u001b[0m\n\u001b[1;32m    916\u001b[0m             \u001b[0mself\u001b[0m\u001b[0;34m.\u001b[0m\u001b[0mget_clip_box\u001b[0m\u001b[0;34m(\u001b[0m\u001b[0;34m)\u001b[0m \u001b[0;32mor\u001b[0m \u001b[0mself\u001b[0m\u001b[0;34m.\u001b[0m\u001b[0maxes\u001b[0m\u001b[0;34m.\u001b[0m\u001b[0mbbox\u001b[0m\u001b[0;34m,\u001b[0m\u001b[0;34m\u001b[0m\u001b[0;34m\u001b[0m\u001b[0m\n\u001b[0;32m--> 917\u001b[0;31m             magnification, unsampled=unsampled)\n\u001b[0m\u001b[1;32m    918\u001b[0m \u001b[0;34m\u001b[0m\u001b[0m\n\u001b[1;32m    919\u001b[0m     \u001b[0;32mdef\u001b[0m \u001b[0m_check_unsampled_image\u001b[0m\u001b[0;34m(\u001b[0m\u001b[0mself\u001b[0m\u001b[0;34m,\u001b[0m \u001b[0mrenderer\u001b[0m\u001b[0;34m)\u001b[0m\u001b[0;34m:\u001b[0m\u001b[0;34m\u001b[0m\u001b[0;34m\u001b[0m\u001b[0m\n",
            "\u001b[0;32m/usr/local/lib/python3.6/dist-packages/matplotlib/image.py\u001b[0m in \u001b[0;36m_make_image\u001b[0;34m(self, A, in_bbox, out_bbox, clip_bbox, magnification, unsampled, round_to_pixel_border)\u001b[0m\n\u001b[1;32m    520\u001b[0m                 \u001b[0malpha\u001b[0m \u001b[0;34m=\u001b[0m \u001b[0mself\u001b[0m\u001b[0;34m.\u001b[0m\u001b[0m_get_scalar_alpha\u001b[0m\u001b[0;34m(\u001b[0m\u001b[0;34m)\u001b[0m\u001b[0;34m\u001b[0m\u001b[0;34m\u001b[0m\u001b[0m\n\u001b[1;32m    521\u001b[0m                 output_alpha = _resample(  # resample alpha channel\n\u001b[0;32m--> 522\u001b[0;31m                     self, A[..., 3], out_shape, t, alpha=alpha)\n\u001b[0m\u001b[1;32m    523\u001b[0m                 output = _resample(  # resample rgb channels\n\u001b[1;32m    524\u001b[0m                     self, _rgb_to_rgba(A[..., :3]), out_shape, t, alpha=alpha)\n",
            "\u001b[0;32m/usr/local/lib/python3.6/dist-packages/matplotlib/image.py\u001b[0m in \u001b[0;36m_resample\u001b[0;34m(image_obj, data, out_shape, transform, resample, alpha)\u001b[0m\n\u001b[1;32m    200\u001b[0m                     \u001b[0malpha\u001b[0m\u001b[0;34m,\u001b[0m\u001b[0;34m\u001b[0m\u001b[0;34m\u001b[0m\u001b[0m\n\u001b[1;32m    201\u001b[0m                     \u001b[0mimage_obj\u001b[0m\u001b[0;34m.\u001b[0m\u001b[0mget_filternorm\u001b[0m\u001b[0;34m(\u001b[0m\u001b[0;34m)\u001b[0m\u001b[0;34m,\u001b[0m\u001b[0;34m\u001b[0m\u001b[0;34m\u001b[0m\u001b[0m\n\u001b[0;32m--> 202\u001b[0;31m                     image_obj.get_filterrad())\n\u001b[0m\u001b[1;32m    203\u001b[0m     \u001b[0;32mreturn\u001b[0m \u001b[0mout\u001b[0m\u001b[0;34m\u001b[0m\u001b[0;34m\u001b[0m\u001b[0m\n\u001b[1;32m    204\u001b[0m \u001b[0;34m\u001b[0m\u001b[0m\n",
            "\u001b[0;31mKeyboardInterrupt\u001b[0m: "
          ]
        },
        {
          "output_type": "display_data",
          "data": {
            "image/png": "[encoded data removed]",
            "text/plain": [
              "<Figure size 432x288 with 1 Axes>"
            ]
          },
          "metadata": {
            "tags": [],
            "needs_background": "light"
          }
        }
      ]
    }
  ]
}